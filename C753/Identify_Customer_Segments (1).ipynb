{
 "cells": [
  {
   "cell_type": "markdown",
   "metadata": {},
   "source": [
    "# Project: Identify Customer Segments\n",
    "by Baily Jepsen\n",
    "\n",
    "## Introduction\n",
    "In this project, you will apply unsupervised learning techniques to identify segments of the population that form the core customer base for a mail-order sales company in Germany. These segments can then be used to direct marketing campaigns towards audiences that will have the highest expected rate of returns. The data that you will use has been provided by our partners at Bertelsmann Arvato Analytics, and represents a real-life data science task.\n",
    "\n",
    "This notebook will help you complete this task by providing a framework within which you will perform your analysis steps. In each step of the project, you will see some text describing the subtask that you will perform, followed by one or more code cells for you to complete your work. **Feel free to add additional code and markdown cells as you go along so that you can explore everything in precise chunks.** The code cells provided in the base template will outline only the major tasks, and will usually not be enough to cover all of the minor tasks that comprise it.\n",
    "\n",
    "It should be noted that while there will be precise guidelines on how you should handle certain tasks in the project, there will also be places where an exact specification is not provided. **There will be times in the project where you will need to make and justify your own decisions on how to treat the data.** These are places where there may not be only one way to handle the data. In real-life tasks, there may be many valid ways to approach an analysis task. One of the most important things you can do is clearly document your approach so that other scientists can understand the decisions you've made.\n",
    "\n",
    "At the end of most sections, there will be a Markdown cell labeled **Discussion**. In these cells, you will report your findings for the completed section, as well as document the decisions that you made in your approach to each subtask. **Your project will be evaluated not just on the code used to complete the tasks outlined, but also your communication about your observations and conclusions at each stage.**"
   ]
  },
  {
   "cell_type": "code",
   "execution_count": 1,
   "metadata": {},
   "outputs": [],
   "source": [
    "# import libraries here; add more as necessary\n",
    "import numpy as np\n",
    "import pandas as pd\n",
    "import matplotlib.pyplot as plt\n",
    "import seaborn as sns\n",
    "\n",
    "from sklearn.preprocessing import Imputer, StandardScaler\n",
    "from sklearn.decomposition import PCA\n",
    "from sklearn.cluster import KMeans\n",
    "from collections import Counter\n",
    "\n",
    "# magic word for producing visualizations in notebook\n",
    "%matplotlib inline"
   ]
  },
  {
   "cell_type": "markdown",
   "metadata": {},
   "source": [
    "### Step 0: Load the Data\n",
    "\n",
    "There are four files associated with this project (not including this one):\n",
    "\n",
    "- `Udacity_AZDIAS_Subset.csv`: Demographics data for the general population of Germany; 891211 persons (rows) x 85 features (columns).\n",
    "- `Udacity_CUSTOMERS_Subset.csv`: Demographics data for customers of a mail-order company; 191652 persons (rows) x 85 features (columns).\n",
    "- `Data_Dictionary.md`: Detailed information file about the features in the provided datasets.\n",
    "- `AZDIAS_Feature_Summary.csv`: Summary of feature attributes for demographics data; 85 features (rows) x 4 columns\n",
    "\n",
    "Each row of the demographics files represents a single person, but also includes information outside of individuals, including information about their household, building, and neighborhood. You will use this information to cluster the general population into groups with similar demographic properties. Then, you will see how the people in the customers dataset fit into those created clusters. The hope here is that certain clusters are over-represented in the customers data, as compared to the general population; those over-represented clusters will be assumed to be part of the core userbase. This information can then be used for further applications, such as targeting for a marketing campaign.\n",
    "\n",
    "To start off with, load in the demographics data for the general population into a pandas DataFrame, and do the same for the feature attributes summary. Note for all of the `.csv` data files in this project: they're semicolon (`;`) delimited, so you'll need an additional argument in your [`read_csv()`](https://pandas.pydata.org/pandas-docs/stable/generated/pandas.read_csv.html) call to read in the data properly. Also, considering the size of the main dataset, it may take some time for it to load completely.\n",
    "\n",
    "Once the dataset is loaded, it's recommended that you take a little bit of time just browsing the general structure of the dataset and feature summary file. You'll be getting deep into the innards of the cleaning in the first major step of the project, so gaining some general familiarity can help you get your bearings."
   ]
  },
  {
   "cell_type": "code",
   "execution_count": 2,
   "metadata": {},
   "outputs": [],
   "source": [
    "# Load in the general demographics data.\n",
    "azdias = pd.read_csv('Udacity_AZDIAS_Subset.csv', sep=';')\n",
    "\n",
    "# Load in the feature summary file.\n",
    "feat_info = pd.read_csv('AZDIAS_Feature_Summary.csv', sep=';')"
   ]
  },
  {
   "cell_type": "code",
   "execution_count": 3,
   "metadata": {},
   "outputs": [
    {
     "name": "stdout",
     "output_type": "stream",
     "text": [
      "AZDIAS Dataset Shape\n",
      "Rows: 891221\n",
      "Columns: 85\n",
      "\n",
      "AZDIAS Feature Summary Shape\n",
      "Rows: 85\n",
      "Columns: 4\n"
     ]
    }
   ],
   "source": [
    "# Check the structure of the data after it's loaded (e.g. print the number of\n",
    "# rows and columns, print the first few rows).\n",
    "n_rows = azdias.shape[0]\n",
    "n_cols = azdias.shape[1]\n",
    "\n",
    "print('AZDIAS Dataset Shape')\n",
    "print('Rows: {}'.format(n_rows))\n",
    "print('Columns: {}'.format(n_cols))\n",
    "\n",
    "n_rows = feat_info.shape[0]\n",
    "n_cols = feat_info.shape[1]\n",
    "\n",
    "print('\\nAZDIAS Feature Summary Shape')\n",
    "print('Rows: {}'.format(n_rows))\n",
    "print('Columns: {}'.format(n_cols))"
   ]
  },
  {
   "cell_type": "code",
   "execution_count": 4,
   "metadata": {},
   "outputs": [
    {
     "data": {
      "text/html": [
       "<div>\n",
       "<style scoped>\n",
       "    .dataframe tbody tr th:only-of-type {\n",
       "        vertical-align: middle;\n",
       "    }\n",
       "\n",
       "    .dataframe tbody tr th {\n",
       "        vertical-align: top;\n",
       "    }\n",
       "\n",
       "    .dataframe thead th {\n",
       "        text-align: right;\n",
       "    }\n",
       "</style>\n",
       "<table border=\"1\" class=\"dataframe\">\n",
       "  <thead>\n",
       "    <tr style=\"text-align: right;\">\n",
       "      <th></th>\n",
       "      <th>AGER_TYP</th>\n",
       "      <th>ALTERSKATEGORIE_GROB</th>\n",
       "      <th>ANREDE_KZ</th>\n",
       "      <th>CJT_GESAMTTYP</th>\n",
       "      <th>FINANZ_MINIMALIST</th>\n",
       "      <th>FINANZ_SPARER</th>\n",
       "      <th>FINANZ_VORSORGER</th>\n",
       "      <th>FINANZ_ANLEGER</th>\n",
       "      <th>FINANZ_UNAUFFAELLIGER</th>\n",
       "      <th>FINANZ_HAUSBAUER</th>\n",
       "      <th>...</th>\n",
       "      <th>PLZ8_ANTG1</th>\n",
       "      <th>PLZ8_ANTG2</th>\n",
       "      <th>PLZ8_ANTG3</th>\n",
       "      <th>PLZ8_ANTG4</th>\n",
       "      <th>PLZ8_BAUMAX</th>\n",
       "      <th>PLZ8_HHZ</th>\n",
       "      <th>PLZ8_GBZ</th>\n",
       "      <th>ARBEIT</th>\n",
       "      <th>ORTSGR_KLS9</th>\n",
       "      <th>RELAT_AB</th>\n",
       "    </tr>\n",
       "  </thead>\n",
       "  <tbody>\n",
       "    <tr>\n",
       "      <th>0</th>\n",
       "      <td>-1</td>\n",
       "      <td>2</td>\n",
       "      <td>1</td>\n",
       "      <td>2.0</td>\n",
       "      <td>3</td>\n",
       "      <td>4</td>\n",
       "      <td>3</td>\n",
       "      <td>5</td>\n",
       "      <td>5</td>\n",
       "      <td>3</td>\n",
       "      <td>...</td>\n",
       "      <td>NaN</td>\n",
       "      <td>NaN</td>\n",
       "      <td>NaN</td>\n",
       "      <td>NaN</td>\n",
       "      <td>NaN</td>\n",
       "      <td>NaN</td>\n",
       "      <td>NaN</td>\n",
       "      <td>NaN</td>\n",
       "      <td>NaN</td>\n",
       "      <td>NaN</td>\n",
       "    </tr>\n",
       "    <tr>\n",
       "      <th>1</th>\n",
       "      <td>-1</td>\n",
       "      <td>1</td>\n",
       "      <td>2</td>\n",
       "      <td>5.0</td>\n",
       "      <td>1</td>\n",
       "      <td>5</td>\n",
       "      <td>2</td>\n",
       "      <td>5</td>\n",
       "      <td>4</td>\n",
       "      <td>5</td>\n",
       "      <td>...</td>\n",
       "      <td>2.0</td>\n",
       "      <td>3.0</td>\n",
       "      <td>2.0</td>\n",
       "      <td>1.0</td>\n",
       "      <td>1.0</td>\n",
       "      <td>5.0</td>\n",
       "      <td>4.0</td>\n",
       "      <td>3.0</td>\n",
       "      <td>5.0</td>\n",
       "      <td>4.0</td>\n",
       "    </tr>\n",
       "    <tr>\n",
       "      <th>2</th>\n",
       "      <td>-1</td>\n",
       "      <td>3</td>\n",
       "      <td>2</td>\n",
       "      <td>3.0</td>\n",
       "      <td>1</td>\n",
       "      <td>4</td>\n",
       "      <td>1</td>\n",
       "      <td>2</td>\n",
       "      <td>3</td>\n",
       "      <td>5</td>\n",
       "      <td>...</td>\n",
       "      <td>3.0</td>\n",
       "      <td>3.0</td>\n",
       "      <td>1.0</td>\n",
       "      <td>0.0</td>\n",
       "      <td>1.0</td>\n",
       "      <td>4.0</td>\n",
       "      <td>4.0</td>\n",
       "      <td>3.0</td>\n",
       "      <td>5.0</td>\n",
       "      <td>2.0</td>\n",
       "    </tr>\n",
       "    <tr>\n",
       "      <th>3</th>\n",
       "      <td>2</td>\n",
       "      <td>4</td>\n",
       "      <td>2</td>\n",
       "      <td>2.0</td>\n",
       "      <td>4</td>\n",
       "      <td>2</td>\n",
       "      <td>5</td>\n",
       "      <td>2</td>\n",
       "      <td>1</td>\n",
       "      <td>2</td>\n",
       "      <td>...</td>\n",
       "      <td>2.0</td>\n",
       "      <td>2.0</td>\n",
       "      <td>2.0</td>\n",
       "      <td>0.0</td>\n",
       "      <td>1.0</td>\n",
       "      <td>3.0</td>\n",
       "      <td>4.0</td>\n",
       "      <td>2.0</td>\n",
       "      <td>3.0</td>\n",
       "      <td>3.0</td>\n",
       "    </tr>\n",
       "    <tr>\n",
       "      <th>4</th>\n",
       "      <td>-1</td>\n",
       "      <td>3</td>\n",
       "      <td>1</td>\n",
       "      <td>5.0</td>\n",
       "      <td>4</td>\n",
       "      <td>3</td>\n",
       "      <td>4</td>\n",
       "      <td>1</td>\n",
       "      <td>3</td>\n",
       "      <td>2</td>\n",
       "      <td>...</td>\n",
       "      <td>2.0</td>\n",
       "      <td>4.0</td>\n",
       "      <td>2.0</td>\n",
       "      <td>1.0</td>\n",
       "      <td>2.0</td>\n",
       "      <td>3.0</td>\n",
       "      <td>3.0</td>\n",
       "      <td>4.0</td>\n",
       "      <td>6.0</td>\n",
       "      <td>5.0</td>\n",
       "    </tr>\n",
       "  </tbody>\n",
       "</table>\n",
       "<p>5 rows × 85 columns</p>\n",
       "</div>"
      ],
      "text/plain": [
       "   AGER_TYP  ALTERSKATEGORIE_GROB  ANREDE_KZ  CJT_GESAMTTYP  \\\n",
       "0        -1                     2          1            2.0   \n",
       "1        -1                     1          2            5.0   \n",
       "2        -1                     3          2            3.0   \n",
       "3         2                     4          2            2.0   \n",
       "4        -1                     3          1            5.0   \n",
       "\n",
       "   FINANZ_MINIMALIST  FINANZ_SPARER  FINANZ_VORSORGER  FINANZ_ANLEGER  \\\n",
       "0                  3              4                 3               5   \n",
       "1                  1              5                 2               5   \n",
       "2                  1              4                 1               2   \n",
       "3                  4              2                 5               2   \n",
       "4                  4              3                 4               1   \n",
       "\n",
       "   FINANZ_UNAUFFAELLIGER  FINANZ_HAUSBAUER    ...     PLZ8_ANTG1  PLZ8_ANTG2  \\\n",
       "0                      5                 3    ...            NaN         NaN   \n",
       "1                      4                 5    ...            2.0         3.0   \n",
       "2                      3                 5    ...            3.0         3.0   \n",
       "3                      1                 2    ...            2.0         2.0   \n",
       "4                      3                 2    ...            2.0         4.0   \n",
       "\n",
       "   PLZ8_ANTG3  PLZ8_ANTG4  PLZ8_BAUMAX  PLZ8_HHZ  PLZ8_GBZ  ARBEIT  \\\n",
       "0         NaN         NaN          NaN       NaN       NaN     NaN   \n",
       "1         2.0         1.0          1.0       5.0       4.0     3.0   \n",
       "2         1.0         0.0          1.0       4.0       4.0     3.0   \n",
       "3         2.0         0.0          1.0       3.0       4.0     2.0   \n",
       "4         2.0         1.0          2.0       3.0       3.0     4.0   \n",
       "\n",
       "   ORTSGR_KLS9  RELAT_AB  \n",
       "0          NaN       NaN  \n",
       "1          5.0       4.0  \n",
       "2          5.0       2.0  \n",
       "3          3.0       3.0  \n",
       "4          6.0       5.0  \n",
       "\n",
       "[5 rows x 85 columns]"
      ]
     },
     "execution_count": 4,
     "metadata": {},
     "output_type": "execute_result"
    }
   ],
   "source": [
    "azdias.head()"
   ]
  },
  {
   "cell_type": "code",
   "execution_count": 5,
   "metadata": {},
   "outputs": [
    {
     "name": "stdout",
     "output_type": "stream",
     "text": [
      "<class 'pandas.core.frame.DataFrame'>\n",
      "RangeIndex: 891221 entries, 0 to 891220\n",
      "Data columns (total 85 columns):\n",
      "AGER_TYP                 891221 non-null int64\n",
      "ALTERSKATEGORIE_GROB     891221 non-null int64\n",
      "ANREDE_KZ                891221 non-null int64\n",
      "CJT_GESAMTTYP            886367 non-null float64\n",
      "FINANZ_MINIMALIST        891221 non-null int64\n",
      "FINANZ_SPARER            891221 non-null int64\n",
      "FINANZ_VORSORGER         891221 non-null int64\n",
      "FINANZ_ANLEGER           891221 non-null int64\n",
      "FINANZ_UNAUFFAELLIGER    891221 non-null int64\n",
      "FINANZ_HAUSBAUER         891221 non-null int64\n",
      "FINANZTYP                891221 non-null int64\n",
      "GEBURTSJAHR              891221 non-null int64\n",
      "GFK_URLAUBERTYP          886367 non-null float64\n",
      "GREEN_AVANTGARDE         891221 non-null int64\n",
      "HEALTH_TYP               891221 non-null int64\n",
      "LP_LEBENSPHASE_FEIN      886367 non-null float64\n",
      "LP_LEBENSPHASE_GROB      886367 non-null float64\n",
      "LP_FAMILIE_FEIN          886367 non-null float64\n",
      "LP_FAMILIE_GROB          886367 non-null float64\n",
      "LP_STATUS_FEIN           886367 non-null float64\n",
      "LP_STATUS_GROB           886367 non-null float64\n",
      "NATIONALITAET_KZ         891221 non-null int64\n",
      "PRAEGENDE_JUGENDJAHRE    891221 non-null int64\n",
      "RETOURTYP_BK_S           886367 non-null float64\n",
      "SEMIO_SOZ                891221 non-null int64\n",
      "SEMIO_FAM                891221 non-null int64\n",
      "SEMIO_REL                891221 non-null int64\n",
      "SEMIO_MAT                891221 non-null int64\n",
      "SEMIO_VERT               891221 non-null int64\n",
      "SEMIO_LUST               891221 non-null int64\n",
      "SEMIO_ERL                891221 non-null int64\n",
      "SEMIO_KULT               891221 non-null int64\n",
      "SEMIO_RAT                891221 non-null int64\n",
      "SEMIO_KRIT               891221 non-null int64\n",
      "SEMIO_DOM                891221 non-null int64\n",
      "SEMIO_KAEM               891221 non-null int64\n",
      "SEMIO_PFLICHT            891221 non-null int64\n",
      "SEMIO_TRADV              891221 non-null int64\n",
      "SHOPPER_TYP              891221 non-null int64\n",
      "SOHO_KZ                  817722 non-null float64\n",
      "TITEL_KZ                 817722 non-null float64\n",
      "VERS_TYP                 891221 non-null int64\n",
      "ZABEOTYP                 891221 non-null int64\n",
      "ALTER_HH                 817722 non-null float64\n",
      "ANZ_PERSONEN             817722 non-null float64\n",
      "ANZ_TITEL                817722 non-null float64\n",
      "HH_EINKOMMEN_SCORE       872873 non-null float64\n",
      "KK_KUNDENTYP             306609 non-null float64\n",
      "W_KEIT_KIND_HH           783619 non-null float64\n",
      "WOHNDAUER_2008           817722 non-null float64\n",
      "ANZ_HAUSHALTE_AKTIV      798073 non-null float64\n",
      "ANZ_HH_TITEL             794213 non-null float64\n",
      "GEBAEUDETYP              798073 non-null float64\n",
      "KONSUMNAEHE              817252 non-null float64\n",
      "MIN_GEBAEUDEJAHR         798073 non-null float64\n",
      "OST_WEST_KZ              798073 non-null object\n",
      "WOHNLAGE                 798073 non-null float64\n",
      "CAMEO_DEUG_2015          792242 non-null object\n",
      "CAMEO_DEU_2015           792242 non-null object\n",
      "CAMEO_INTL_2015          792242 non-null object\n",
      "KBA05_ANTG1              757897 non-null float64\n",
      "KBA05_ANTG2              757897 non-null float64\n",
      "KBA05_ANTG3              757897 non-null float64\n",
      "KBA05_ANTG4              757897 non-null float64\n",
      "KBA05_BAUMAX             757897 non-null float64\n",
      "KBA05_GBZ                757897 non-null float64\n",
      "BALLRAUM                 797481 non-null float64\n",
      "EWDICHTE                 797481 non-null float64\n",
      "INNENSTADT               797481 non-null float64\n",
      "GEBAEUDETYP_RASTER       798066 non-null float64\n",
      "KKK                      770025 non-null float64\n",
      "MOBI_REGIO               757897 non-null float64\n",
      "ONLINE_AFFINITAET        886367 non-null float64\n",
      "REGIOTYP                 770025 non-null float64\n",
      "KBA13_ANZAHL_PKW         785421 non-null float64\n",
      "PLZ8_ANTG1               774706 non-null float64\n",
      "PLZ8_ANTG2               774706 non-null float64\n",
      "PLZ8_ANTG3               774706 non-null float64\n",
      "PLZ8_ANTG4               774706 non-null float64\n",
      "PLZ8_BAUMAX              774706 non-null float64\n",
      "PLZ8_HHZ                 774706 non-null float64\n",
      "PLZ8_GBZ                 774706 non-null float64\n",
      "ARBEIT                   794005 non-null float64\n",
      "ORTSGR_KLS9              794005 non-null float64\n",
      "RELAT_AB                 794005 non-null float64\n",
      "dtypes: float64(49), int64(32), object(4)\n",
      "memory usage: 578.0+ MB\n"
     ]
    }
   ],
   "source": [
    "azdias.info()"
   ]
  },
  {
   "cell_type": "code",
   "execution_count": 6,
   "metadata": {},
   "outputs": [
    {
     "data": {
      "text/html": [
       "<div>\n",
       "<style scoped>\n",
       "    .dataframe tbody tr th:only-of-type {\n",
       "        vertical-align: middle;\n",
       "    }\n",
       "\n",
       "    .dataframe tbody tr th {\n",
       "        vertical-align: top;\n",
       "    }\n",
       "\n",
       "    .dataframe thead th {\n",
       "        text-align: right;\n",
       "    }\n",
       "</style>\n",
       "<table border=\"1\" class=\"dataframe\">\n",
       "  <thead>\n",
       "    <tr style=\"text-align: right;\">\n",
       "      <th></th>\n",
       "      <th>attribute</th>\n",
       "      <th>information_level</th>\n",
       "      <th>type</th>\n",
       "      <th>missing_or_unknown</th>\n",
       "    </tr>\n",
       "  </thead>\n",
       "  <tbody>\n",
       "    <tr>\n",
       "      <th>0</th>\n",
       "      <td>AGER_TYP</td>\n",
       "      <td>person</td>\n",
       "      <td>categorical</td>\n",
       "      <td>[-1,0]</td>\n",
       "    </tr>\n",
       "    <tr>\n",
       "      <th>1</th>\n",
       "      <td>ALTERSKATEGORIE_GROB</td>\n",
       "      <td>person</td>\n",
       "      <td>ordinal</td>\n",
       "      <td>[-1,0,9]</td>\n",
       "    </tr>\n",
       "    <tr>\n",
       "      <th>2</th>\n",
       "      <td>ANREDE_KZ</td>\n",
       "      <td>person</td>\n",
       "      <td>categorical</td>\n",
       "      <td>[-1,0]</td>\n",
       "    </tr>\n",
       "    <tr>\n",
       "      <th>3</th>\n",
       "      <td>CJT_GESAMTTYP</td>\n",
       "      <td>person</td>\n",
       "      <td>categorical</td>\n",
       "      <td>[0]</td>\n",
       "    </tr>\n",
       "    <tr>\n",
       "      <th>4</th>\n",
       "      <td>FINANZ_MINIMALIST</td>\n",
       "      <td>person</td>\n",
       "      <td>ordinal</td>\n",
       "      <td>[-1]</td>\n",
       "    </tr>\n",
       "  </tbody>\n",
       "</table>\n",
       "</div>"
      ],
      "text/plain": [
       "              attribute information_level         type missing_or_unknown\n",
       "0              AGER_TYP            person  categorical             [-1,0]\n",
       "1  ALTERSKATEGORIE_GROB            person      ordinal           [-1,0,9]\n",
       "2             ANREDE_KZ            person  categorical             [-1,0]\n",
       "3         CJT_GESAMTTYP            person  categorical                [0]\n",
       "4     FINANZ_MINIMALIST            person      ordinal               [-1]"
      ]
     },
     "execution_count": 6,
     "metadata": {},
     "output_type": "execute_result"
    }
   ],
   "source": [
    "feat_info.head()"
   ]
  },
  {
   "cell_type": "code",
   "execution_count": 7,
   "metadata": {},
   "outputs": [
    {
     "name": "stdout",
     "output_type": "stream",
     "text": [
      "<class 'pandas.core.frame.DataFrame'>\n",
      "RangeIndex: 85 entries, 0 to 84\n",
      "Data columns (total 4 columns):\n",
      "attribute             85 non-null object\n",
      "information_level     85 non-null object\n",
      "type                  85 non-null object\n",
      "missing_or_unknown    85 non-null object\n",
      "dtypes: object(4)\n",
      "memory usage: 2.7+ KB\n"
     ]
    }
   ],
   "source": [
    "feat_info.info()"
   ]
  },
  {
   "cell_type": "markdown",
   "metadata": {},
   "source": [
    "## Step 1: Preprocessing\n",
    "\n",
    "### Step 1.1: Assess Missing Data\n",
    "\n",
    "The feature summary file contains a summary of properties for each demographics data column. You will use this file to help you make cleaning decisions during this stage of the project. First of all, you should assess the demographics data in terms of missing data. Pay attention to the following points as you perform your analysis, and take notes on what you observe. Make sure that you fill in the **Discussion** cell with your findings and decisions at the end of each step that has one!\n",
    "\n",
    "#### Step 1.1.1: Convert Missing Value Codes to NaNs\n",
    "The fourth column of the feature attributes summary (loaded in above as `feat_info`) documents the codes from the data dictionary that indicate missing or unknown data. While the file encodes this as a list (e.g. `[-1,0]`), this will get read in as a string object. You'll need to do a little bit of parsing to make use of it to identify and clean the data. Convert data that matches a 'missing' or 'unknown' value code into a numpy NaN value. You might want to see how much data takes on a 'missing' or 'unknown' code, and how much data is naturally missing, as a point of interest."
   ]
  },
  {
   "cell_type": "code",
   "execution_count": 8,
   "metadata": {},
   "outputs": [
    {
     "name": "stdout",
     "output_type": "stream",
     "text": [
      "Count of missing values: 4896838\n"
     ]
    }
   ],
   "source": [
    "pre_missing_vals = azdias.isnull().values.sum()\n",
    "print('Count of missing values: {}'.format(pre_missing_vals))"
   ]
  },
  {
   "cell_type": "code",
   "execution_count": 9,
   "metadata": {},
   "outputs": [],
   "source": [
    "# Identify missing or unknown data values and convert them to NaNs.\n",
    "count = 0\n",
    "\n",
    "for index in range(len(feat_info)):\n",
    "    # Parse and clean `missing_or_unknown` values from `feat_info`\n",
    "    nan_data = feat_info.iloc[index]['missing_or_unknown']\n",
    "    nan_data = nan_data.strip('[]')\n",
    "    nan_data = nan_data.split(sep=',')\n",
    "    \n",
    "    # If the `missing_or_unknown` value is not \"X\", \"XX\", or empty then convert to an int\n",
    "    nan_data = [int(value) if (value!='X' and value!='XX' and value!='') \n",
    "                else value for value in nan_data]\n",
    "    \n",
    "    if nan_data != ['']:\n",
    "        # Replace missing or unkown values in the dataset with NaNs\n",
    "        azdias = azdias.replace({feat_info.iloc[index]['attribute']: nan_data}, np.nan)\n",
    "        count += 1"
   ]
  },
  {
   "cell_type": "code",
   "execution_count": 10,
   "metadata": {},
   "outputs": [
    {
     "name": "stdout",
     "output_type": "stream",
     "text": [
      "Columns impacted: 75/85\n",
      "Values impacted: 3477091\n",
      "Count of missing values after conversion: 8373929\n"
     ]
    }
   ],
   "source": [
    "post_missing_vals = azdias.isnull().values.sum()\n",
    "\n",
    "print('Columns impacted: {}/85'.format(count))\n",
    "print('Values impacted: {}'.format(post_missing_vals - pre_missing_vals))\n",
    "print('Count of missing values after conversion: {}'.format(post_missing_vals))"
   ]
  },
  {
   "cell_type": "markdown",
   "metadata": {},
   "source": [
    "#### Step 1.1.2: Assess Missing Data in Each Column\n",
    "\n",
    "How much missing data is present in each column? There are a few columns that are outliers in terms of the proportion of values that are missing. You will want to use matplotlib's [`hist()`](https://matplotlib.org/api/_as_gen/matplotlib.pyplot.hist.html) function to visualize the distribution of missing value counts to find these columns. Identify and document these columns. While some of these columns might have justifications for keeping or re-encoding the data, for this project you should just remove them from the dataframe. (Feel free to make remarks about these outlier columns in the discussion, however!)\n",
    "\n",
    "For the remaining features, are there any patterns in which columns have, or share, missing data?"
   ]
  },
  {
   "cell_type": "code",
   "execution_count": 11,
   "metadata": {},
   "outputs": [
    {
     "name": "stdout",
     "output_type": "stream",
     "text": [
      "ZABEOTYP                      0\n",
      "SEMIO_TRADV                   0\n",
      "SEMIO_PFLICHT                 0\n",
      "SEMIO_KAEM                    0\n",
      "SEMIO_DOM                     0\n",
      "SEMIO_KRIT                    0\n",
      "SEMIO_RAT                     0\n",
      "SEMIO_KULT                    0\n",
      "SEMIO_ERL                     0\n",
      "SEMIO_LUST                    0\n",
      "SEMIO_VERT                    0\n",
      "SEMIO_MAT                     0\n",
      "SEMIO_REL                     0\n",
      "SEMIO_SOZ                     0\n",
      "SEMIO_FAM                     0\n",
      "FINANZ_VORSORGER              0\n",
      "ANREDE_KZ                     0\n",
      "FINANZ_MINIMALIST             0\n",
      "FINANZ_SPARER                 0\n",
      "FINANZ_ANLEGER                0\n",
      "FINANZ_UNAUFFAELLIGER         0\n",
      "FINANZ_HAUSBAUER              0\n",
      "GREEN_AVANTGARDE              0\n",
      "FINANZTYP                     0\n",
      "ALTERSKATEGORIE_GROB       2881\n",
      "GFK_URLAUBERTYP            4854\n",
      "LP_STATUS_GROB             4854\n",
      "LP_STATUS_FEIN             4854\n",
      "ONLINE_AFFINITAET          4854\n",
      "RETOURTYP_BK_S             4854\n",
      "                          ...  \n",
      "CAMEO_INTL_2015           99352\n",
      "ANZ_HAUSHALTE_AKTIV       99611\n",
      "KBA13_ANZAHL_PKW         105800\n",
      "PRAEGENDE_JUGENDJAHRE    108164\n",
      "NATIONALITAET_KZ         108315\n",
      "HEALTH_TYP               111196\n",
      "VERS_TYP                 111196\n",
      "SHOPPER_TYP              111196\n",
      "PLZ8_ANTG2               116515\n",
      "PLZ8_ANTG3               116515\n",
      "PLZ8_ANTG1               116515\n",
      "PLZ8_ANTG4               116515\n",
      "PLZ8_BAUMAX              116515\n",
      "PLZ8_HHZ                 116515\n",
      "PLZ8_GBZ                 116515\n",
      "KBA05_ANTG3              133324\n",
      "KBA05_ANTG2              133324\n",
      "KBA05_ANTG1              133324\n",
      "MOBI_REGIO               133324\n",
      "KBA05_GBZ                133324\n",
      "KBA05_ANTG4              133324\n",
      "W_KEIT_KIND_HH           147988\n",
      "KKK                      158064\n",
      "REGIOTYP                 158064\n",
      "ALTER_HH                 310267\n",
      "GEBURTSJAHR              392318\n",
      "KBA05_BAUMAX             476524\n",
      "KK_KUNDENTYP             584612\n",
      "AGER_TYP                 685843\n",
      "TITEL_KZ                 889061\n",
      "Length: 85, dtype: int64\n"
     ]
    }
   ],
   "source": [
    "# Perform an assessment of how much missing data there is in each column of the\n",
    "# dataset\n",
    "\n",
    "# Quick check for columns that have no missing values\n",
    "null_cols = azdias.isnull().sum()\n",
    "null_cols.sort_values(inplace=True)\n",
    "print(null_cols)"
   ]
  },
  {
   "cell_type": "code",
   "execution_count": 12,
   "metadata": {},
   "outputs": [
    {
     "name": "stdout",
     "output_type": "stream",
     "text": [
      "ALTERSKATEGORIE_GROB      0.323264\n",
      "GFK_URLAUBERTYP           0.544646\n",
      "LP_STATUS_GROB            0.544646\n",
      "LP_STATUS_FEIN            0.544646\n",
      "ONLINE_AFFINITAET         0.544646\n",
      "RETOURTYP_BK_S            0.544646\n",
      "CJT_GESAMTTYP             0.544646\n",
      "HH_EINKOMMEN_SCORE        2.058749\n",
      "WOHNDAUER_2008            8.247000\n",
      "ANZ_TITEL                 8.247000\n",
      "SOHO_KZ                   8.247000\n",
      "ANZ_PERSONEN              8.247000\n",
      "KONSUMNAEHE               8.299737\n",
      "LP_FAMILIE_FEIN           8.728699\n",
      "LP_FAMILIE_GROB           8.728699\n",
      "OST_WEST_KZ              10.451729\n",
      "WOHNLAGE                 10.451729\n",
      "GEBAEUDETYP              10.451729\n",
      "MIN_GEBAEUDEJAHR         10.451729\n",
      "GEBAEUDETYP_RASTER       10.452514\n",
      "BALLRAUM                 10.518154\n",
      "EWDICHTE                 10.518154\n",
      "INNENSTADT               10.518154\n",
      "LP_LEBENSPHASE_GROB      10.611509\n",
      "ANZ_HH_TITEL             10.884842\n",
      "ORTSGR_KLS9              10.914689\n",
      "ARBEIT                   10.926022\n",
      "RELAT_AB                 10.926022\n",
      "LP_LEBENSPHASE_FEIN      10.954859\n",
      "CAMEO_INTL_2015          11.147852\n",
      "                           ...    \n",
      "CAMEO_DEUG_2015          11.147852\n",
      "ANZ_HAUSHALTE_AKTIV      11.176913\n",
      "KBA13_ANZAHL_PKW         11.871354\n",
      "PRAEGENDE_JUGENDJAHRE    12.136608\n",
      "NATIONALITAET_KZ         12.153551\n",
      "HEALTH_TYP               12.476816\n",
      "VERS_TYP                 12.476816\n",
      "SHOPPER_TYP              12.476816\n",
      "PLZ8_HHZ                 13.073637\n",
      "PLZ8_BAUMAX              13.073637\n",
      "PLZ8_ANTG4               13.073637\n",
      "PLZ8_GBZ                 13.073637\n",
      "PLZ8_ANTG3               13.073637\n",
      "PLZ8_ANTG2               13.073637\n",
      "PLZ8_ANTG1               13.073637\n",
      "KBA05_GBZ                14.959701\n",
      "MOBI_REGIO               14.959701\n",
      "KBA05_ANTG4              14.959701\n",
      "KBA05_ANTG2              14.959701\n",
      "KBA05_ANTG3              14.959701\n",
      "KBA05_ANTG1              14.959701\n",
      "W_KEIT_KIND_HH           16.605084\n",
      "KKK                      17.735668\n",
      "REGIOTYP                 17.735668\n",
      "ALTER_HH                 34.813699\n",
      "GEBURTSJAHR              44.020282\n",
      "KBA05_BAUMAX             53.468668\n",
      "KK_KUNDENTYP             65.596749\n",
      "AGER_TYP                 76.955435\n",
      "TITEL_KZ                 99.757636\n",
      "Length: 61, dtype: float64\n"
     ]
    }
   ],
   "source": [
    "# Convert the number of missing values to a percentage \n",
    "# for columns with missing values\n",
    "percent_missing = null_cols[null_cols > 0] / azdias.shape[0] * 100\n",
    "print(percent_missing.sort_values())"
   ]
  },
  {
   "cell_type": "code",
   "execution_count": 13,
   "metadata": {},
   "outputs": [
    {
     "data": {
      "image/png": "[encoded data removed]",
      "text/plain": [
       "<matplotlib.figure.Figure at 0x7f1a4c8258d0>"
      ]
     },
     "metadata": {
      "needs_background": "light"
     },
     "output_type": "display_data"
    }
   ],
   "source": [
    "# Investigate patterns in the amount of missing data in each column.\n",
    "plt.hist(percent_missing);\n",
    "plt.title('Column Missing Values Histogram');\n",
    "plt.xlabel('Percentage of Missing Values Per Column (%)');\n",
    "plt.ylabel('Number of Columns');"
   ]
  },
  {
   "cell_type": "code",
   "execution_count": 14,
   "metadata": {},
   "outputs": [
    {
     "data": {
      "text/plain": [
       "ALTER_HH        34.813699\n",
       "GEBURTSJAHR     44.020282\n",
       "KBA05_BAUMAX    53.468668\n",
       "KK_KUNDENTYP    65.596749\n",
       "AGER_TYP        76.955435\n",
       "TITEL_KZ        99.757636\n",
       "dtype: float64"
      ]
     },
     "execution_count": 14,
     "metadata": {},
     "output_type": "execute_result"
    }
   ],
   "source": [
    "# The majority of the columns are composed of less than 20% missing values.\n",
    "# Find the columns that are composed of more than 20% missing values.\n",
    "percent_missing[percent_missing >  20]"
   ]
  },
  {
   "cell_type": "code",
   "execution_count": 15,
   "metadata": {},
   "outputs": [
    {
     "name": "stdout",
     "output_type": "stream",
     "text": [
      "ALTERSKATEGORIE_GROB      0.323264\n",
      "LP_STATUS_GROB            0.544646\n",
      "LP_STATUS_FEIN            0.544646\n",
      "ONLINE_AFFINITAET         0.544646\n",
      "RETOURTYP_BK_S            0.544646\n",
      "GFK_URLAUBERTYP           0.544646\n",
      "CJT_GESAMTTYP             0.544646\n",
      "HH_EINKOMMEN_SCORE        2.058749\n",
      "SOHO_KZ                   8.247000\n",
      "WOHNDAUER_2008            8.247000\n",
      "ANZ_TITEL                 8.247000\n",
      "ANZ_PERSONEN              8.247000\n",
      "KONSUMNAEHE               8.299737\n",
      "LP_FAMILIE_GROB           8.728699\n",
      "LP_FAMILIE_FEIN           8.728699\n",
      "GEBAEUDETYP              10.451729\n",
      "WOHNLAGE                 10.451729\n",
      "MIN_GEBAEUDEJAHR         10.451729\n",
      "OST_WEST_KZ              10.451729\n",
      "GEBAEUDETYP_RASTER       10.452514\n",
      "EWDICHTE                 10.518154\n",
      "BALLRAUM                 10.518154\n",
      "INNENSTADT               10.518154\n",
      "LP_LEBENSPHASE_GROB      10.611509\n",
      "ANZ_HH_TITEL             10.884842\n",
      "ORTSGR_KLS9              10.914689\n",
      "RELAT_AB                 10.926022\n",
      "ARBEIT                   10.926022\n",
      "LP_LEBENSPHASE_FEIN      10.954859\n",
      "CAMEO_DEUG_2015          11.147852\n",
      "CAMEO_DEU_2015           11.147852\n",
      "CAMEO_INTL_2015          11.147852\n",
      "ANZ_HAUSHALTE_AKTIV      11.176913\n",
      "KBA13_ANZAHL_PKW         11.871354\n",
      "PRAEGENDE_JUGENDJAHRE    12.136608\n",
      "NATIONALITAET_KZ         12.153551\n",
      "VERS_TYP                 12.476816\n",
      "SHOPPER_TYP              12.476816\n",
      "HEALTH_TYP               12.476816\n",
      "PLZ8_HHZ                 13.073637\n",
      "PLZ8_ANTG2               13.073637\n",
      "PLZ8_ANTG1               13.073637\n",
      "PLZ8_ANTG3               13.073637\n",
      "PLZ8_GBZ                 13.073637\n",
      "PLZ8_BAUMAX              13.073637\n",
      "PLZ8_ANTG4               13.073637\n",
      "MOBI_REGIO               14.959701\n",
      "KBA05_GBZ                14.959701\n",
      "KBA05_ANTG1              14.959701\n",
      "KBA05_ANTG2              14.959701\n",
      "KBA05_ANTG3              14.959701\n",
      "KBA05_ANTG4              14.959701\n",
      "W_KEIT_KIND_HH           16.605084\n",
      "REGIOTYP                 17.735668\n",
      "KKK                      17.735668\n",
      "dtype: float64\n"
     ]
    }
   ],
   "source": [
    "# Remove the outlier columns from the dataset. (You'll perform other data\n",
    "# engineering tasks such as re-encoding and imputation later.)\n",
    "outliers = ['ALTER_HH', 'GEBURTSJAHR', 'KBA05_BAUMAX', 'KK_KUNDENTYP', 'AGER_TYP', 'TITEL_KZ']\n",
    "azdias.drop(columns=outliers, axis='outliers', inplace=True)\n",
    "\n",
    "# Ensure that columns composed of more than 20% missing values were \n",
    "# removed\n",
    "null_cols = azdias.isnull().sum()\n",
    "null_cols.sort_values(inplace=True)\n",
    "percent_missing = null_cols[null_cols > 0] / (azdias.shape[0]) * 100\n",
    "print(percent_missing.sort_values())"
   ]
  },
  {
   "cell_type": "markdown",
   "metadata": {},
   "source": [
    "#### Discussion 1.1.2: Assess Missing Data in Each Column\n",
    "\n",
    "I began my approach with finding the proportion of missing values for each column. I then created a histogram using these proportions, showing that the majority of the data (55/61 columns) is composed of less than 20% missing values. Querying `null_data` for columns with more than 20% missing values produced `ALTER_HH` (34.813699%), `GEBURTSJAHR` (44.020282%), `KBA05_BAUMAX` (53.468668%), `KK_KUNDENTYP` (65.596749%), `AGER_TYP` (76.955435%), and `TITEL_KZ` (99.757636%). These six columns are the outliers and were removed from the dataset."
   ]
  },
  {
   "cell_type": "markdown",
   "metadata": {},
   "source": [
    "#### Step 1.1.3: Assess Missing Data in Each Row\n",
    "\n",
    "Now, you'll perform a similar assessment for the rows of the dataset. How much data is missing in each row? As with the columns, you should see some groups of points that have a very different numbers of missing values. Divide the data into two subsets: one for data points that are above some threshold for missing values, and a second subset for points below that threshold.\n",
    "\n",
    "In order to know what to do with the outlier rows, we should see if the distribution of data values on columns that are not missing data (or are missing very little data) are similar or different between the two groups. Select at least five of these columns and compare the distribution of values.\n",
    "- You can use seaborn's [`countplot()`](https://seaborn.pydata.org/generated/seaborn.countplot.html) function to create a bar chart of code frequencies and matplotlib's [`subplot()`](https://matplotlib.org/api/_as_gen/matplotlib.pyplot.subplot.html) function to put bar charts for the two subplots side by side.\n",
    "- To reduce repeated code, you might want to write a function that can perform this comparison, taking as one of its arguments a column to be compared.\n",
    "\n",
    "Depending on what you observe in your comparison, this will have implications on how you approach your conclusions later in the analysis. If the distributions of non-missing features look similar between the data with many missing values and the data with few or no missing values, then we could argue that simply dropping those points from the analysis won't present a major issue. On the other hand, if the data with many missing values looks very different from the data with few or no missing values, then we should make a note on those data as special. We'll revisit these data later on. **Either way, you should continue your analysis for now using just the subset of the data with few or no missing values.**"
   ]
  },
  {
   "cell_type": "code",
   "execution_count": 16,
   "metadata": {},
   "outputs": [
    {
     "data": {
      "text/plain": [
       "445610     0\n",
       "540274     0\n",
       "540275     0\n",
       "540277     0\n",
       "540280     0\n",
       "540281     0\n",
       "540283     0\n",
       "540284     0\n",
       "540286     0\n",
       "540273     0\n",
       "540287     0\n",
       "540290     0\n",
       "540291     0\n",
       "540292     0\n",
       "540293     0\n",
       "540295     0\n",
       "540296     0\n",
       "540298     0\n",
       "540299     0\n",
       "540289     0\n",
       "540300     0\n",
       "540271     0\n",
       "540269     0\n",
       "540239     0\n",
       "540240     0\n",
       "540241     0\n",
       "540242     0\n",
       "540243     0\n",
       "540244     0\n",
       "540246     0\n",
       "          ..\n",
       "139521    47\n",
       "690887    47\n",
       "690878    47\n",
       "690876    47\n",
       "690871    47\n",
       "139478    47\n",
       "139236    47\n",
       "691118    47\n",
       "691129    47\n",
       "691317    47\n",
       "139243    47\n",
       "139245    47\n",
       "139248    47\n",
       "139250    47\n",
       "139255    47\n",
       "139267    47\n",
       "691122    47\n",
       "691212    47\n",
       "139323    47\n",
       "691197    47\n",
       "139332    47\n",
       "691183    47\n",
       "691171    47\n",
       "691142    47\n",
       "691141    47\n",
       "139316    47\n",
       "183108    47\n",
       "472919    48\n",
       "732775    49\n",
       "643174    49\n",
       "Length: 891221, dtype: int64"
      ]
     },
     "execution_count": 16,
     "metadata": {},
     "output_type": "execute_result"
    }
   ],
   "source": [
    "# How much data is missing in each row of the dataset?\n",
    "null_rows = azdias.isnull().sum(axis=1)\n",
    "null_rows.sort_values(inplace=True)\n",
    "null_rows"
   ]
  },
  {
   "cell_type": "code",
   "execution_count": 17,
   "metadata": {},
   "outputs": [
    {
     "data": {
      "image/png": "[encoded data removed]",
      "text/plain": [
       "<matplotlib.figure.Figure at 0x7f1a4c2e8be0>"
      ]
     },
     "metadata": {
      "needs_background": "light"
     },
     "output_type": "display_data"
    }
   ],
   "source": [
    "plt.hist(null_rows);\n",
    "plt.title('Rows Missing Values Histogram');\n",
    "plt.xlabel('Missing Values Per Row');\n",
    "plt.ylabel('Number of Rows');"
   ]
  },
  {
   "cell_type": "code",
   "execution_count": 18,
   "metadata": {},
   "outputs": [],
   "source": [
    "# Write code to divide the data into two subsets based on the number of missing\n",
    "# values in each row.\n",
    "less_missing = azdias[azdias.isnull().sum(axis=1) <= 20]\n",
    "more_missing = azdias[azdias.isnull().sum(axis=1) > 20]"
   ]
  },
  {
   "cell_type": "code",
   "execution_count": 19,
   "metadata": {},
   "outputs": [
    {
     "data": {
      "text/plain": [
       "ZABEOTYP                 0\n",
       "SEMIO_REL                0\n",
       "SEMIO_MAT                0\n",
       "SEMIO_VERT               0\n",
       "SEMIO_LUST               0\n",
       "SEMIO_ERL                0\n",
       "SEMIO_KULT               0\n",
       "SEMIO_RAT                0\n",
       "SEMIO_KRIT               0\n",
       "SEMIO_DOM                0\n",
       "SEMIO_KAEM               0\n",
       "GREEN_AVANTGARDE         0\n",
       "SEMIO_PFLICHT            0\n",
       "FINANZTYP                0\n",
       "FINANZ_HAUSBAUER         0\n",
       "FINANZ_UNAUFFAELLIGER    0\n",
       "FINANZ_ANLEGER           0\n",
       "FINANZ_VORSORGER         0\n",
       "FINANZ_SPARER            0\n",
       "FINANZ_MINIMALIST        0\n",
       "SEMIO_TRADV              0\n",
       "ANREDE_KZ                0\n",
       "SEMIO_SOZ                0\n",
       "SEMIO_FAM                0\n",
       "dtype: int64"
      ]
     },
     "execution_count": 19,
     "metadata": {},
     "output_type": "execute_result"
    }
   ],
   "source": [
    "# Compare the distribution of values for at least five columns where there are\n",
    "# no or few missing values, between the two subsets.\n",
    "no_outliers = null_cols[null_cols < 20]\n",
    "no_outliers"
   ]
  },
  {
   "cell_type": "code",
   "execution_count": 20,
   "metadata": {},
   "outputs": [
    {
     "data": {
      "text/plain": [
       "Index(['ZABEOTYP', 'SEMIO_REL', 'SEMIO_MAT', 'SEMIO_VERT', 'SEMIO_LUST'], dtype='object')"
      ]
     },
     "execution_count": 20,
     "metadata": {},
     "output_type": "execute_result"
    }
   ],
   "source": [
    "target_cols = no_outliers.index[:5]\n",
    "target_cols"
   ]
  },
  {
   "cell_type": "code",
   "execution_count": 21,
   "metadata": {},
   "outputs": [],
   "source": [
    "# I wrestled with this function, but the matplotlib subplot \n",
    "# documentation helped with using tuple unpacking for multiple Axes\n",
    "# (https://matplotlib.org/stable/api/_as_gen/matplotlib.pyplot.subplots.html)\n",
    "\n",
    "def plots_for_column(col):\n",
    "    fig, (ax1, ax2) = plt.subplots(1, 2)\n",
    "    fig.set_figwidth(15)\n",
    "\n",
    "    ax1.set_title('Subset Missing <=20 Values')\n",
    "    sns.countplot(azdias.loc[less_missing.index, col], ax=ax1)\n",
    "    \n",
    "    ax2.set_title('Subset Missing >20 Values')\n",
    "    sns.countplot(azdias.loc[more_missing.index, col], ax=ax2)"
   ]
  },
  {
   "cell_type": "code",
   "execution_count": 22,
   "metadata": {},
   "outputs": [
    {
     "data": {
      "image/png": "[encoded data removed]",
      "text/plain": [
       "<matplotlib.figure.Figure at 0x7f1a49fa7cc0>"
      ]
     },
     "metadata": {
      "needs_background": "light"
     },
     "output_type": "display_data"
    },
    {
     "data": {
      "image/png": "[encoded data removed]",
      "text/plain": [
       "<matplotlib.figure.Figure at 0x7f1a49f3a518>"
      ]
     },
     "metadata": {
      "needs_background": "light"
     },
     "output_type": "display_data"
    },
    {
     "data": {
      "image/png": "[encoded data removed]",
      "text/plain": [
       "<matplotlib.figure.Figure at 0x7f1a40c60cc0>"
      ]
     },
     "metadata": {
      "needs_background": "light"
     },
     "output_type": "display_data"
    },
    {
     "data": {
      "image/png": "[encoded data removed]",
      "text/plain": [
       "<matplotlib.figure.Figure at 0x7f1a40b6a9e8>"
      ]
     },
     "metadata": {
      "needs_background": "light"
     },
     "output_type": "display_data"
    },
    {
     "data": {
      "image/png": "[encoded data removed]",
      "text/plain": [
       "<matplotlib.figure.Figure at 0x7f1a40a8a630>"
      ]
     },
     "metadata": {
      "needs_background": "light"
     },
     "output_type": "display_data"
    }
   ],
   "source": [
    "for i in range(len(target_cols)):\n",
    "    plots_for_column(target_cols[i])"
   ]
  },
  {
   "cell_type": "markdown",
   "metadata": {},
   "source": [
    "#### Discussion 1.1.3: Assess Missing Data in Each Row\n",
    "\n",
    "Since each row can have no more than 79 missing values, which is a relatively small number (<100), I created a histogram based on these numbers instead of finding proportions. The histogram showed a very clear separation of rows with less than 20 missing values and rows with more than 20 missing values, so that number was used to split the dataset. \n",
    "\n",
    "I then pulled five columns with the least amount of missing values: `ALTERSKATEGORIE_GROB` (0.323264%), `LP_STATUS_GROB` (0.544646%), `LP_STATUS_FEIN` (0.544646%), `ONLINE_AFFINITAET` (0.544646%), and `RETOURTYP_BK_S` (0.544646%). These columns were used to compare the distribution of values between the two subsets. The visualizations of these distributions show that the data with many missing values looks very different from the data with few or no missing values. Since the distributions are so different, there could be valuable information to draw from either subset. For the sake of this project, I will continue the analysis using just the subset of the data with few or no missing values."
   ]
  },
  {
   "cell_type": "markdown",
   "metadata": {},
   "source": [
    "### Step 1.2: Select and Re-Encode Features\n",
    "\n",
    "Checking for missing data isn't the only way in which you can prepare a dataset for analysis. Since the unsupervised learning techniques to be used will only work on data that is encoded numerically, you need to make a few encoding changes or additional assumptions to be able to make progress. In addition, while almost all of the values in the dataset are encoded using numbers, not all of them represent numeric values. Check the third column of the feature summary (`feat_info`) for a summary of types of measurement.\n",
    "- For numeric and interval data, these features can be kept without changes.\n",
    "- Most of the variables in the dataset are ordinal in nature. While ordinal values may technically be non-linear in spacing, make the simplifying assumption that the ordinal variables can be treated as being interval in nature (that is, kept without any changes).\n",
    "- Special handling may be necessary for the remaining two variable types: categorical, and 'mixed'.\n",
    "\n",
    "In the first two parts of this sub-step, you will perform an investigation of the categorical and mixed-type features and make a decision on each of them, whether you will keep, drop, or re-encode each. Then, in the last part, you will create a new data frame with only the selected and engineered columns.\n",
    "\n",
    "Data wrangling is often the trickiest part of the data analysis process, and there's a lot of it to be done here. But stick with it: once you're done with this step, you'll be ready to get to the machine learning parts of the project!"
   ]
  },
  {
   "cell_type": "code",
   "execution_count": 23,
   "metadata": {},
   "outputs": [
    {
     "data": {
      "text/plain": [
       "ordinal        49\n",
       "categorical    18\n",
       "numeric         6\n",
       "mixed           6\n",
       "Name: type, dtype: int64"
      ]
     },
     "execution_count": 23,
     "metadata": {},
     "output_type": "execute_result"
    }
   ],
   "source": [
    "# How many features are there of each data type?\n",
    "feat_info = feat_info[feat_info['attribute'].isin(less_missing.columns)]\n",
    "feat_info['type'].value_counts()"
   ]
  },
  {
   "cell_type": "markdown",
   "metadata": {},
   "source": [
    "#### Step 1.2.1: Re-Encode Categorical Features\n",
    "\n",
    "For categorical data, you would ordinarily need to encode the levels as dummy variables. Depending on the number of categories, perform one of the following:\n",
    "- For binary (two-level) categoricals that take numeric values, you can keep them without needing to do anything.\n",
    "- There is one binary variable that takes on non-numeric values. For this one, you need to re-encode the values as numbers or create a dummy variable.\n",
    "- For multi-level categoricals (three or more values), you can choose to encode the values using multiple dummy variables (e.g. via [OneHotEncoder](http://scikit-learn.org/stable/modules/generated/sklearn.preprocessing.OneHotEncoder.html)), or (to keep things straightforward) just drop them from the analysis. As always, document your choices in the Discussion section."
   ]
  },
  {
   "cell_type": "code",
   "execution_count": 24,
   "metadata": {},
   "outputs": [],
   "source": [
    "# Assess categorical variables\n",
    "cat_variables = feat_info[feat_info['type'] == 'categorical']\n",
    "\n",
    "binary_cats = []\n",
    "multi_cats = []\n",
    "\n",
    "# Loop through the categorical variables and sort into binary or multi-level\n",
    "# containers\n",
    "for variable in cat_variables['attribute']:\n",
    "    if less_missing[variable].nunique() == 2:\n",
    "        binary_cats.append(variable)\n",
    "    else:\n",
    "        multi_cats.append(variable)"
   ]
  },
  {
   "cell_type": "code",
   "execution_count": 25,
   "metadata": {},
   "outputs": [
    {
     "name": "stdout",
     "output_type": "stream",
     "text": [
      "Binary categoricals: \n",
      "['ANREDE_KZ', 'GREEN_AVANTGARDE', 'SOHO_KZ', 'VERS_TYP', 'OST_WEST_KZ']\n",
      "\n",
      "Multi-level categoricals: \n",
      "['CJT_GESAMTTYP', 'FINANZTYP', 'GFK_URLAUBERTYP', 'LP_FAMILIE_FEIN', 'LP_FAMILIE_GROB', 'LP_STATUS_FEIN', 'LP_STATUS_GROB', 'NATIONALITAET_KZ', 'SHOPPER_TYP', 'ZABEOTYP', 'GEBAEUDETYP', 'CAMEO_DEUG_2015', 'CAMEO_DEU_2015']\n"
     ]
    }
   ],
   "source": [
    "#  Which are binary and which are multi-level?\n",
    "print('Binary categoricals: \\n{}'.format(binary_cats))\n",
    "print('\\nMulti-level categoricals: \\n{}'.format(multi_cats))"
   ]
  },
  {
   "cell_type": "code",
   "execution_count": 26,
   "metadata": {},
   "outputs": [
    {
     "name": "stdout",
     "output_type": "stream",
     "text": [
      "2    415781\n",
      "1    381645\n",
      "Name: ANREDE_KZ, dtype: int64\n",
      "0    622259\n",
      "1    175167\n",
      "Name: GREEN_AVANTGARDE, dtype: int64\n",
      "0.0    790714\n",
      "1.0      6712\n",
      "Name: SOHO_KZ, dtype: int64\n",
      "2.0    394161\n",
      "1.0    366848\n",
      "Name: VERS_TYP, dtype: int64\n",
      "W    628987\n",
      "O    168439\n",
      "Name: OST_WEST_KZ, dtype: int64\n"
     ]
    }
   ],
   "source": [
    "# Which one needs to be re-encoded?\n",
    "for variable in binary_cats:\n",
    "    print(less_missing[variable].value_counts())"
   ]
  },
  {
   "cell_type": "code",
   "execution_count": 27,
   "metadata": {
    "scrolled": true
   },
   "outputs": [
    {
     "name": "stdout",
     "output_type": "stream",
     "text": [
      "2    415781\n",
      "1    381645\n",
      "Name: ANREDE_KZ, dtype: int64\n",
      "0    622259\n",
      "1    175167\n",
      "Name: GREEN_AVANTGARDE, dtype: int64\n",
      "0.0    790714\n",
      "1.0      6712\n",
      "Name: SOHO_KZ, dtype: int64\n",
      "2.0    394161\n",
      "1.0    366848\n",
      "Name: VERS_TYP, dtype: int64\n",
      "0    628987\n",
      "1    168439\n",
      "Name: OST_WEST_KZ, dtype: int64\n"
     ]
    }
   ],
   "source": [
    "# Re-encode categorical variable(s) to be kept in the analysis\n",
    "new_vals = {'W':0, 'O':1}\n",
    "less_missing = less_missing.replace({'OST_WEST_KZ':new_vals})\n",
    "\n",
    "for variable in binary_cats:\n",
    "    print(less_missing[variable].value_counts())"
   ]
  },
  {
   "cell_type": "code",
   "execution_count": 28,
   "metadata": {},
   "outputs": [
    {
     "name": "stdout",
     "output_type": "stream",
     "text": [
      "<class 'pandas.core.frame.DataFrame'>\n",
      "Int64Index: 797426 entries, 1 to 891220\n",
      "Data columns (total 66 columns):\n",
      "ALTERSKATEGORIE_GROB     794642 non-null float64\n",
      "ANREDE_KZ                797426 non-null int64\n",
      "FINANZ_MINIMALIST        797426 non-null int64\n",
      "FINANZ_SPARER            797426 non-null int64\n",
      "FINANZ_VORSORGER         797426 non-null int64\n",
      "FINANZ_ANLEGER           797426 non-null int64\n",
      "FINANZ_UNAUFFAELLIGER    797426 non-null int64\n",
      "FINANZ_HAUSBAUER         797426 non-null int64\n",
      "GREEN_AVANTGARDE         797426 non-null int64\n",
      "HEALTH_TYP               761009 non-null float64\n",
      "LP_LEBENSPHASE_FEIN      747775 non-null float64\n",
      "LP_LEBENSPHASE_GROB      750596 non-null float64\n",
      "PRAEGENDE_JUGENDJAHRE    768968 non-null float64\n",
      "RETOURTYP_BK_S           792792 non-null float64\n",
      "SEMIO_SOZ                797426 non-null int64\n",
      "SEMIO_FAM                797426 non-null int64\n",
      "SEMIO_REL                797426 non-null int64\n",
      "SEMIO_MAT                797426 non-null int64\n",
      "SEMIO_VERT               797426 non-null int64\n",
      "SEMIO_LUST               797426 non-null int64\n",
      "SEMIO_ERL                797426 non-null int64\n",
      "SEMIO_KULT               797426 non-null int64\n",
      "SEMIO_RAT                797426 non-null int64\n",
      "SEMIO_KRIT               797426 non-null int64\n",
      "SEMIO_DOM                797426 non-null int64\n",
      "SEMIO_KAEM               797426 non-null int64\n",
      "SEMIO_PFLICHT            797426 non-null int64\n",
      "SEMIO_TRADV              797426 non-null int64\n",
      "SOHO_KZ                  797426 non-null float64\n",
      "VERS_TYP                 761009 non-null float64\n",
      "ANZ_PERSONEN             797426 non-null float64\n",
      "ANZ_TITEL                797426 non-null float64\n",
      "HH_EINKOMMEN_SCORE       797426 non-null float64\n",
      "W_KEIT_KIND_HH           738526 non-null float64\n",
      "WOHNDAUER_2008           797426 non-null float64\n",
      "ANZ_HAUSHALTE_AKTIV      791096 non-null float64\n",
      "ANZ_HH_TITEL             793698 non-null float64\n",
      "KONSUMNAEHE              797358 non-null float64\n",
      "MIN_GEBAEUDEJAHR         797426 non-null float64\n",
      "OST_WEST_KZ              797426 non-null int64\n",
      "WOHNLAGE                 797426 non-null float64\n",
      "CAMEO_INTL_2015          791423 non-null object\n",
      "KBA05_ANTG1              757890 non-null float64\n",
      "KBA05_ANTG2              757890 non-null float64\n",
      "KBA05_ANTG3              757890 non-null float64\n",
      "KBA05_ANTG4              757890 non-null float64\n",
      "KBA05_GBZ                757890 non-null float64\n",
      "BALLRAUM                 796835 non-null float64\n",
      "EWDICHTE                 796835 non-null float64\n",
      "INNENSTADT               796835 non-null float64\n",
      "GEBAEUDETYP_RASTER       797421 non-null float64\n",
      "KKK                      732993 non-null float64\n",
      "MOBI_REGIO               757890 non-null float64\n",
      "ONLINE_AFFINITAET        792792 non-null float64\n",
      "REGIOTYP                 732993 non-null float64\n",
      "KBA13_ANZAHL_PKW         785169 non-null float64\n",
      "PLZ8_ANTG1               774697 non-null float64\n",
      "PLZ8_ANTG2               774697 non-null float64\n",
      "PLZ8_ANTG3               774697 non-null float64\n",
      "PLZ8_ANTG4               774697 non-null float64\n",
      "PLZ8_BAUMAX              774697 non-null float64\n",
      "PLZ8_HHZ                 774697 non-null float64\n",
      "PLZ8_GBZ                 774697 non-null float64\n",
      "ARBEIT                   793208 non-null float64\n",
      "ORTSGR_KLS9              793308 non-null float64\n",
      "RELAT_AB                 793208 non-null float64\n",
      "dtypes: float64(42), int64(23), object(1)\n",
      "memory usage: 407.6+ MB\n"
     ]
    }
   ],
   "source": [
    "# Remove the multi-level categoricals from the analysis for simplicity\n",
    "less_missing.drop(columns=multi_cats, axis='multi_cats', inplace=True)\n",
    "less_missing.info()"
   ]
  },
  {
   "cell_type": "markdown",
   "metadata": {},
   "source": [
    "#### Discussion 1.2.1: Re-Encode Categorical Features\n",
    "\n",
    "18 categorical variables were found. Four of these variables were binary while the other 14 were multi-lvel. Of the four binary categoricals, only one required re-encoding from non-numeric values `\"W\"` and `\"O\"` to `0`and `1` respectively. In order to keep the dataset simple, I decided to drop the multi-level categoricals. "
   ]
  },
  {
   "cell_type": "markdown",
   "metadata": {},
   "source": [
    "#### Step 1.2.2: Engineer Mixed-Type Features\n",
    "\n",
    "There are a handful of features that are marked as \"mixed\" in the feature summary that require special treatment in order to be included in the analysis. There are two in particular that deserve attention; the handling of the rest are up to your own choices:\n",
    "- \"PRAEGENDE_JUGENDJAHRE\" combines information on three dimensions: generation by decade, movement (mainstream vs. avantgarde), and nation (east vs. west). While there aren't enough levels to disentangle east from west, you should create two new variables to capture the other two dimensions: an interval-type variable for decade, and a binary variable for movement.\n",
    "- \"CAMEO_INTL_2015\" combines information on two axes: wealth and life stage. Break up the two-digit codes by their 'tens'-place and 'ones'-place digits into two new ordinal variables (which, for the purposes of this project, is equivalent to just treating them as their raw numeric values).\n",
    "- If you decide to keep or engineer new features around the other mixed-type features, make sure you note your steps in the Discussion section.\n",
    "\n",
    "Be sure to check `Data_Dictionary.md` for the details needed to finish these tasks."
   ]
  },
  {
   "cell_type": "code",
   "execution_count": 29,
   "metadata": {},
   "outputs": [
    {
     "data": {
      "text/plain": [
       "1         14.0\n",
       "2         15.0\n",
       "3          8.0\n",
       "4          8.0\n",
       "5          3.0\n",
       "6         10.0\n",
       "7          8.0\n",
       "8         11.0\n",
       "9         15.0\n",
       "10         3.0\n",
       "12         8.0\n",
       "13        15.0\n",
       "15         5.0\n",
       "16        14.0\n",
       "18        10.0\n",
       "19         9.0\n",
       "20        11.0\n",
       "21        10.0\n",
       "22        14.0\n",
       "23         9.0\n",
       "25        14.0\n",
       "26         8.0\n",
       "27        11.0\n",
       "28        10.0\n",
       "29         6.0\n",
       "31        10.0\n",
       "32        15.0\n",
       "33         8.0\n",
       "34         4.0\n",
       "36         8.0\n",
       "          ... \n",
       "891191     3.0\n",
       "891192    14.0\n",
       "891193     5.0\n",
       "891194    11.0\n",
       "891195     8.0\n",
       "891196    14.0\n",
       "891197    11.0\n",
       "891198    15.0\n",
       "891199    10.0\n",
       "891200    14.0\n",
       "891201    10.0\n",
       "891202    10.0\n",
       "891203     NaN\n",
       "891204    10.0\n",
       "891205     3.0\n",
       "891206    14.0\n",
       "891207     2.0\n",
       "891208     8.0\n",
       "891209    14.0\n",
       "891210     8.0\n",
       "891211     8.0\n",
       "891212     3.0\n",
       "891213    11.0\n",
       "891214    14.0\n",
       "891215    10.0\n",
       "891216    14.0\n",
       "891217    10.0\n",
       "891218    14.0\n",
       "891219    14.0\n",
       "891220     3.0\n",
       "Name: PRAEGENDE_JUGENDJAHRE, Length: 797426, dtype: float64"
      ]
     },
     "execution_count": 29,
     "metadata": {},
     "output_type": "execute_result"
    }
   ],
   "source": [
    "# Investigate \"PRAEGENDE_JUGENDJAHRE\"\n",
    "less_missing['PRAEGENDE_JUGENDJAHRE']"
   ]
  },
  {
   "cell_type": "code",
   "execution_count": 30,
   "metadata": {},
   "outputs": [],
   "source": [
    "# Decade: 1=40s, 2=50s, 3=60s, 4=70s, 5=80s, 6=90s\n",
    "decade_dict = {1:1, 2:1, 3:2, 4:2, 5:3, 6:3, 7:3, 8:4, 9:4, 10:5, 11:5, 12:5, 13:5, 14:6, 15:6}\n",
    "\n",
    "# Movement: 1=Mainstream & 0=Avantgarde\n",
    "movement_dict = {1:1, 2:0, 3:1, 4:0, 5:1, 6:0, 7:0, 8:1, 9:0, 10:1, 11:0, 12:1, 13:0, 14:1, 15:0}"
   ]
  },
  {
   "cell_type": "code",
   "execution_count": 31,
   "metadata": {},
   "outputs": [],
   "source": [
    "# Engineer two new variables\n",
    "less_missing['DECADE'] = less_missing['PRAEGENDE_JUGENDJAHRE']\n",
    "less_missing['MOVEMENT'] = less_missing['PRAEGENDE_JUGENDJAHRE']\n",
    "\n",
    "less_missing['DECADE'].replace(decade_dict, inplace=True)\n",
    "less_missing['MOVEMENT'].replace(movement_dict, inplace=True)\n",
    "\n",
    "# Remove the `PRAEGENDE_JUGENDJAHRE` variable since it now contains\n",
    "# redundant data\n",
    "less_missing.drop(\"PRAEGENDE_JUGENDJAHRE\", axis=1, inplace=True)"
   ]
  },
  {
   "cell_type": "code",
   "execution_count": 32,
   "metadata": {},
   "outputs": [
    {
     "name": "stdout",
     "output_type": "stream",
     "text": [
      "<class 'pandas.core.frame.DataFrame'>\n",
      "Int64Index: 797426 entries, 1 to 891220\n",
      "Data columns (total 67 columns):\n",
      "ALTERSKATEGORIE_GROB     794642 non-null float64\n",
      "ANREDE_KZ                797426 non-null int64\n",
      "FINANZ_MINIMALIST        797426 non-null int64\n",
      "FINANZ_SPARER            797426 non-null int64\n",
      "FINANZ_VORSORGER         797426 non-null int64\n",
      "FINANZ_ANLEGER           797426 non-null int64\n",
      "FINANZ_UNAUFFAELLIGER    797426 non-null int64\n",
      "FINANZ_HAUSBAUER         797426 non-null int64\n",
      "GREEN_AVANTGARDE         797426 non-null int64\n",
      "HEALTH_TYP               761009 non-null float64\n",
      "LP_LEBENSPHASE_FEIN      747775 non-null float64\n",
      "LP_LEBENSPHASE_GROB      750596 non-null float64\n",
      "RETOURTYP_BK_S           792792 non-null float64\n",
      "SEMIO_SOZ                797426 non-null int64\n",
      "SEMIO_FAM                797426 non-null int64\n",
      "SEMIO_REL                797426 non-null int64\n",
      "SEMIO_MAT                797426 non-null int64\n",
      "SEMIO_VERT               797426 non-null int64\n",
      "SEMIO_LUST               797426 non-null int64\n",
      "SEMIO_ERL                797426 non-null int64\n",
      "SEMIO_KULT               797426 non-null int64\n",
      "SEMIO_RAT                797426 non-null int64\n",
      "SEMIO_KRIT               797426 non-null int64\n",
      "SEMIO_DOM                797426 non-null int64\n",
      "SEMIO_KAEM               797426 non-null int64\n",
      "SEMIO_PFLICHT            797426 non-null int64\n",
      "SEMIO_TRADV              797426 non-null int64\n",
      "SOHO_KZ                  797426 non-null float64\n",
      "VERS_TYP                 761009 non-null float64\n",
      "ANZ_PERSONEN             797426 non-null float64\n",
      "ANZ_TITEL                797426 non-null float64\n",
      "HH_EINKOMMEN_SCORE       797426 non-null float64\n",
      "W_KEIT_KIND_HH           738526 non-null float64\n",
      "WOHNDAUER_2008           797426 non-null float64\n",
      "ANZ_HAUSHALTE_AKTIV      791096 non-null float64\n",
      "ANZ_HH_TITEL             793698 non-null float64\n",
      "KONSUMNAEHE              797358 non-null float64\n",
      "MIN_GEBAEUDEJAHR         797426 non-null float64\n",
      "OST_WEST_KZ              797426 non-null int64\n",
      "WOHNLAGE                 797426 non-null float64\n",
      "CAMEO_INTL_2015          791423 non-null object\n",
      "KBA05_ANTG1              757890 non-null float64\n",
      "KBA05_ANTG2              757890 non-null float64\n",
      "KBA05_ANTG3              757890 non-null float64\n",
      "KBA05_ANTG4              757890 non-null float64\n",
      "KBA05_GBZ                757890 non-null float64\n",
      "BALLRAUM                 796835 non-null float64\n",
      "EWDICHTE                 796835 non-null float64\n",
      "INNENSTADT               796835 non-null float64\n",
      "GEBAEUDETYP_RASTER       797421 non-null float64\n",
      "KKK                      732993 non-null float64\n",
      "MOBI_REGIO               757890 non-null float64\n",
      "ONLINE_AFFINITAET        792792 non-null float64\n",
      "REGIOTYP                 732993 non-null float64\n",
      "KBA13_ANZAHL_PKW         785169 non-null float64\n",
      "PLZ8_ANTG1               774697 non-null float64\n",
      "PLZ8_ANTG2               774697 non-null float64\n",
      "PLZ8_ANTG3               774697 non-null float64\n",
      "PLZ8_ANTG4               774697 non-null float64\n",
      "PLZ8_BAUMAX              774697 non-null float64\n",
      "PLZ8_HHZ                 774697 non-null float64\n",
      "PLZ8_GBZ                 774697 non-null float64\n",
      "ARBEIT                   793208 non-null float64\n",
      "ORTSGR_KLS9              793308 non-null float64\n",
      "RELAT_AB                 793208 non-null float64\n",
      "DECADE                   768968 non-null float64\n",
      "MOVEMENT                 768968 non-null float64\n",
      "dtypes: float64(43), int64(23), object(1)\n",
      "memory usage: 413.7+ MB\n"
     ]
    }
   ],
   "source": [
    "less_missing.info()"
   ]
  },
  {
   "cell_type": "code",
   "execution_count": 33,
   "metadata": {},
   "outputs": [
    {
     "data": {
      "text/plain": [
       "1          51\n",
       "2          24\n",
       "3          12\n",
       "4          43\n",
       "5          54\n",
       "6          22\n",
       "7          14\n",
       "8          13\n",
       "9          15\n",
       "10         51\n",
       "12         43\n",
       "13         33\n",
       "15         41\n",
       "16         41\n",
       "18         24\n",
       "19         34\n",
       "20         24\n",
       "21         55\n",
       "22         51\n",
       "23         43\n",
       "25         33\n",
       "26        NaN\n",
       "27         51\n",
       "28         13\n",
       "29         12\n",
       "31         51\n",
       "32         14\n",
       "33         41\n",
       "34         25\n",
       "36         41\n",
       "         ... \n",
       "891191     44\n",
       "891192     32\n",
       "891193     43\n",
       "891194     24\n",
       "891195     55\n",
       "891196     23\n",
       "891197     24\n",
       "891198     14\n",
       "891199     51\n",
       "891200     52\n",
       "891201     41\n",
       "891202     41\n",
       "891203     25\n",
       "891204     24\n",
       "891205     34\n",
       "891206     25\n",
       "891207     41\n",
       "891208     14\n",
       "891209     51\n",
       "891210     41\n",
       "891211     51\n",
       "891212     51\n",
       "891213     34\n",
       "891214     23\n",
       "891215     31\n",
       "891216     41\n",
       "891217     51\n",
       "891218     24\n",
       "891219     51\n",
       "891220     43\n",
       "Name: CAMEO_INTL_2015, Length: 797426, dtype: object"
      ]
     },
     "execution_count": 33,
     "metadata": {},
     "output_type": "execute_result"
    }
   ],
   "source": [
    "# Investigate \"CAMEO_INTL_2015\"\n",
    "less_missing['CAMEO_INTL_2015']"
   ]
  },
  {
   "cell_type": "code",
   "execution_count": 34,
   "metadata": {},
   "outputs": [],
   "source": [
    "# Wealth: 1=Wealthy, 2=Prosperous, 3=Comfortable, 4=Less Affluent, 5=Poor\n",
    "wealth_dict = {'11':1, '12':1, '13':1, '14':1, '15':1, \n",
    "               '21':2, '22':2, '23':2, '24':2, '25':2, \n",
    "               '31':3, '32':3, '33':3, '34':3, '35':3, \n",
    "               '41':4, '42':4, '43':4, '44':4, '45':4, \n",
    "               '51':5, '52':5, '53':5, '54':5, '55':5}\n",
    "\n",
    "# Life stage: 1=Pre-family couples & single, 2=Young couples with children, \n",
    "# 3=Families with school age children, 4=Older families & mature couples, \n",
    "# 5=Elders in retirement\n",
    "life_dict = {'11':1, '12':2, '13':3, '14':4, '15':5, \n",
    "             '21':1, '22':2, '23':3, '24':4, '25':5, \n",
    "             '31':1, '32':2, '33':3, '34':4, '35':5, \n",
    "             '41':1, '42':2, '43':3, '44':4, '45':5, \n",
    "             '51':1, '52':2, '53':3, '54':4, '55':5}"
   ]
  },
  {
   "cell_type": "code",
   "execution_count": 35,
   "metadata": {},
   "outputs": [],
   "source": [
    "# Engineer two new variables\n",
    "less_missing['WEALTH'] = less_missing['CAMEO_INTL_2015']\n",
    "less_missing['LIFE_STAGE'] = less_missing['CAMEO_INTL_2015']\n",
    "\n",
    "less_missing['WEALTH'].replace(wealth_dict, inplace=True)\n",
    "less_missing['LIFE_STAGE'].replace(life_dict, inplace=True)\n",
    "\n",
    "# Remove the `CAMEO_INTL_2015` variable since it now contains\n",
    "# redundant data\n",
    "less_missing.drop(\"CAMEO_INTL_2015\", axis=1, inplace=True)"
   ]
  },
  {
   "cell_type": "code",
   "execution_count": 36,
   "metadata": {},
   "outputs": [
    {
     "name": "stdout",
     "output_type": "stream",
     "text": [
      "<class 'pandas.core.frame.DataFrame'>\n",
      "Int64Index: 797426 entries, 1 to 891220\n",
      "Data columns (total 68 columns):\n",
      "ALTERSKATEGORIE_GROB     794642 non-null float64\n",
      "ANREDE_KZ                797426 non-null int64\n",
      "FINANZ_MINIMALIST        797426 non-null int64\n",
      "FINANZ_SPARER            797426 non-null int64\n",
      "FINANZ_VORSORGER         797426 non-null int64\n",
      "FINANZ_ANLEGER           797426 non-null int64\n",
      "FINANZ_UNAUFFAELLIGER    797426 non-null int64\n",
      "FINANZ_HAUSBAUER         797426 non-null int64\n",
      "GREEN_AVANTGARDE         797426 non-null int64\n",
      "HEALTH_TYP               761009 non-null float64\n",
      "LP_LEBENSPHASE_FEIN      747775 non-null float64\n",
      "LP_LEBENSPHASE_GROB      750596 non-null float64\n",
      "RETOURTYP_BK_S           792792 non-null float64\n",
      "SEMIO_SOZ                797426 non-null int64\n",
      "SEMIO_FAM                797426 non-null int64\n",
      "SEMIO_REL                797426 non-null int64\n",
      "SEMIO_MAT                797426 non-null int64\n",
      "SEMIO_VERT               797426 non-null int64\n",
      "SEMIO_LUST               797426 non-null int64\n",
      "SEMIO_ERL                797426 non-null int64\n",
      "SEMIO_KULT               797426 non-null int64\n",
      "SEMIO_RAT                797426 non-null int64\n",
      "SEMIO_KRIT               797426 non-null int64\n",
      "SEMIO_DOM                797426 non-null int64\n",
      "SEMIO_KAEM               797426 non-null int64\n",
      "SEMIO_PFLICHT            797426 non-null int64\n",
      "SEMIO_TRADV              797426 non-null int64\n",
      "SOHO_KZ                  797426 non-null float64\n",
      "VERS_TYP                 761009 non-null float64\n",
      "ANZ_PERSONEN             797426 non-null float64\n",
      "ANZ_TITEL                797426 non-null float64\n",
      "HH_EINKOMMEN_SCORE       797426 non-null float64\n",
      "W_KEIT_KIND_HH           738526 non-null float64\n",
      "WOHNDAUER_2008           797426 non-null float64\n",
      "ANZ_HAUSHALTE_AKTIV      791096 non-null float64\n",
      "ANZ_HH_TITEL             793698 non-null float64\n",
      "KONSUMNAEHE              797358 non-null float64\n",
      "MIN_GEBAEUDEJAHR         797426 non-null float64\n",
      "OST_WEST_KZ              797426 non-null int64\n",
      "WOHNLAGE                 797426 non-null float64\n",
      "KBA05_ANTG1              757890 non-null float64\n",
      "KBA05_ANTG2              757890 non-null float64\n",
      "KBA05_ANTG3              757890 non-null float64\n",
      "KBA05_ANTG4              757890 non-null float64\n",
      "KBA05_GBZ                757890 non-null float64\n",
      "BALLRAUM                 796835 non-null float64\n",
      "EWDICHTE                 796835 non-null float64\n",
      "INNENSTADT               796835 non-null float64\n",
      "GEBAEUDETYP_RASTER       797421 non-null float64\n",
      "KKK                      732993 non-null float64\n",
      "MOBI_REGIO               757890 non-null float64\n",
      "ONLINE_AFFINITAET        792792 non-null float64\n",
      "REGIOTYP                 732993 non-null float64\n",
      "KBA13_ANZAHL_PKW         785169 non-null float64\n",
      "PLZ8_ANTG1               774697 non-null float64\n",
      "PLZ8_ANTG2               774697 non-null float64\n",
      "PLZ8_ANTG3               774697 non-null float64\n",
      "PLZ8_ANTG4               774697 non-null float64\n",
      "PLZ8_BAUMAX              774697 non-null float64\n",
      "PLZ8_HHZ                 774697 non-null float64\n",
      "PLZ8_GBZ                 774697 non-null float64\n",
      "ARBEIT                   793208 non-null float64\n",
      "ORTSGR_KLS9              793308 non-null float64\n",
      "RELAT_AB                 793208 non-null float64\n",
      "DECADE                   768968 non-null float64\n",
      "MOVEMENT                 768968 non-null float64\n",
      "WEALTH                   791423 non-null float64\n",
      "LIFE_STAGE               791423 non-null float64\n",
      "dtypes: float64(45), int64(23)\n",
      "memory usage: 419.8 MB\n"
     ]
    }
   ],
   "source": [
    "less_missing.info()"
   ]
  },
  {
   "cell_type": "markdown",
   "metadata": {},
   "source": [
    "#### Discussion 1.2.2: Engineer Mixed-Type Features\n",
    "\n",
    "After investigating each of the mixed-value features and the `Data_Dictionary.md` file, I had enough information to understand how each feature needed to be separated. For `PRAEGENDE_JUGENDJAHRE` I created two new variables: `DECADE` using intervals and a binary `MOVEMENT`. And two interval variables `WEALTH` and `LIFE_STAGE` for `CAMEO_INTL_2015`. At this point both `PRAEGENDE_JUGENDJAHRE` and `CAMEO_INTL_2015` contain redundant data, so I removed them from the dataset for simplicity."
   ]
  },
  {
   "cell_type": "markdown",
   "metadata": {},
   "source": [
    "#### Step 1.2.3: Complete Feature Selection\n",
    "\n",
    "In order to finish this step up, you need to make sure that your data frame now only has the columns that you want to keep. To summarize, the dataframe should consist of the following:\n",
    "- All numeric, interval, and ordinal type columns from the original dataset.\n",
    "- Binary categorical features (all numerically-encoded).\n",
    "- Engineered features from other multi-level categorical features and mixed features.\n",
    "\n",
    "Make sure that for any new columns that you have engineered, that you've excluded the original columns from the final dataset. Otherwise, their values will interfere with the analysis later on the project. For example, you should not keep \"PRAEGENDE_JUGENDJAHRE\", since its values won't be useful for the algorithm: only the values derived from it in the engineered features you created should be retained. As a reminder, your data should only be from **the subset with few or no missing values**."
   ]
  },
  {
   "cell_type": "code",
   "execution_count": 37,
   "metadata": {},
   "outputs": [],
   "source": [
    "# If there are other re-engineering tasks you need to perform, make sure you\n",
    "# take care of them here. (Dealing with missing data will come in step 2.1.)\n",
    "\n",
    "# Do whatever you need to in order to ensure that the dataframe only contains\n",
    "# the columns that should be passed to the algorithm functions.\n",
    "mixed_cols = feat_info[feat_info['type']=='mixed']['attribute']\n",
    "for mixed_col in mixed_cols:\n",
    "    if mixed_col in less_missing.columns:\n",
    "        less_missing.drop(mixed_col, axis=1, inplace=True)\n",
    "\n",
    "azdias_clean = less_missing"
   ]
  },
  {
   "cell_type": "markdown",
   "metadata": {},
   "source": [
    "### Step 1.3: Create a Cleaning Function\n",
    "\n",
    "Even though you've finished cleaning up the general population demographics data, it's important to look ahead to the future and realize that you'll need to perform the same cleaning steps on the customer demographics data. In this substep, complete the function below to execute the main feature selection, encoding, and re-engineering steps you performed above. Then, when it comes to looking at the customer data in Step 3, you can just run this function on that DataFrame to get the trimmed dataset in a single step."
   ]
  },
  {
   "cell_type": "code",
   "execution_count": 38,
   "metadata": {},
   "outputs": [],
   "source": [
    "def clean_data(df):\n",
    "    \"\"\"\n",
    "    Perform feature trimming, re-encoding, and engineering for demographics\n",
    "    data\n",
    "    \n",
    "    INPUT: Demographics DataFrame\n",
    "    OUTPUT: Trimmed and cleaned demographics DataFrame\n",
    "    \"\"\"\n",
    "    \n",
    "    feat_info = pd.read_csv('AZDIAS_Feature_Summary.csv', sep=';')\n",
    "    \n",
    "    # Identify missing or unknown data values and convert them to NaNs.\n",
    "    for index in range(len(feat_info)):\n",
    "        # Parse and clean `missing_or_unknown` values from `feat_info`\n",
    "        nan_data = feat_info.iloc[index]['missing_or_unknown']\n",
    "        nan_data = nan_data.strip('[]')\n",
    "        nan_data = nan_data.split(sep=',')\n",
    "    \n",
    "    # If the missing or unknown value is not \"X\", \"XX\", or empty then convert to an int\n",
    "    nan_data = [int(value) if (value != 'X' and value != 'XX' and value != '') \n",
    "                else value for value in nan_data]\n",
    "    \n",
    "    if nan_data != ['']:\n",
    "        # Replace missing or unkown values with NaNs\n",
    "        df = df.replace({feat_info.iloc[index]['attribute']: nan_data}, np.nan)\n",
    "    \n",
    "    \n",
    "    # Remove selected columns and rows, ...\n",
    "    drop_cols = ['ALTER_HH', 'GEBURTSJAHR', 'KBA05_BAUMAX', 'KK_KUNDENTYP', 'AGER_TYP', 'TITEL_KZ']\n",
    "    df.drop(columns=drop_cols, axis='drop_cols', inplace=True)\n",
    "    \n",
    "    df_clean = df[df.isnull().sum(axis=1) <= 20]\n",
    "    \n",
    "    \n",
    "    # Select, re-encode, and engineer column values.\n",
    "    feat_info = feat_info[feat_info['attribute'].isin(df_clean.columns)] \n",
    "\n",
    "    # Assess categorical variables \n",
    "    cat_variables = feat_info[feat_info['type'] == 'categorical'] \n",
    "\n",
    "    binary_cats = [] \n",
    "    multi_cats = [] \n",
    "\n",
    "    # Loop through the categorical variables and sort into binary or multi-level \n",
    "    # containers \n",
    "    for variable in cat_variables['attribute']: \n",
    "        if df_clean[variable].nunique() == 2: \n",
    "            binary_cats.append(variable) \n",
    "        else: \n",
    "            multi_cats.append(variable) \n",
    "\n",
    "    # Re-encode categorical variable(s) to be kept in the analysis \n",
    "    new_vals = {'W':0, 'O':1} \n",
    "    df_clean = df_clean.replace({'OST_WEST_KZ':new_vals}) \n",
    "\n",
    "    # Remove the multi-level categoricals from the analysis for simplicity \n",
    "    df_clean.drop(columns=multi_cats, axis='multi_cats', inplace=True) \n",
    "\n",
    "    # Decade: 1=40s, 2=50s, 3=60s, 4=70s, 5=80s, 6=90s \n",
    "    decade_dict = {1:1, 2:1, 3:2, 4:2, 5:3, 6:3, 7:3, 8:4, 9:4, 10:5, 11:5, 12:5, 13:5, 14:6, 15:6} \n",
    "\n",
    "    # Movement: 1=Mainstream & 0=Avantgarde \n",
    "    movement_dict = {1:1, 2:0, 3:1, 4:0, 5:1, 6:0, 7:0, 8:1, 9:0, 10:1, 11:0, 12:1, 13:0, 14:1, 15:0} \n",
    "\n",
    "     # Engineer two new variables \n",
    "    df_clean['DECADE'] = df_clean['PRAEGENDE_JUGENDJAHRE'] \n",
    "    df_clean['MOVEMENT'] = df_clean['PRAEGENDE_JUGENDJAHRE'] \n",
    "\n",
    "    df_clean['DECADE'].replace(decade_dict, inplace=True) \n",
    "    df_clean['MOVEMENT'].replace(movement_dict, inplace=True) \n",
    "\n",
    "    # Remove the `PRAEGENDE_JUGENDJAHRE` variable since it now contains \n",
    "    # redundant data \n",
    "    df_clean.drop(\"PRAEGENDE_JUGENDJAHRE\", axis=1, inplace=True) \n",
    "\n",
    "    # Wealth: 1=Wealthy, 2=Prosperous, 3=Comfortable, 4=Less Affluent, 5=Poor \n",
    "    wealth_dict = {'11':1, '12':1, '13':1, '14':1, '15':1,  \n",
    "                   '21':2, '22':2, '23':2, '24':2, '25':2,  \n",
    "                   '31':3, '32':3, '33':3, '34':3, '35':3,  \n",
    "                   '41':4, '42':4, '43':4, '44':4, '45':4,  \n",
    "                   '51':5, '52':5, '53':5, '54':5, '55':5} \n",
    "\n",
    "    # Life stage: 1=Pre-family couples & single, 2=Young couples with children,  \n",
    "    # 3=Families with school age children, 4=Older families & mature couples,  \n",
    "    # 5=Elders in retirement \n",
    "    life_dict = {'11':1, '12':2, '13':3, '14':4, '15':5,  \n",
    "                 '21':1, '22':2, '23':3, '24':4, '25':5,  \n",
    "                 '31':1, '32':2, '33':3, '34':4, '35':5,  \n",
    "                 '41':1, '42':2, '43':3, '44':4, '45':5,  \n",
    "                 '51':1, '52':2, '53':3, '54':4, '55':5} \n",
    "\n",
    "    # Engineer two new variables \n",
    "    df_clean['WEALTH'] = df_clean['CAMEO_INTL_2015']\n",
    "    df_clean['LIFE_STAGE'] = df_clean['CAMEO_INTL_2015']\n",
    "\n",
    "    df_clean['WEALTH'].replace(wealth_dict, inplace=True) \n",
    "    df_clean['LIFE_STAGE'].replace(life_dict, inplace=True) \n",
    "    \n",
    "    df_clean['WEALTH'] = df_clean['WEALTH'].replace('XX', np.nan)\n",
    "    df_clean['LIFE_STAGE'] = df_clean['LIFE_STAGE'].replace('XX', np.nan)\n",
    "\n",
    "    # Remove the `CAMEO_INTL_2015` variable since it now contains \n",
    "    # redundant data \n",
    "    df_clean.drop(\"CAMEO_INTL_2015\", axis=1, inplace=True) \n",
    "\n",
    "    # Do whatever you need to in order to ensure that the dataframe only contains \n",
    "    # the columns that should be passed to the algorithm functions. \n",
    "    mixed_cols = feat_info[feat_info['type']=='mixed']['attribute'] \n",
    "\n",
    "    for mixed_col in mixed_cols: \n",
    "        if mixed_col in df_clean.columns: \n",
    "            df_clean.drop(mixed_col, axis=1, inplace=True) \n",
    "            \n",
    "    # Return the cleaned dataframe.\n",
    "    return(df_clean)"
   ]
  },
  {
   "cell_type": "markdown",
   "metadata": {},
   "source": [
    "## Step 2: Feature Transformation\n",
    "\n",
    "### Step 2.1: Apply Feature Scaling\n",
    "\n",
    "Before we apply dimensionality reduction techniques to the data, we need to perform feature scaling so that the principal component vectors are not influenced by the natural differences in scale for features. Starting from this part of the project, you'll want to keep an eye on the [API reference page for sklearn](http://scikit-learn.org/stable/modules/classes.html) to help you navigate to all of the classes and functions that you'll need. In this substep, you'll need to check the following:\n",
    "\n",
    "- sklearn requires that data not have missing values in order for its estimators to work properly. So, before applying the scaler to your data, make sure that you've cleaned the DataFrame of the remaining missing values. This can be as simple as just removing all data points with missing data, or applying an [Imputer](https://scikit-learn.org/0.16/modules/generated/sklearn.preprocessing.Imputer.html) to replace all missing values. You might also try a more complicated procedure where you temporarily remove missing values in order to compute the scaling parameters before re-introducing those missing values and applying imputation. Think about how much missing data you have and what possible effects each approach might have on your analysis, and justify your decision in the discussion section below.\n",
    "- For the actual scaling function, a [StandardScaler](http://scikit-learn.org/stable/modules/generated/sklearn.preprocessing.StandardScaler.html) instance is suggested, scaling each feature to mean 0 and standard deviation 1.\n",
    "- For these classes, you can make use of the `.fit_transform()` method to both fit a procedure to the data as well as apply the transformation to the data at the same time. Don't forget to keep the fit sklearn objects handy, since you'll be applying them to the customer demographics data towards the end of the project."
   ]
  },
  {
   "cell_type": "code",
   "execution_count": 39,
   "metadata": {},
   "outputs": [
    {
     "name": "stdout",
     "output_type": "stream",
     "text": [
      "Number of null values: 751879\n"
     ]
    }
   ],
   "source": [
    "# If you've not yet cleaned the dataset of all NaN values, then investigate and\n",
    "# do that now.\n",
    "null_vals = azdias_clean.isnull().sum().sum()\n",
    "print('Number of null values: {}'.format(null_vals))"
   ]
  },
  {
   "cell_type": "code",
   "execution_count": 40,
   "metadata": {},
   "outputs": [
    {
     "data": {
      "text/plain": [
       "REGIOTYP                 64433\n",
       "KKK                      64433\n",
       "W_KEIT_KIND_HH           58900\n",
       "KBA05_ANTG4              39536\n",
       "KBA05_ANTG2              39536\n",
       "KBA05_ANTG3              39536\n",
       "MOBI_REGIO               39536\n",
       "KBA05_ANTG1              39536\n",
       "KBA05_GBZ                39536\n",
       "HEALTH_TYP               36417\n",
       "VERS_TYP                 36417\n",
       "DECADE                   28458\n",
       "MOVEMENT                 28458\n",
       "PLZ8_ANTG2               22729\n",
       "PLZ8_ANTG1               22729\n",
       "PLZ8_ANTG4               22729\n",
       "PLZ8_HHZ                 22729\n",
       "PLZ8_GBZ                 22729\n",
       "PLZ8_ANTG3               22729\n",
       "KBA13_ANZAHL_PKW         12257\n",
       "ANZ_HAUSHALTE_AKTIV       6330\n",
       "WEALTH                    6003\n",
       "LIFE_STAGE                6003\n",
       "RETOURTYP_BK_S            4634\n",
       "ONLINE_AFFINITAET         4634\n",
       "ARBEIT                    4218\n",
       "RELAT_AB                  4218\n",
       "ORTSGR_KLS9               4118\n",
       "ANZ_HH_TITEL              3728\n",
       "ALTERSKATEGORIE_GROB      2784\n",
       "                         ...  \n",
       "GEBAEUDETYP_RASTER           5\n",
       "FINANZ_HAUSBAUER             0\n",
       "SEMIO_REL                    0\n",
       "SEMIO_FAM                    0\n",
       "SEMIO_SOZ                    0\n",
       "GREEN_AVANTGARDE             0\n",
       "FINANZ_UNAUFFAELLIGER        0\n",
       "SEMIO_VERT                   0\n",
       "FINANZ_ANLEGER               0\n",
       "FINANZ_VORSORGER             0\n",
       "FINANZ_SPARER                0\n",
       "FINANZ_MINIMALIST            0\n",
       "ANREDE_KZ                    0\n",
       "SEMIO_MAT                    0\n",
       "SEMIO_LUST                   0\n",
       "MIN_GEBAEUDEJAHR             0\n",
       "SEMIO_ERL                    0\n",
       "SEMIO_KULT                   0\n",
       "SEMIO_RAT                    0\n",
       "SEMIO_KRIT                   0\n",
       "SEMIO_DOM                    0\n",
       "SEMIO_KAEM                   0\n",
       "SEMIO_PFLICHT                0\n",
       "SEMIO_TRADV                  0\n",
       "SOHO_KZ                      0\n",
       "ANZ_PERSONEN                 0\n",
       "ANZ_TITEL                    0\n",
       "HH_EINKOMMEN_SCORE           0\n",
       "OST_WEST_KZ                  0\n",
       "WOHNDAUER_2008               0\n",
       "Length: 64, dtype: int64"
      ]
     },
     "execution_count": 40,
     "metadata": {},
     "output_type": "execute_result"
    }
   ],
   "source": [
    "null_vals = azdias_clean.isnull().sum()\n",
    "null_vals.sort_values(ascending=False, inplace=True)\n",
    "null_vals"
   ]
  },
  {
   "cell_type": "code",
   "execution_count": 41,
   "metadata": {},
   "outputs": [
    {
     "name": "stdout",
     "output_type": "stream",
     "text": [
      "<class 'pandas.core.frame.DataFrame'>\n",
      "Int64Index: 797426 entries, 1 to 891220\n",
      "Data columns (total 64 columns):\n",
      "ALTERSKATEGORIE_GROB     794642 non-null float64\n",
      "ANREDE_KZ                797426 non-null int64\n",
      "FINANZ_MINIMALIST        797426 non-null int64\n",
      "FINANZ_SPARER            797426 non-null int64\n",
      "FINANZ_VORSORGER         797426 non-null int64\n",
      "FINANZ_ANLEGER           797426 non-null int64\n",
      "FINANZ_UNAUFFAELLIGER    797426 non-null int64\n",
      "FINANZ_HAUSBAUER         797426 non-null int64\n",
      "GREEN_AVANTGARDE         797426 non-null int64\n",
      "HEALTH_TYP               761009 non-null float64\n",
      "RETOURTYP_BK_S           792792 non-null float64\n",
      "SEMIO_SOZ                797426 non-null int64\n",
      "SEMIO_FAM                797426 non-null int64\n",
      "SEMIO_REL                797426 non-null int64\n",
      "SEMIO_MAT                797426 non-null int64\n",
      "SEMIO_VERT               797426 non-null int64\n",
      "SEMIO_LUST               797426 non-null int64\n",
      "SEMIO_ERL                797426 non-null int64\n",
      "SEMIO_KULT               797426 non-null int64\n",
      "SEMIO_RAT                797426 non-null int64\n",
      "SEMIO_KRIT               797426 non-null int64\n",
      "SEMIO_DOM                797426 non-null int64\n",
      "SEMIO_KAEM               797426 non-null int64\n",
      "SEMIO_PFLICHT            797426 non-null int64\n",
      "SEMIO_TRADV              797426 non-null int64\n",
      "SOHO_KZ                  797426 non-null float64\n",
      "VERS_TYP                 761009 non-null float64\n",
      "ANZ_PERSONEN             797426 non-null float64\n",
      "ANZ_TITEL                797426 non-null float64\n",
      "HH_EINKOMMEN_SCORE       797426 non-null float64\n",
      "W_KEIT_KIND_HH           738526 non-null float64\n",
      "WOHNDAUER_2008           797426 non-null float64\n",
      "ANZ_HAUSHALTE_AKTIV      791096 non-null float64\n",
      "ANZ_HH_TITEL             793698 non-null float64\n",
      "KONSUMNAEHE              797358 non-null float64\n",
      "MIN_GEBAEUDEJAHR         797426 non-null float64\n",
      "OST_WEST_KZ              797426 non-null int64\n",
      "KBA05_ANTG1              757890 non-null float64\n",
      "KBA05_ANTG2              757890 non-null float64\n",
      "KBA05_ANTG3              757890 non-null float64\n",
      "KBA05_ANTG4              757890 non-null float64\n",
      "KBA05_GBZ                757890 non-null float64\n",
      "BALLRAUM                 796835 non-null float64\n",
      "EWDICHTE                 796835 non-null float64\n",
      "INNENSTADT               796835 non-null float64\n",
      "GEBAEUDETYP_RASTER       797421 non-null float64\n",
      "KKK                      732993 non-null float64\n",
      "MOBI_REGIO               757890 non-null float64\n",
      "ONLINE_AFFINITAET        792792 non-null float64\n",
      "REGIOTYP                 732993 non-null float64\n",
      "KBA13_ANZAHL_PKW         785169 non-null float64\n",
      "PLZ8_ANTG1               774697 non-null float64\n",
      "PLZ8_ANTG2               774697 non-null float64\n",
      "PLZ8_ANTG3               774697 non-null float64\n",
      "PLZ8_ANTG4               774697 non-null float64\n",
      "PLZ8_HHZ                 774697 non-null float64\n",
      "PLZ8_GBZ                 774697 non-null float64\n",
      "ARBEIT                   793208 non-null float64\n",
      "ORTSGR_KLS9              793308 non-null float64\n",
      "RELAT_AB                 793208 non-null float64\n",
      "DECADE                   768968 non-null float64\n",
      "MOVEMENT                 768968 non-null float64\n",
      "WEALTH                   791423 non-null float64\n",
      "LIFE_STAGE               791423 non-null float64\n",
      "dtypes: float64(41), int64(23)\n",
      "memory usage: 395.5 MB\n"
     ]
    }
   ],
   "source": [
    "azdias_clean.info()"
   ]
  },
  {
   "cell_type": "code",
   "execution_count": 42,
   "metadata": {},
   "outputs": [],
   "source": [
    "# Because there are a lot of null values across different columns, \n",
    "# an imputer can be used to fill these with the most frequent value \n",
    "# within that column\n",
    "nan_imputer = Imputer(strategy='most_frequent')\n",
    "\n",
    "azdias_impclean = pd.DataFrame(nan_imputer.fit_transform(azdias_clean))\n",
    "azdias_impclean.columns = azdias_clean.columns\n",
    "azdias_impclean.index = azdias_clean.index"
   ]
  },
  {
   "cell_type": "code",
   "execution_count": 43,
   "metadata": {},
   "outputs": [
    {
     "name": "stdout",
     "output_type": "stream",
     "text": [
      "Number of null values: 0\n"
     ]
    }
   ],
   "source": [
    "null_vals = azdias_impclean.isnull().sum().sum()\n",
    "print('Number of null values: {}'.format(null_vals))"
   ]
  },
  {
   "cell_type": "code",
   "execution_count": 44,
   "metadata": {},
   "outputs": [
    {
     "data": {
      "text/html": [
       "<div>\n",
       "<style scoped>\n",
       "    .dataframe tbody tr th:only-of-type {\n",
       "        vertical-align: middle;\n",
       "    }\n",
       "\n",
       "    .dataframe tbody tr th {\n",
       "        vertical-align: top;\n",
       "    }\n",
       "\n",
       "    .dataframe thead th {\n",
       "        text-align: right;\n",
       "    }\n",
       "</style>\n",
       "<table border=\"1\" class=\"dataframe\">\n",
       "  <thead>\n",
       "    <tr style=\"text-align: right;\">\n",
       "      <th></th>\n",
       "      <th>ALTERSKATEGORIE_GROB</th>\n",
       "      <th>ANREDE_KZ</th>\n",
       "      <th>FINANZ_MINIMALIST</th>\n",
       "      <th>FINANZ_SPARER</th>\n",
       "      <th>FINANZ_VORSORGER</th>\n",
       "      <th>FINANZ_ANLEGER</th>\n",
       "      <th>FINANZ_UNAUFFAELLIGER</th>\n",
       "      <th>FINANZ_HAUSBAUER</th>\n",
       "      <th>GREEN_AVANTGARDE</th>\n",
       "      <th>HEALTH_TYP</th>\n",
       "      <th>...</th>\n",
       "      <th>PLZ8_ANTG4</th>\n",
       "      <th>PLZ8_HHZ</th>\n",
       "      <th>PLZ8_GBZ</th>\n",
       "      <th>ARBEIT</th>\n",
       "      <th>ORTSGR_KLS9</th>\n",
       "      <th>RELAT_AB</th>\n",
       "      <th>DECADE</th>\n",
       "      <th>MOVEMENT</th>\n",
       "      <th>WEALTH</th>\n",
       "      <th>LIFE_STAGE</th>\n",
       "    </tr>\n",
       "  </thead>\n",
       "  <tbody>\n",
       "    <tr>\n",
       "      <th>0</th>\n",
       "      <td>-1.766334</td>\n",
       "      <td>0.958071</td>\n",
       "      <td>-1.494609</td>\n",
       "      <td>1.538200</td>\n",
       "      <td>-1.040726</td>\n",
       "      <td>1.466448</td>\n",
       "      <td>0.959677</td>\n",
       "      <td>1.338816</td>\n",
       "      <td>-0.530567</td>\n",
       "      <td>1.010368</td>\n",
       "      <td>...</td>\n",
       "      <td>0.441766</td>\n",
       "      <td>1.455006</td>\n",
       "      <td>0.573846</td>\n",
       "      <td>-0.171603</td>\n",
       "      <td>-0.127145</td>\n",
       "      <td>0.684744</td>\n",
       "      <td>1.098531</td>\n",
       "      <td>0.530567</td>\n",
       "      <td>1.175734</td>\n",
       "      <td>-1.249157</td>\n",
       "    </tr>\n",
       "    <tr>\n",
       "      <th>1</th>\n",
       "      <td>0.200589</td>\n",
       "      <td>0.958071</td>\n",
       "      <td>-1.494609</td>\n",
       "      <td>0.864824</td>\n",
       "      <td>-1.766955</td>\n",
       "      <td>-0.570799</td>\n",
       "      <td>0.244962</td>\n",
       "      <td>1.338816</td>\n",
       "      <td>1.884775</td>\n",
       "      <td>1.010368</td>\n",
       "      <td>...</td>\n",
       "      <td>-0.935489</td>\n",
       "      <td>0.419154</td>\n",
       "      <td>0.573846</td>\n",
       "      <td>-0.171603</td>\n",
       "      <td>-0.127145</td>\n",
       "      <td>-0.789154</td>\n",
       "      <td>1.098531</td>\n",
       "      <td>-1.884775</td>\n",
       "      <td>-0.869674</td>\n",
       "      <td>0.766845</td>\n",
       "    </tr>\n",
       "    <tr>\n",
       "      <th>2</th>\n",
       "      <td>1.184051</td>\n",
       "      <td>0.958071</td>\n",
       "      <td>0.683150</td>\n",
       "      <td>-0.481928</td>\n",
       "      <td>1.137960</td>\n",
       "      <td>-0.570799</td>\n",
       "      <td>-1.184467</td>\n",
       "      <td>-0.792034</td>\n",
       "      <td>-0.530567</td>\n",
       "      <td>-0.311674</td>\n",
       "      <td>...</td>\n",
       "      <td>-0.935489</td>\n",
       "      <td>-0.616697</td>\n",
       "      <td>0.573846</td>\n",
       "      <td>-1.173369</td>\n",
       "      <td>-0.997689</td>\n",
       "      <td>-0.052205</td>\n",
       "      <td>-0.267356</td>\n",
       "      <td>0.530567</td>\n",
       "      <td>-1.551476</td>\n",
       "      <td>-0.577156</td>\n",
       "    </tr>\n",
       "    <tr>\n",
       "      <th>3</th>\n",
       "      <td>0.200589</td>\n",
       "      <td>-1.043765</td>\n",
       "      <td>0.683150</td>\n",
       "      <td>0.191448</td>\n",
       "      <td>0.411731</td>\n",
       "      <td>-1.249881</td>\n",
       "      <td>0.244962</td>\n",
       "      <td>-0.792034</td>\n",
       "      <td>-0.530567</td>\n",
       "      <td>1.010368</td>\n",
       "      <td>...</td>\n",
       "      <td>0.441766</td>\n",
       "      <td>-0.616697</td>\n",
       "      <td>-0.337337</td>\n",
       "      <td>0.830164</td>\n",
       "      <td>0.308127</td>\n",
       "      <td>1.421694</td>\n",
       "      <td>-0.267356</td>\n",
       "      <td>0.530567</td>\n",
       "      <td>0.493932</td>\n",
       "      <td>0.094845</td>\n",
       "    </tr>\n",
       "    <tr>\n",
       "      <th>4</th>\n",
       "      <td>-1.766334</td>\n",
       "      <td>0.958071</td>\n",
       "      <td>-0.042770</td>\n",
       "      <td>-1.155304</td>\n",
       "      <td>1.137960</td>\n",
       "      <td>-0.570799</td>\n",
       "      <td>-0.469752</td>\n",
       "      <td>1.338816</td>\n",
       "      <td>-0.530567</td>\n",
       "      <td>1.010368</td>\n",
       "      <td>...</td>\n",
       "      <td>0.441766</td>\n",
       "      <td>1.455006</td>\n",
       "      <td>1.485029</td>\n",
       "      <td>-1.173369</td>\n",
       "      <td>-0.997689</td>\n",
       "      <td>-0.052205</td>\n",
       "      <td>-1.633243</td>\n",
       "      <td>0.530567</td>\n",
       "      <td>1.175734</td>\n",
       "      <td>0.766845</td>\n",
       "    </tr>\n",
       "  </tbody>\n",
       "</table>\n",
       "<p>5 rows × 64 columns</p>\n",
       "</div>"
      ],
      "text/plain": [
       "   ALTERSKATEGORIE_GROB  ANREDE_KZ  FINANZ_MINIMALIST  FINANZ_SPARER  \\\n",
       "0             -1.766334   0.958071          -1.494609       1.538200   \n",
       "1              0.200589   0.958071          -1.494609       0.864824   \n",
       "2              1.184051   0.958071           0.683150      -0.481928   \n",
       "3              0.200589  -1.043765           0.683150       0.191448   \n",
       "4             -1.766334   0.958071          -0.042770      -1.155304   \n",
       "\n",
       "   FINANZ_VORSORGER  FINANZ_ANLEGER  FINANZ_UNAUFFAELLIGER  FINANZ_HAUSBAUER  \\\n",
       "0         -1.040726        1.466448               0.959677          1.338816   \n",
       "1         -1.766955       -0.570799               0.244962          1.338816   \n",
       "2          1.137960       -0.570799              -1.184467         -0.792034   \n",
       "3          0.411731       -1.249881               0.244962         -0.792034   \n",
       "4          1.137960       -0.570799              -0.469752          1.338816   \n",
       "\n",
       "   GREEN_AVANTGARDE  HEALTH_TYP     ...      PLZ8_ANTG4  PLZ8_HHZ  PLZ8_GBZ  \\\n",
       "0         -0.530567    1.010368     ...        0.441766  1.455006  0.573846   \n",
       "1          1.884775    1.010368     ...       -0.935489  0.419154  0.573846   \n",
       "2         -0.530567   -0.311674     ...       -0.935489 -0.616697  0.573846   \n",
       "3         -0.530567    1.010368     ...        0.441766 -0.616697 -0.337337   \n",
       "4         -0.530567    1.010368     ...        0.441766  1.455006  1.485029   \n",
       "\n",
       "     ARBEIT  ORTSGR_KLS9  RELAT_AB    DECADE  MOVEMENT    WEALTH  LIFE_STAGE  \n",
       "0 -0.171603    -0.127145  0.684744  1.098531  0.530567  1.175734   -1.249157  \n",
       "1 -0.171603    -0.127145 -0.789154  1.098531 -1.884775 -0.869674    0.766845  \n",
       "2 -1.173369    -0.997689 -0.052205 -0.267356  0.530567 -1.551476   -0.577156  \n",
       "3  0.830164     0.308127  1.421694 -0.267356  0.530567  0.493932    0.094845  \n",
       "4 -1.173369    -0.997689 -0.052205 -1.633243  0.530567  1.175734    0.766845  \n",
       "\n",
       "[5 rows x 64 columns]"
      ]
     },
     "execution_count": 44,
     "metadata": {},
     "output_type": "execute_result"
    }
   ],
   "source": [
    "# Apply feature scaling to the general population demographics data.\n",
    "scaler = StandardScaler()\n",
    "\n",
    "azdias_scaclean = scaler.fit_transform(azdias_impclean)\n",
    "azdias_scaclean = pd.DataFrame(azdias_scaclean, columns=azdias_impclean.columns.tolist())\n",
    "\n",
    "azdias_scaclean.head()"
   ]
  },
  {
   "cell_type": "markdown",
   "metadata": {},
   "source": [
    "### Discussion 2.1: Apply Feature Scaling\n",
    "\n",
    "Because sklearn requires that data not have missing values in order for its estimators to work properly, I began with investigating how many NaN values the clean dataset had. This turned out to be quite a large number (over 700k) and spanned 34 columns. Instead of removing all of these data points and potentially losing valuable information, I applied an Imputer to replace them with the most frequent value within that column. I chose the most frequent value to avoid introducing any values abnormal to the dataset. \n",
    "\n",
    "When it came to scaling the dataset, I chose to implement the suggested StandardScaler. This scaled each feature to a mean of 0 and a standard deviation of 1. This standardization of the dataset is important when ensuring that machine learning algorithms predict correctly."
   ]
  },
  {
   "cell_type": "markdown",
   "metadata": {},
   "source": [
    "### Step 2.2: Perform Dimensionality Reduction\n",
    "\n",
    "On your scaled data, you are now ready to apply dimensionality reduction techniques.\n",
    "\n",
    "- Use sklearn's [PCA](http://scikit-learn.org/stable/modules/generated/sklearn.decomposition.PCA.html) class to apply principal component analysis on the data, thus finding the vectors of maximal variance in the data. To start, you should not set any parameters (so all components are computed) or set a number of components that is at least half the number of features (so there's enough features to see the general trend in variability).\n",
    "- Check out the ratio of variance explained by each principal component as well as the cumulative variance explained. Try plotting the cumulative or sequential values using matplotlib's [`plot()`](https://matplotlib.org/api/_as_gen/matplotlib.pyplot.plot.html) function. Based on what you find, select a value for the number of transformed features you'll retain for the clustering part of the project.\n",
    "- Once you've made a choice for the number of components to keep, make sure you re-fit a PCA instance to perform the decided-on transformation."
   ]
  },
  {
   "cell_type": "code",
   "execution_count": 45,
   "metadata": {},
   "outputs": [
    {
     "data": {
      "text/plain": [
       "PCA(copy=True, iterated_power='auto', n_components=None, random_state=None,\n",
       "  svd_solver='auto', tol=0.0, whiten=False)"
      ]
     },
     "execution_count": 45,
     "metadata": {},
     "output_type": "execute_result"
    }
   ],
   "source": [
    "# Apply PCA to the data.\n",
    "pca = PCA()\n",
    "pca.fit(azdias_scaclean)"
   ]
  },
  {
   "cell_type": "code",
   "execution_count": 46,
   "metadata": {},
   "outputs": [
    {
     "data": {
      "image/png": "[encoded data removed]",
      "text/plain": [
       "<matplotlib.figure.Figure at 0x7f1a408ce1d0>"
      ]
     },
     "metadata": {
      "needs_background": "light"
     },
     "output_type": "display_data"
    }
   ],
   "source": [
    "# Investigate the variance accounted for by each principal component.\n",
    "plt.bar(range(len(pca.explained_variance_ratio_)), pca.explained_variance_ratio_);\n",
    "plt.title('Ratio of Variance Explained by Each Principal Component');\n",
    "plt.xlabel('Number of Principal Components');\n",
    "plt.ylabel('Ratio of Variance');"
   ]
  },
  {
   "cell_type": "code",
   "execution_count": 47,
   "metadata": {},
   "outputs": [
    {
     "data": {
      "image/png": "[encoded data removed]",
      "text/plain": [
       "<matplotlib.figure.Figure at 0x7f1a412a1f28>"
      ]
     },
     "metadata": {
      "needs_background": "light"
     },
     "output_type": "display_data"
    }
   ],
   "source": [
    "cum_vals = np.cumsum(pca.explained_variance_ratio_)\n",
    "\n",
    "plt.plot(range(len(pca.explained_variance_ratio_)), cum_vals);\n",
    "plt.title('Cumulative Variance Explained by Each Principal Component');\n",
    "plt.xlabel('Number of Principal Components');\n",
    "plt.ylabel('Cumulative Variance');"
   ]
  },
  {
   "cell_type": "code",
   "execution_count": 48,
   "metadata": {},
   "outputs": [],
   "source": [
    "# Re-apply PCA to the data while selecting for number of components to retain.\n",
    "pca_20 = PCA(n_components=20)\n",
    "azdias_pcaclean = pca_20.fit_transform(azdias_scaclean)"
   ]
  },
  {
   "cell_type": "markdown",
   "metadata": {},
   "source": [
    "### Discussion 2.2: Perform Dimensionality Reduction\n",
    "\n",
    "According to the plots above, keeping 20 principal components explains around 80% cumulative variances from the data. Retaining this number of components also reduces the number of features by over 2/3."
   ]
  },
  {
   "cell_type": "markdown",
   "metadata": {},
   "source": [
    "### Step 2.3: Interpret Principal Components\n",
    "\n",
    "Now that we have our transformed principal components, it's a nice idea to check out the weight of each variable on the first few components to see if they can be interpreted in some fashion.\n",
    "\n",
    "As a reminder, each principal component is a unit vector that points in the direction of highest variance (after accounting for the variance captured by earlier principal components). The further a weight is from zero, the more the principal component is in the direction of the corresponding feature. If two features have large weights of the same sign (both positive or both negative), then increases in one tend expect to be associated with increases in the other. To contrast, features with different signs can be expected to show a negative correlation: increases in one variable should result in a decrease in the other.\n",
    "\n",
    "- To investigate the features, you should map each weight to their corresponding feature name, then sort the features according to weight. The most interesting features for each principal component, then, will be those at the beginning and end of the sorted list. Use the data dictionary document to help you understand these most prominent features, their relationships, and what a positive or negative value on the principal component might indicate.\n",
    "- You should investigate and interpret feature associations from the first three principal components in this substep. To help facilitate this, you should write a function that you can call at any time to print the sorted list of feature weights, for the *i*-th principal component. This might come in handy in the next step of the project, when you interpret the tendencies of the discovered clusters."
   ]
  },
  {
   "cell_type": "code",
   "execution_count": 49,
   "metadata": {},
   "outputs": [],
   "source": [
    "# Map weights for the first principal component to corresponding feature names\n",
    "# and then print the linked values, sorted by weight.\n",
    "# HINT: Try defining a function here or in a new cell that you can reuse in the\n",
    "# other cells.\n",
    "def map_weights(pca, i):\n",
    "    df_weights = pd.DataFrame(pca.components_, columns=list(azdias_scaclean.columns)).iloc[i]\n",
    "    df_weights.sort_values(ascending=False, inplace=True)\n",
    "    \n",
    "    return df_weights"
   ]
  },
  {
   "cell_type": "code",
   "execution_count": 50,
   "metadata": {},
   "outputs": [
    {
     "name": "stdout",
     "output_type": "stream",
     "text": [
      "PLZ8_ANTG3               0.225338\n",
      "PLZ8_ANTG4               0.216950\n",
      "WEALTH                   0.204676\n",
      "HH_EINKOMMEN_SCORE       0.202271\n",
      "ORTSGR_KLS9              0.196768\n",
      "EWDICHTE                 0.194658\n",
      "FINANZ_HAUSBAUER         0.159595\n",
      "KBA05_ANTG4              0.154002\n",
      "PLZ8_ANTG2               0.153675\n",
      "FINANZ_SPARER            0.153008\n",
      "ARBEIT                   0.142577\n",
      "KBA05_ANTG3              0.136748\n",
      "ANZ_HAUSHALTE_AKTIV      0.136056\n",
      "RELAT_AB                 0.134957\n",
      "SEMIO_PFLICHT            0.121078\n",
      "SEMIO_REL                0.118514\n",
      "DECADE                   0.112169\n",
      "MOVEMENT                 0.110215\n",
      "SEMIO_RAT                0.099493\n",
      "SEMIO_TRADV              0.093647\n",
      "SEMIO_MAT                0.082390\n",
      "FINANZ_UNAUFFAELLIGER    0.080999\n",
      "SEMIO_FAM                0.080974\n",
      "SEMIO_KULT               0.075487\n",
      "FINANZ_ANLEGER           0.075006\n",
      "REGIOTYP                 0.060332\n",
      "OST_WEST_KZ              0.053660\n",
      "SEMIO_SOZ                0.043306\n",
      "PLZ8_HHZ                 0.042252\n",
      "HEALTH_TYP               0.041155\n",
      "                           ...   \n",
      "VERS_TYP                 0.032570\n",
      "SEMIO_DOM                0.023755\n",
      "KBA05_ANTG2              0.013757\n",
      "ANREDE_KZ                0.007499\n",
      "SEMIO_KRIT               0.003783\n",
      "SOHO_KZ                 -0.001991\n",
      "ANZ_TITEL               -0.004270\n",
      "RETOURTYP_BK_S          -0.021680\n",
      "SEMIO_VERT              -0.040588\n",
      "ONLINE_AFFINITAET       -0.041336\n",
      "MIN_GEBAEUDEJAHR        -0.043492\n",
      "WOHNDAUER_2008          -0.061276\n",
      "KBA13_ANZAHL_PKW        -0.074051\n",
      "SEMIO_LUST              -0.076854\n",
      "ANZ_PERSONEN            -0.078122\n",
      "SEMIO_ERL               -0.080132\n",
      "GREEN_AVANTGARDE        -0.110215\n",
      "GEBAEUDETYP_RASTER      -0.117198\n",
      "FINANZ_VORSORGER        -0.120078\n",
      "LIFE_STAGE              -0.125161\n",
      "ALTERSKATEGORIE_GROB    -0.125521\n",
      "BALLRAUM                -0.127328\n",
      "INNENSTADT              -0.164632\n",
      "PLZ8_GBZ                -0.166379\n",
      "KONSUMNAEHE             -0.167404\n",
      "KBA05_ANTG1             -0.214489\n",
      "KBA05_GBZ               -0.216050\n",
      "FINANZ_MINIMALIST       -0.223047\n",
      "MOBI_REGIO              -0.224919\n",
      "PLZ8_ANTG1              -0.225650\n",
      "Name: 0, Length: 64, dtype: float64\n"
     ]
    }
   ],
   "source": [
    "principal_one = map_weights(pca_20, 0)\n",
    "print(principal_one)"
   ]
  },
  {
   "cell_type": "code",
   "execution_count": 51,
   "metadata": {},
   "outputs": [
    {
     "name": "stdout",
     "output_type": "stream",
     "text": [
      "ALTERSKATEGORIE_GROB     0.256305\n",
      "SEMIO_ERL                0.229949\n",
      "FINANZ_VORSORGER         0.229251\n",
      "SEMIO_LUST               0.180152\n",
      "RETOURTYP_BK_S           0.161954\n",
      "FINANZ_HAUSBAUER         0.121730\n",
      "SEMIO_KRIT               0.117961\n",
      "SEMIO_KAEM               0.116444\n",
      "W_KEIT_KIND_HH           0.114787\n",
      "PLZ8_ANTG3               0.098346\n",
      "EWDICHTE                 0.097801\n",
      "ORTSGR_KLS9              0.096491\n",
      "PLZ8_ANTG4               0.096118\n",
      "ANREDE_KZ                0.093196\n",
      "WEALTH                   0.079151\n",
      "KBA05_ANTG4              0.075148\n",
      "SEMIO_DOM                0.074509\n",
      "ARBEIT                   0.071737\n",
      "RELAT_AB                 0.069221\n",
      "PLZ8_ANTG2               0.068126\n",
      "ANZ_HAUSHALTE_AKTIV      0.066394\n",
      "HH_EINKOMMEN_SCORE       0.061816\n",
      "FINANZ_MINIMALIST        0.059423\n",
      "WOHNDAUER_2008           0.058443\n",
      "KBA05_ANTG3              0.050483\n",
      "VERS_TYP                 0.032204\n",
      "ANZ_HH_TITEL             0.032056\n",
      "OST_WEST_KZ              0.027438\n",
      "MOVEMENT                 0.018369\n",
      "PLZ8_HHZ                 0.015847\n",
      "                           ...   \n",
      "KBA05_ANTG2             -0.001339\n",
      "SOHO_KZ                 -0.001957\n",
      "GREEN_AVANTGARDE        -0.018369\n",
      "KBA13_ANZAHL_PKW        -0.037891\n",
      "GEBAEUDETYP_RASTER      -0.047182\n",
      "MIN_GEBAEUDEJAHR        -0.049071\n",
      "HEALTH_TYP              -0.056916\n",
      "ANZ_PERSONEN            -0.064220\n",
      "BALLRAUM                -0.064641\n",
      "SEMIO_VERT              -0.072870\n",
      "KBA05_ANTG1             -0.074437\n",
      "KONSUMNAEHE             -0.074700\n",
      "PLZ8_GBZ                -0.075112\n",
      "INNENSTADT              -0.079575\n",
      "MOBI_REGIO              -0.080912\n",
      "KBA05_GBZ               -0.092293\n",
      "PLZ8_ANTG1              -0.096264\n",
      "SEMIO_SOZ               -0.103300\n",
      "SEMIO_MAT               -0.161724\n",
      "ONLINE_AFFINITAET       -0.165382\n",
      "SEMIO_RAT               -0.166992\n",
      "SEMIO_FAM               -0.184303\n",
      "FINANZ_ANLEGER          -0.202702\n",
      "SEMIO_KULT              -0.219805\n",
      "SEMIO_PFLICHT           -0.225463\n",
      "FINANZ_UNAUFFAELLIGER   -0.225499\n",
      "SEMIO_TRADV             -0.228320\n",
      "FINANZ_SPARER           -0.231676\n",
      "DECADE                  -0.238593\n",
      "SEMIO_REL               -0.253674\n",
      "Name: 1, Length: 64, dtype: float64\n"
     ]
    }
   ],
   "source": [
    "# Map weights for the second principal component to corresponding feature names\n",
    "# and then print the linked values, sorted by weight.\n",
    "principal_two = map_weights(pca_20, 1)\n",
    "print(principal_two)"
   ]
  },
  {
   "cell_type": "code",
   "execution_count": 52,
   "metadata": {},
   "outputs": [
    {
     "name": "stdout",
     "output_type": "stream",
     "text": [
      "SEMIO_VERT               0.344672\n",
      "SEMIO_SOZ                0.261895\n",
      "SEMIO_FAM                0.248881\n",
      "SEMIO_KULT               0.233828\n",
      "FINANZ_MINIMALIST        0.154534\n",
      "RETOURTYP_BK_S           0.109145\n",
      "FINANZ_VORSORGER         0.101761\n",
      "W_KEIT_KIND_HH           0.085191\n",
      "ALTERSKATEGORIE_GROB     0.079762\n",
      "SEMIO_REL                0.067786\n",
      "SEMIO_LUST               0.064607\n",
      "SEMIO_MAT                0.055617\n",
      "ORTSGR_KLS9              0.050257\n",
      "EWDICHTE                 0.049470\n",
      "PLZ8_ANTG4               0.049101\n",
      "PLZ8_ANTG3               0.048430\n",
      "GREEN_AVANTGARDE         0.047102\n",
      "ARBEIT                   0.037300\n",
      "RELAT_AB                 0.034320\n",
      "PLZ8_ANTG2               0.032681\n",
      "WOHNDAUER_2008           0.032599\n",
      "WEALTH                   0.030155\n",
      "KBA05_ANTG4              0.029948\n",
      "ANZ_HAUSHALTE_AKTIV      0.026779\n",
      "OST_WEST_KZ              0.016277\n",
      "ANZ_HH_TITEL             0.013923\n",
      "KBA05_ANTG3              0.011816\n",
      "ANZ_TITEL                0.009711\n",
      "PLZ8_HHZ                 0.005569\n",
      "VERS_TYP                 0.001856\n",
      "                           ...   \n",
      "ANZ_PERSONEN            -0.010723\n",
      "KKK                     -0.015510\n",
      "HH_EINKOMMEN_SCORE      -0.016536\n",
      "MIN_GEBAEUDEJAHR        -0.018016\n",
      "KBA05_ANTG1             -0.022224\n",
      "KBA13_ANZAHL_PKW        -0.023782\n",
      "MOBI_REGIO              -0.026932\n",
      "KBA05_GBZ               -0.029010\n",
      "GEBAEUDETYP_RASTER      -0.032117\n",
      "HEALTH_TYP              -0.033849\n",
      "BALLRAUM                -0.037240\n",
      "FINANZ_HAUSBAUER        -0.039840\n",
      "KONSUMNAEHE             -0.040433\n",
      "PLZ8_GBZ                -0.040558\n",
      "INNENSTADT              -0.045739\n",
      "MOVEMENT                -0.047102\n",
      "PLZ8_ANTG1              -0.049407\n",
      "ONLINE_AFFINITAET       -0.055754\n",
      "SEMIO_TRADV             -0.079451\n",
      "SEMIO_PFLICHT           -0.080149\n",
      "FINANZ_UNAUFFAELLIGER   -0.101065\n",
      "FINANZ_SPARER           -0.107221\n",
      "DECADE                  -0.111718\n",
      "SEMIO_ERL               -0.175215\n",
      "FINANZ_ANLEGER          -0.191000\n",
      "SEMIO_RAT               -0.217766\n",
      "SEMIO_KRIT              -0.275065\n",
      "SEMIO_DOM               -0.313039\n",
      "SEMIO_KAEM              -0.335063\n",
      "ANREDE_KZ               -0.367342\n",
      "Name: 2, Length: 64, dtype: float64\n"
     ]
    }
   ],
   "source": [
    "# Map weights for the third principal component to corresponding feature names\n",
    "# and then print the linked values, sorted by weight.\n",
    "principal_three = map_weights(pca_20, 2)\n",
    "print(principal_three)"
   ]
  },
  {
   "cell_type": "code",
   "execution_count": 53,
   "metadata": {},
   "outputs": [],
   "source": [
    "positive_vals = ['PLZ8_ANTG3', 'PLZ8_ANTG4', 'WEALTH', 'ALTERSKATEGORIE_GROB', \n",
    "                 'SEMIO_ERL', 'FINANZ_VORSORGER', 'SEMIO_VERT', 'SEMIO_SOZ', 'SEMIO_FAM']\n",
    "\n",
    "negative_vals = ['PLZ8_ANTG1', 'MOBI_REGIO', 'FINANZ_MINIMALIST', 'SEMIO_REL', \n",
    "                 'DECADE', 'FINANZ_SPARER', 'ANREDE_KZ', 'SEMIO_KAEM', 'SEMIO_DOM']"
   ]
  },
  {
   "cell_type": "markdown",
   "metadata": {},
   "source": [
    "### Discussion 2.3: Interpret Principal Components\n",
    "\n",
    "**1st Principal Component**\n",
    "- Top 3 Positive Values:\n",
    "    - `PLZ8_ANTG3` 0.225113 (Number of 6-10 family houses in the PLZ8 region)\n",
    "    - `PLZ8_ANTG4` 0.216707 (Number of 10+ family houses in the PLZ8 region)\n",
    "    - `WEALTH` 0.204511 (Wealth bracket)\n",
    "- Top 3 Negative Values:\n",
    "    - `PLZ8_ANTG1` -0.225470 (Number of 1-2 family houses in the PLZ8 region)\n",
    "    - `MOBI_REGIO` -0.224858 (Movement patterns)\n",
    "    - `FINANZ_MINIMALIST` -0.223368 (Financial typology: low financial interest)\n",
    "- The first principal component corresponds to this: as the number of large family houses increase, small family houses will decrease. Also, wealth will increase while movement within the region and low financial interest decrease. More people living in one area will result in a general higher income for that region, which may influence people to not want to move out of the area and instead stay and spend their money in the area. \n",
    "   \n",
    "**2nd Principal Component**\n",
    "- Top 3 Positive Values:\n",
    "    - `ALTERSKATEGORIE_GROB` 0.256059 (Estimated age based on given name analysis)\n",
    "    - `SEMIO_ERL` 0.229830 (Personality typology: event-oriented)\n",
    "    - `FINANZ_VORSORGER` 0.228709 (Financial typology: be prepared)\n",
    "- Top 3 Negative Values:\n",
    "    - `SEMIO_REL` -0.253286 (Personality typology: religious)\n",
    "    - `DECADE` -0.238408 (Generation by decade)\n",
    "    - `FINANZ_SPARER` -0.231265 (Financial typology: money-saver)\n",
    "- The second principal component corresponds to this: as estimated age, event-oriented personalities, and prepared financial situations increase religion, generation by decade, and money-saver financial situations decrease. This principal component doesn't make too much sense to me, as one would think there would be positive correlations between age and generations as well as between prepared and money-saver financial typologies. \n",
    "\n",
    "**3rd Principal Component**\n",
    "- Top 3 Positive Values:\n",
    "    - `SEMIO_VERT` 0.344671 (Personality typology: dreamful)\n",
    "    - `SEMIO_SOZ` 0.261865 (Personality typology: socially-minded)\n",
    "    - `SEMIO_FAM` 0.248853 (Personality typology: family-minded)\n",
    "- Top 3 Negative Values:\n",
    "    - `ANREDE_KZ` -0.367298 (Gender)\n",
    "    - `SEMIO_KAEM` -0.335030 (Personality typology: combative attitude)\n",
    "    - `SEMIO_DOM` -0.313037 (Personality typology: dominant-minded)\n",
    "- The third principal component corresponds to a lot of personality typologies. As dreamful, socially-minded, and family-minded personalities increase, combative and dominant-minded personalities decrease. This negative correlation makes sense because people who are more dreamful, socially-minded, and family-minded tend to be more docile or submissive as opposed to those who are combative and dominant. I am not exactly sure how to translate gender's role in this correlation, but it is positively correlated with the negative values."
   ]
  },
  {
   "cell_type": "markdown",
   "metadata": {},
   "source": [
    "## Step 3: Clustering\n",
    "\n",
    "### Step 3.1: Apply Clustering to General Population\n",
    "\n",
    "You've assessed and cleaned the demographics data, then scaled and transformed them. Now, it's time to see how the data clusters in the principal components space. In this substep, you will apply k-means clustering to the dataset and use the average within-cluster distances from each point to their assigned cluster's centroid to decide on a number of clusters to keep.\n",
    "\n",
    "- Use sklearn's [KMeans](http://scikit-learn.org/stable/modules/generated/sklearn.cluster.KMeans.html#sklearn.cluster.KMeans) class to perform k-means clustering on the PCA-transformed data.\n",
    "- Then, compute the average difference from each point to its assigned cluster's center. **Hint**: The KMeans object's `.score()` method might be useful here, but note that in sklearn, scores tend to be defined so that larger is better. Try applying it to a small, toy dataset, or use an internet search to help your understanding.\n",
    "- Perform the above two steps for a number of different cluster counts. You can then see how the average distance decreases with an increasing number of clusters. However, each additional cluster provides a smaller net benefit. Use this fact to select a final number of clusters in which to group the data. **Warning**: because of the large size of the dataset, it can take a long time for the algorithm to resolve. The more clusters to fit, the longer the algorithm will take. You should test for cluster counts through at least 10 clusters to get the full picture, but you shouldn't need to test for a number of clusters above about 30.\n",
    "- Once you've selected a final number of clusters to use, re-fit a KMeans instance to perform the clustering operation. Make sure that you also obtain the cluster assignments for the general demographics data, since you'll be using them in the final Step 3.3."
   ]
  },
  {
   "cell_type": "code",
   "execution_count": 54,
   "metadata": {},
   "outputs": [],
   "source": [
    "# Over a number of different cluster counts...\n",
    "scores = []\n",
    "clusters = list(range(1, 10))\n",
    "\n",
    "for n in clusters:\n",
    "    # run k-means clustering on the data and...\n",
    "    kmeans = KMeans(n_clusters=n)\n",
    "    model = kmeans.fit(azdias_pcaclean)\n",
    "    \n",
    "    # compute the average within-cluster distances.\n",
    "    score = np.abs(model.score(azdias_pcaclean))\n",
    "    scores.append(score)"
   ]
  },
  {
   "cell_type": "code",
   "execution_count": 55,
   "metadata": {},
   "outputs": [
    {
     "data": {
      "image/png": "[encoded data removed]",
      "text/plain": [
       "<matplotlib.figure.Figure at 0x7f1a40adb710>"
      ]
     },
     "metadata": {
      "needs_background": "light"
     },
     "output_type": "display_data"
    }
   ],
   "source": [
    "# Investigate the change in within-cluster distance across number of clusters.\n",
    "# HINT: Use matplotlib's plot function to visualize this relationship.\n",
    "plt.plot(clusters, scores, marker='o');\n",
    "plt.title('Change in Distance Across Number of Clusters');\n",
    "plt.xlabel('Number of Clusters');\n",
    "plt.ylabel('Average Distance');"
   ]
  },
  {
   "cell_type": "code",
   "execution_count": 56,
   "metadata": {},
   "outputs": [],
   "source": [
    "# Re-fit the k-means model with the selected number of clusters and obtain\n",
    "# cluster predictions for the general population demographics data.\n",
    "kmeans = KMeans(n_clusters=6)\n",
    "model = kmeans.fit(azdias_pcaclean)\n",
    "azdias_clusters = model.predict(azdias_pcaclean)"
   ]
  },
  {
   "cell_type": "markdown",
   "metadata": {},
   "source": [
    "### Discussion 3.1: Apply Clustering to General Population\n",
    "\n",
    "Seeing as the plot created above is less linear and more curved, the \"elbow\" of the curve is a little more difficult to find. Using my own judgement, I decided to re-fit the k-means model with 6 clusters. This looks like the point at which adding more clusters no longer creates a substantial decrease in the average distance."
   ]
  },
  {
   "cell_type": "markdown",
   "metadata": {},
   "source": [
    "### Step 3.2: Apply All Steps to the Customer Data\n",
    "\n",
    "Now that you have clusters and cluster centers for the general population, it's time to see how the customer data maps on to those clusters. Take care to not confuse this for re-fitting all of the models to the customer data. Instead, you're going to use the fits from the general population to clean, transform, and cluster the customer data. In the last step of the project, you will interpret how the general population fits apply to the customer data.\n",
    "\n",
    "- Don't forget when loading in the customers data, that it is semicolon (`;`) delimited.\n",
    "- Apply the same feature wrangling, selection, and engineering steps to the customer demographics using the `clean_data()` function you created earlier. (You can assume that the customer demographics data has similar meaning behind missing data patterns as the general demographics data.)\n",
    "- Use the sklearn objects from the general demographics data, and apply their transformations to the customers data. That is, you should not be using a `.fit()` or `.fit_transform()` method to re-fit the old objects, nor should you be creating new sklearn objects! Carry the data through the feature scaling, PCA, and clustering steps, obtaining cluster assignments for all of the data in the customer demographics data."
   ]
  },
  {
   "cell_type": "code",
   "execution_count": 57,
   "metadata": {},
   "outputs": [],
   "source": [
    "# Load in the customer demographics data.\n",
    "customers = pd.read_csv('Udacity_CUSTOMERS_Subset.csv', sep=';')"
   ]
  },
  {
   "cell_type": "code",
   "execution_count": 58,
   "metadata": {},
   "outputs": [],
   "source": [
    "# Apply preprocessing, feature transformation, and clustering from the general\n",
    "# demographics onto the customer data, obtaining cluster predictions for the\n",
    "# customer demographics data.\n",
    "\n",
    "# Preprocessing: Wrangling, Selection, and Engineering\n",
    "customers_clean = clean_data(customers)"
   ]
  },
  {
   "cell_type": "code",
   "execution_count": 59,
   "metadata": {},
   "outputs": [
    {
     "name": "stdout",
     "output_type": "stream",
     "text": [
      "Missing column(s): {'VERS_TYP'}\n"
     ]
    }
   ],
   "source": [
    "# This section of code was provided by Matt from Udacity \n",
    "# (https://knowledge.udacity.com/questions/65620)\n",
    "# and ensures that the columns between the two datasets are\n",
    "# the exact same before applying transformations\n",
    "\n",
    "# Find missing column(s)\n",
    "def add_missing_dummy_cols(df, columns):\n",
    "    missing_cols = set(columns) - set(df.columns)\n",
    "    print('Missing column(s):', missing_cols)\n",
    "    for c in missing_cols:\n",
    "        df[c] = 0\n",
    "\n",
    "# Find extra column(s) and fix the column(s)\n",
    "def fix_cols(df, columns):\n",
    "    add_missing_dummy_cols(df, columns)\n",
    "    assert(set(columns) - set(df.columns) == set())\n",
    "    extra_cols = set(df.columns) - set(columns)\n",
    "    if extra_cols:\n",
    "        print('Extra column(s):', extra_cols)\n",
    "    df=df[columns]\n",
    "    return df\n",
    "\n",
    "customers_clean = fix_cols(customers_clean, azdias_clean.columns.tolist())"
   ]
  },
  {
   "cell_type": "code",
   "execution_count": 60,
   "metadata": {},
   "outputs": [],
   "source": [
    "# Feature transformations\n",
    "# Imputer\n",
    "customers_impclean = pd.DataFrame(nan_imputer.transform(customers_clean))\n",
    "customers_impclean.columns = customers_clean.columns\n",
    "customers_impclean.index = customers_clean.index\n",
    "\n",
    "# Scaler\n",
    "customers_scaclean = scaler.transform(customers_impclean)\n",
    "customers_scaclean = pd.DataFrame(customers_scaclean, columns=customers_impclean.columns.tolist())\n",
    "\n",
    "# PCA\n",
    "customers_pcaclean = pca_20.transform(customers_scaclean)"
   ]
  },
  {
   "cell_type": "code",
   "execution_count": 61,
   "metadata": {},
   "outputs": [],
   "source": [
    "# Cluster predictions\n",
    "customers_clusters = model.predict(customers_pcaclean)"
   ]
  },
  {
   "cell_type": "markdown",
   "metadata": {},
   "source": [
    "### Step 3.3: Compare Customer Data to Demographics Data\n",
    "\n",
    "At this point, you have clustered data based on demographics of the general population of Germany, and seen how the customer data for a mail-order sales company maps onto those demographic clusters. In this final substep, you will compare the two cluster distributions to see where the strongest customer base for the company is.\n",
    "\n",
    "Consider the proportion of persons in each cluster for the general population, and the proportions for the customers. If we think the company's customer base to be universal, then the cluster assignment proportions should be fairly similar between the two. If there are only particular segments of the population that are interested in the company's products, then we should see a mismatch from one to the other. If there is a higher proportion of persons in a cluster for the customer data compared to the general population (e.g. 5% of persons are assigned to a cluster for the general population, but 15% of the customer data is closest to that cluster's centroid) then that suggests the people in that cluster to be a target audience for the company. On the other hand, the proportion of the data in a cluster being larger in the general population than the customer data (e.g. only 2% of customers closest to a population centroid that captures 6% of the data) suggests that group of persons to be outside of the target demographics.\n",
    "\n",
    "Take a look at the following points in this step:\n",
    "\n",
    "- Compute the proportion of data points in each cluster for the general population and the customer data. Visualizations will be useful here: both for the individual dataset proportions, but also to visualize the ratios in cluster representation between groups. Seaborn's [`countplot()`](https://seaborn.pydata.org/generated/seaborn.countplot.html) or [`barplot()`](https://seaborn.pydata.org/generated/seaborn.barplot.html) function could be handy.\n",
    "  - Recall the analysis you performed in step 1.1.3 of the project, where you separated out certain data points from the dataset if they had more than a specified threshold of missing values. If you found that this group was qualitatively different from the main bulk of the data, you should treat this as an additional data cluster in this analysis. Make sure that you account for the number of data points in this subset, for both the general population and customer datasets, when making your computations!\n",
    "- Which cluster or clusters are overrepresented in the customer dataset compared to the general population? Select at least one such cluster and infer what kind of people might be represented by that cluster. Use the principal component interpretations from step 2.3 or look at additional components to help you make this inference. Alternatively, you can use the `.inverse_transform()` method of the PCA and StandardScaler objects to transform centroids back to the original data space and interpret the retrieved values directly.\n",
    "- Perform a similar investigation for the underrepresented clusters. Which cluster or clusters are underrepresented in the customer dataset compared to the general population, and what kinds of people are typified by these clusters?"
   ]
  },
  {
   "cell_type": "code",
   "execution_count": 66,
   "metadata": {},
   "outputs": [
    {
     "data": {
      "image/png": "[encoded data removed]",
      "text/plain": [
       "<matplotlib.figure.Figure at 0x7f1a40c52240>"
      ]
     },
     "metadata": {
      "needs_background": "light"
     },
     "output_type": "display_data"
    }
   ],
   "source": [
    "# Compare the proportion of data in each cluster for the customer data to the\n",
    "# proportion of data in each cluster for the general population.\n",
    "# This section of code was provided by Rajat from Udacity \n",
    "# (https://knowledge.udacity.com/questions/905904)\n",
    "\n",
    "# Generate proportion for `customers_clusters`\n",
    "labels1, values1 = zip(*Counter(customers_clusters).items())\n",
    "v1 = list(values1)\n",
    "v1[:] = [x/len(customers_clusters) for x in v1]\n",
    "indexes1 = np.arange(len(labels1))\n",
    "\n",
    "# Generate proportion for `azdias_clusters`\n",
    "labels2, values2 = zip(*Counter(azdias_clusters).items())\n",
    "v2 = list(values2)\n",
    "v2[:] = [x/len(azdias_clusters) for x in v2]\n",
    "indexes2 = np.arange(len(labels2))\n",
    "\n",
    "# Set up the plot\n",
    "width = 0.5\n",
    "plt.bar(indexes2, v2, width, color='b', label='General Data');\n",
    "plt.bar(indexes1 + width, v1, width, color='r', label='Customer Data');\n",
    "plt.xticks(indexes1 + width * 0.5, labels1);\n",
    "plt.legend(loc='upper right');\n",
    "plt.grid();"
   ]
  },
  {
   "cell_type": "code",
   "execution_count": 67,
   "metadata": {},
   "outputs": [],
   "source": [
    "# What kinds of people are part of a cluster that is overrepresented in the\n",
    "# customer data compared to the general population?\n",
    "\n",
    "centroid_over = scaler.inverse_transform(pca_20.inverse_transform(model.cluster_centers_[5]))\n",
    "\n",
    "# What kinds of people are part of a cluster that is underrepresented in the\n",
    "# customer data compared to the general population?\n",
    "\n",
    "centroid_under = scaler.inverse_transform(pca_20.inverse_transform(model.cluster_centers_[1]))\n",
    "\n",
    "centroid_comparison = pd.DataFrame({'characteristic':customers_clean.columns, \n",
    "                                    'cluster_5':centroid_over, \n",
    "                                    'cluster_1':centroid_under})"
   ]
  },
  {
   "cell_type": "code",
   "execution_count": 68,
   "metadata": {},
   "outputs": [
    {
     "data": {
      "text/html": [
       "<div>\n",
       "<style scoped>\n",
       "    .dataframe tbody tr th:only-of-type {\n",
       "        vertical-align: middle;\n",
       "    }\n",
       "\n",
       "    .dataframe tbody tr th {\n",
       "        vertical-align: top;\n",
       "    }\n",
       "\n",
       "    .dataframe thead th {\n",
       "        text-align: right;\n",
       "    }\n",
       "</style>\n",
       "<table border=\"1\" class=\"dataframe\">\n",
       "  <thead>\n",
       "    <tr style=\"text-align: right;\">\n",
       "      <th></th>\n",
       "      <th>characteristic</th>\n",
       "      <th>cluster_5</th>\n",
       "      <th>cluster_1</th>\n",
       "    </tr>\n",
       "  </thead>\n",
       "  <tbody>\n",
       "    <tr>\n",
       "      <th>0</th>\n",
       "      <td>ALTERSKATEGORIE_GROB</td>\n",
       "      <td>3.333381</td>\n",
       "      <td>1.854327</td>\n",
       "    </tr>\n",
       "    <tr>\n",
       "      <th>4</th>\n",
       "      <td>FINANZ_VORSORGER</td>\n",
       "      <td>4.321545</td>\n",
       "      <td>2.189472</td>\n",
       "    </tr>\n",
       "    <tr>\n",
       "      <th>11</th>\n",
       "      <td>SEMIO_SOZ</td>\n",
       "      <td>5.040223</td>\n",
       "      <td>4.608880</td>\n",
       "    </tr>\n",
       "    <tr>\n",
       "      <th>12</th>\n",
       "      <td>SEMIO_FAM</td>\n",
       "      <td>4.776271</td>\n",
       "      <td>5.179417</td>\n",
       "    </tr>\n",
       "    <tr>\n",
       "      <th>15</th>\n",
       "      <td>SEMIO_VERT</td>\n",
       "      <td>6.032510</td>\n",
       "      <td>4.629584</td>\n",
       "    </tr>\n",
       "    <tr>\n",
       "      <th>17</th>\n",
       "      <td>SEMIO_ERL</td>\n",
       "      <td>4.281981</td>\n",
       "      <td>3.251859</td>\n",
       "    </tr>\n",
       "    <tr>\n",
       "      <th>53</th>\n",
       "      <td>PLZ8_ANTG3</td>\n",
       "      <td>1.051865</td>\n",
       "      <td>0.946989</td>\n",
       "    </tr>\n",
       "    <tr>\n",
       "      <th>54</th>\n",
       "      <td>PLZ8_ANTG4</td>\n",
       "      <td>0.278998</td>\n",
       "      <td>0.216085</td>\n",
       "    </tr>\n",
       "    <tr>\n",
       "      <th>62</th>\n",
       "      <td>WEALTH</td>\n",
       "      <td>2.483295</td>\n",
       "      <td>2.420673</td>\n",
       "    </tr>\n",
       "  </tbody>\n",
       "</table>\n",
       "</div>"
      ],
      "text/plain": [
       "          characteristic  cluster_5  cluster_1\n",
       "0   ALTERSKATEGORIE_GROB   3.333381   1.854327\n",
       "4       FINANZ_VORSORGER   4.321545   2.189472\n",
       "11             SEMIO_SOZ   5.040223   4.608880\n",
       "12             SEMIO_FAM   4.776271   5.179417\n",
       "15            SEMIO_VERT   6.032510   4.629584\n",
       "17             SEMIO_ERL   4.281981   3.251859\n",
       "53            PLZ8_ANTG3   1.051865   0.946989\n",
       "54            PLZ8_ANTG4   0.278998   0.216085\n",
       "62                WEALTH   2.483295   2.420673"
      ]
     },
     "execution_count": 68,
     "metadata": {},
     "output_type": "execute_result"
    }
   ],
   "source": [
    "centroid_comparison[centroid_comparison['characteristic'].isin(positive_vals)]"
   ]
  },
  {
   "cell_type": "code",
   "execution_count": 69,
   "metadata": {},
   "outputs": [
    {
     "data": {
      "text/html": [
       "<div>\n",
       "<style scoped>\n",
       "    .dataframe tbody tr th:only-of-type {\n",
       "        vertical-align: middle;\n",
       "    }\n",
       "\n",
       "    .dataframe tbody tr th {\n",
       "        vertical-align: top;\n",
       "    }\n",
       "\n",
       "    .dataframe thead th {\n",
       "        text-align: right;\n",
       "    }\n",
       "</style>\n",
       "<table border=\"1\" class=\"dataframe\">\n",
       "  <thead>\n",
       "    <tr style=\"text-align: right;\">\n",
       "      <th></th>\n",
       "      <th>characteristic</th>\n",
       "      <th>cluster_5</th>\n",
       "      <th>cluster_1</th>\n",
       "    </tr>\n",
       "  </thead>\n",
       "  <tbody>\n",
       "    <tr>\n",
       "      <th>1</th>\n",
       "      <td>ANREDE_KZ</td>\n",
       "      <td>1.077703</td>\n",
       "      <td>1.421298</td>\n",
       "    </tr>\n",
       "    <tr>\n",
       "      <th>2</th>\n",
       "      <td>FINANZ_MINIMALIST</td>\n",
       "      <td>4.561622</td>\n",
       "      <td>2.853167</td>\n",
       "    </tr>\n",
       "    <tr>\n",
       "      <th>3</th>\n",
       "      <td>FINANZ_SPARER</td>\n",
       "      <td>1.588289</td>\n",
       "      <td>4.010174</td>\n",
       "    </tr>\n",
       "    <tr>\n",
       "      <th>13</th>\n",
       "      <td>SEMIO_REL</td>\n",
       "      <td>3.651930</td>\n",
       "      <td>5.706795</td>\n",
       "    </tr>\n",
       "    <tr>\n",
       "      <th>21</th>\n",
       "      <td>SEMIO_DOM</td>\n",
       "      <td>3.179557</td>\n",
       "      <td>4.135385</td>\n",
       "    </tr>\n",
       "    <tr>\n",
       "      <th>22</th>\n",
       "      <td>SEMIO_KAEM</td>\n",
       "      <td>2.649111</td>\n",
       "      <td>3.616040</td>\n",
       "    </tr>\n",
       "    <tr>\n",
       "      <th>47</th>\n",
       "      <td>MOBI_REGIO</td>\n",
       "      <td>3.796852</td>\n",
       "      <td>3.655807</td>\n",
       "    </tr>\n",
       "    <tr>\n",
       "      <th>51</th>\n",
       "      <td>PLZ8_ANTG1</td>\n",
       "      <td>2.787817</td>\n",
       "      <td>2.874415</td>\n",
       "    </tr>\n",
       "    <tr>\n",
       "      <th>60</th>\n",
       "      <td>DECADE</td>\n",
       "      <td>3.466286</td>\n",
       "      <td>5.740208</td>\n",
       "    </tr>\n",
       "  </tbody>\n",
       "</table>\n",
       "</div>"
      ],
      "text/plain": [
       "       characteristic  cluster_5  cluster_1\n",
       "1           ANREDE_KZ   1.077703   1.421298\n",
       "2   FINANZ_MINIMALIST   4.561622   2.853167\n",
       "3       FINANZ_SPARER   1.588289   4.010174\n",
       "13          SEMIO_REL   3.651930   5.706795\n",
       "21          SEMIO_DOM   3.179557   4.135385\n",
       "22         SEMIO_KAEM   2.649111   3.616040\n",
       "47         MOBI_REGIO   3.796852   3.655807\n",
       "51         PLZ8_ANTG1   2.787817   2.874415\n",
       "60             DECADE   3.466286   5.740208"
      ]
     },
     "execution_count": 69,
     "metadata": {},
     "output_type": "execute_result"
    }
   ],
   "source": [
    "centroid_comparison[centroid_comparison['characteristic'].isin(negative_vals)]"
   ]
  },
  {
   "cell_type": "markdown",
   "metadata": {},
   "source": [
    "### Discussion 3.3: Compare Customer Data to Demographics Data\n",
    "\n",
    "**Target Audience**\n",
    "- Cluster 5 is overrepresented in the customer dataset compared to the general population. The people within this cluster represent the target audience for the company. Those who are part of the target audience have these characteristics:\n",
    "    - `ALTERSKATEGORIE_GROB` 3.333381 (Estimated age based on given name analysis)\n",
    "    - `FINANZ_VORSORGER` 4.321545 (Financial typology: be prepared)\n",
    "    - `SEMIO_SOZ` 5.040223 (Personality typology: socially-minded)\n",
    "    - `SEMIO_VERT` 6.032510 (Personality typology: dreamful)\n",
    "    - `SEMIO_ERL` 4.281981 (Personality typology: event-oriented)\n",
    "    - `PLZ8_ANTG3` 1.051865 (Number of 6-10 family houses in the PLZ8 region)\n",
    "    - `PLZ8_ANTG4` 0.278998 (Number of 10+ family houses in the PLZ8 region)\n",
    "    - `WEALTH` 2.483295 (Wealth bracket)\n",
    "- The people who are typified by cluster 5 as being within the company's target audience are between the ages of 46-60, are financially prepared, have personalities that are socially-minded; dreamful; and event-oriented, have large families consisting of 6 - 10+ members, and are prosperously wealthy.\n",
    "\n",
    "**Not the Target Audience**\n",
    "- Clusters 0, 1, and 3 are underrepresented in the customer dataset compated to the general population. The people within these clusters are not the target audience for the company. Those who are not in the taget audience have these characteristics according to cluster 1:\n",
    "    - `ANREDE_KZ` 1.421298 (Gender)\n",
    "    - `FINANZ_SPARER` 4.010174 (Financial typology: money-saver)\n",
    "    - `SEMIO_REL` 5.706795 (Personality typology: religious)\n",
    "    - `SEMIO_DOM` 4.135385 (Personality typology: dominant-minded)\n",
    "    - `SEMIO_KAEM` 3.616040 (Personality typology: combative attitude)\n",
    "    - `PLZ8_ANTG1` 2.874415 (Number of 1-2 family houses in the PLZ8 region)\n",
    "    - `DECADE` 5.740208 (Generation by decade)\n",
    "- The people who are typified by cluster 1 as not belonging to the company's target audience are money-savers, have personalities that are religious; dominant-minded; and combative, have a small family consisting of 1 - 2 members, and experienced the economic miracle as the dominating movement of their youth."
   ]
  },
  {
   "cell_type": "markdown",
   "metadata": {},
   "source": [
    "> Congratulations on making it this far in the project! Before you finish, make sure to check through the entire notebook from top to bottom to make sure that your analysis follows a logical flow and all of your findings are documented in **Discussion** cells. Once you've checked over all of your work, you should export the notebook as an HTML document to submit for evaluation. You can do this from the menu, navigating to **File -> Download as -> HTML (.html)**. You will submit both that document and this notebook for your project submission."
   ]
  },
  {
   "cell_type": "code",
   "execution_count": null,
   "metadata": {},
   "outputs": [],
   "source": []
  }
 ],
 "metadata": {
  "kernelspec": {
   "display_name": "Python 3",
   "language": "python",
   "name": "python3"
  },
  "language_info": {
   "codemirror_mode": {
    "name": "ipython",
    "version": 3
   },
   "file_extension": ".py",
   "mimetype": "text/x-python",
   "name": "python",
   "nbconvert_exporter": "python",
   "pygments_lexer": "ipython3",
   "version": "3.6.3"
  }
 },
 "nbformat": 4,
 "nbformat_minor": 2
}
