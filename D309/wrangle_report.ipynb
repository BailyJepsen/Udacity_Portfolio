{
 "cells": [
  {
   "cell_type": "markdown",
   "metadata": {},
   "source": [
    "## WeRateDogs Wrangle Report\n",
    "**Author:** Baily Jepsen\n",
    "\n",
    "**Project:** Wrangling and Analyzing WeRateDogs Twitter Data"
   ]
  },
  {
   "cell_type": "markdown",
   "metadata": {},
   "source": [
    "### Gathering Data"
   ]
  },
  {
   "cell_type": "markdown",
   "metadata": {},
   "source": [
    "For this project I gathered three sets of data, with three different methods, and loaded them into the `wrangle_act` notebook. First, I directly downloaded the WeRateDogs Twitter archive dataset from the provided file `twitter_archive_enhanced.csv`. Next, I utilized the Requests library to send a HTTP request to the Udacity server and download the tweet image prediction dataset programatically. Finally, I was to utilize the Tweepy library to query additional data via the Twitter API. This last task was quite difficult, as I kept getting error messages informing me that I needed a higher access level. I instead had to work with the provided `tweet-json.txt` file and gather the last set of data from it. "
   ]
  },
  {
   "cell_type": "markdown",
   "metadata": {},
   "source": [
    "### Assessing Data"
   ]
  },
  {
   "cell_type": "markdown",
   "metadata": {},
   "source": [
    "My visual and programmatic assessments of the gathered datasets produced eight quality issues and four tidiness issues. The visual assessment was simply displaying each of the three tables of data and documenting anything I noticed. Three out of the four tidiness issues were found during visual assessment.  The programmatic assessment allowed me to dig deeper and identify the majority of the quality issues.\n",
    "\n",
    "This project certainly highlighted the practice of iteration in data wrangling. Tidiness issue #2, where nine columns were dropped, was found after already completing some cleaning. "
   ]
  },
  {
   "cell_type": "markdown",
   "metadata": {},
   "source": [
    "### Cleaning Data"
   ]
  },
  {
   "cell_type": "markdown",
   "metadata": {},
   "source": [
    "The specifications for this project shaped the assessment and therefore the cleaning that was performed on the gathered sets of data. Through the cleaning of quality issues #1, #2, #4, #6, and #8, I ensured at the minimum that the final clean dataset only includes original tweets that have images (completeness). The cleaning of quality issues #3, #5, and #7 handle invalid and inaccurate data, ensuring that it conforms to real-world and specific-to-WeRateDogs constraints. \n",
    "\n",
    "Half of the tidiness issues pertain to the merging of columns into the archive dataframe for performing analyses and visualizations. Tidiness issues #1 and #2 address two examples of each variable not forming a column. In #1 variables that are spread across multiple columns are combined, and in #2 columns that have no variables are removed. "
   ]
  }
 ],
 "metadata": {
  "kernelspec": {
   "display_name": "Python 3 (ipykernel)",
   "language": "python",
   "name": "python3"
  },
  "language_info": {
   "codemirror_mode": {
    "name": "ipython",
    "version": 3
   },
   "file_extension": ".py",
   "mimetype": "text/x-python",
   "name": "python",
   "nbconvert_exporter": "python",
   "pygments_lexer": "ipython3",
   "version": "3.9.12"
  }
 },
 "nbformat": 4,
 "nbformat_minor": 2
}
