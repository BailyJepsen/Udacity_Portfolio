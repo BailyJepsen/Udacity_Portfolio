{
 "cells": [
  {
   "cell_type": "markdown",
   "metadata": {
    "extensions": {
     "jupyter_dashboards": {
      "version": 1,
      "views": {
       "grid_default": {
        "col": 0,
        "height": 4,
        "hidden": false,
        "row": 0,
        "width": 4
       },
       "report_default": {
        "hidden": false
       }
      }
     }
    }
   },
   "source": [
    "# Wrangling and Analyzing WeRateDogs Twitter Data\n",
    "by Baily Jepsen\n",
    "\n",
    "## Table of Contents\n",
    "<ul>\n",
    "    <li><a href=\"#gather\">Gathering Data</a></li>\n",
    "    <li><a href=\"#assess\">Assessing Data</a></li>\n",
    "    <li><a href=\"#clean\">Cleaning Data</a></li>\n",
    "    <li><a href=\"#store\">Storing Data</a></li>\n",
    "    <li><a href=\"#a/v\">Analyzing and Visualizing Data</a></li>\n",
    "</ul>"
   ]
  },
  {
   "cell_type": "code",
   "execution_count": 1,
   "metadata": {
    "extensions": {
     "jupyter_dashboards": {
      "version": 1,
      "views": {
       "grid_default": {
        "hidden": true
       },
       "report_default": {
        "hidden": true
       }
      }
     }
    }
   },
   "outputs": [],
   "source": [
    "# Import packages\n",
    "import pandas as pd\n",
    "import matplotlib.pyplot as plt\n",
    "import seaborn as sns\n",
    "import tweepy as tw\n",
    "import numpy as np\n",
    "import requests\n",
    "import json\n",
    "import os\n",
    "from timeit import default_timer as timer"
   ]
  },
  {
   "cell_type": "markdown",
   "metadata": {},
   "source": [
    "<a id='gather'></a>\n",
    "## Gathering Data\n",
    "\n",
    "In the cells below, I  gather all three sets of data for this project and load them in the notebook."
   ]
  },
  {
   "cell_type": "markdown",
   "metadata": {},
   "source": [
    "1. Directly download the WeRateDogs Twitter archive data."
   ]
  },
  {
   "cell_type": "code",
   "execution_count": 2,
   "metadata": {},
   "outputs": [],
   "source": [
    "archive_df = pd.read_csv('twitter-archive-enhanced.csv')"
   ]
  },
  {
   "cell_type": "markdown",
   "metadata": {},
   "source": [
    "2. Use the Requests library to download the tweet image prediction."
   ]
  },
  {
   "cell_type": "code",
   "execution_count": 3,
   "metadata": {},
   "outputs": [],
   "source": [
    "# Set the URL\n",
    "url = 'https://d17h27t6h515a5.cloudfront.net/topher/2017/August/599fd2ad_image-predictions/image-predictions.tsv'\n",
    "\n",
    "# Send a HTTP request to the Udacity server and download the file \n",
    "# programatically\n",
    "r = requests.get(url)\n",
    "\n",
    "# Split the URL, open the file in write/binary (wb) mode, and write to the file\n",
    "with open(os.path.join(url.split('/')[-1]), mode='wb') as file:\n",
    "    file.write(r.content)\n",
    "\n",
    "predictions_df = pd.read_csv('image-predictions.tsv', sep='\\t')"
   ]
  },
  {
   "cell_type": "markdown",
   "metadata": {},
   "source": [
    "3. Use the Tweepy library to query additional data via the Twitter API."
   ]
  },
  {
   "cell_type": "markdown",
   "metadata": {},
   "source": [
    "> **NOTE:**\n",
    "The following section of code is for review purpose only. Using the Twitter API did not work no matter how I tried to go about it. I kept getting an error message stating that I need a higher access level, and I found that I do not meet the requirements for the academic access level. \n",
    "\n",
    "> I finally decided to copy & paste the provided code in the \"Additional Resource: Twitter API\" section, but it also did not work. I acknowledge that I do understand what the code is attempting to do, which is writing tweet data to the tweet_json.txt file VIA the Tweepy API and storing the IDs of the tweets that throw an error in a python dictionary. "
   ]
  },
  {
   "cell_type": "code",
   "execution_count": null,
   "metadata": {},
   "outputs": [],
   "source": [
    "# Set Twitter keys\n",
    "consumer_key = ''\n",
    "consumer_secret = ''\n",
    "access_token = ''\n",
    "access_secret = ''\n",
    "\n",
    "# Create an API object that will be used to gather the Twitter data\n",
    "auth = tw.OAuthHandler(consumer_key, consumer_secret)\n",
    "auth.set_access_token(access_token, access_secret)\n",
    "\n",
    "# Automatically wait for rate limits to replenish and print a notification\n",
    "# when Tweepy is waiting for rate limits to replenish\n",
    "api = tw.API(auth, wait_on_rate_limit=True, wait_on_rate_limit_notify=True)\n",
    "\n",
    "print('Beginning Tweet Query')\n",
    "\n",
    "count = 0\n",
    "missing_tweets = {}\n",
    "start = timer()\n",
    "\n",
    "# Query the tweet IDs in the WeRateDogs Twitter archive\n",
    "tweet_ids = archive_df.tweet_id.values\n",
    "\n",
    "# Write the JSON data for each tweet ID to the tweet_json.txt file\n",
    "with open('tweet_json.txt', 'w') as outfile:\n",
    "    # This loop will likely take 20-30 minutes to run because of Twitter's rate \n",
    "    # limit\n",
    "    for tweet_id in tweet_ids:\n",
    "        count += 1\n",
    "        print(str(count) + \": \" + str(tweet_id))\n",
    "        try:\n",
    "            tweet = api.get_status(tweet_id, tweet_mode='extended')\n",
    "            print(\"Success\")\n",
    "            json.dump(tweet._json, outfile)\n",
    "            outfile.write('\\n')\n",
    "        except tw.TweepError as e:\n",
    "            print(\"Fail\")\n",
    "            missing_tweets[tweet_id] = e\n",
    "            pass\n",
    "end = timer()\n",
    "time = end - start\n",
    "print('Time:', time) \n",
    "print(missing_tweets)"
   ]
  },
  {
   "cell_type": "code",
   "execution_count": 4,
   "metadata": {},
   "outputs": [],
   "source": [
    "# Create a dataframe for the tweet data that is currently stored in a json.txt \n",
    "# file\n",
    "df = []\n",
    "with open('tweet-json.txt') as file:\n",
    "    for line in file:\n",
    "        # Load the json.txt file line by line\n",
    "        tweet = (json.loads(line))\n",
    "        \n",
    "        # Get the data that we are interested in\n",
    "        tweet_id = tweet['id']\n",
    "        retweet_count = tweet['retweet_count']\n",
    "        favorite_count = tweet['favorite_count']\n",
    "        \n",
    "        # Add the data to the df list \n",
    "        df.append({'tweet_id' : tweet_id,\n",
    "                  'retweet_count' : retweet_count,\n",
    "                  'favorite_count' : favorite_count})\n",
    "        \n",
    "# Convert the df list into a DataFrame\n",
    "extra_df = pd.DataFrame(df, columns = ['tweet_id', 'retweet_count', \n",
    "                                       'favorite_count'])"
   ]
  },
  {
   "cell_type": "markdown",
   "metadata": {},
   "source": [
    "Gathering of data is complete and has been loaded into these dataframes:\n",
    "> `archive_df`: Data from the WeRateDogs enhanced tweet archive.\n",
    "\n",
    "> `predictions_df`: Data from predictions made by a neural network that can classify breeds of dogs based on the images contained in the WeRateDogs tweets.\n",
    "\n",
    "> `extra_df`: Data on retweet and favorite counts from querying the Twitter API."
   ]
  },
  {
   "cell_type": "markdown",
   "metadata": {
    "extensions": {
     "jupyter_dashboards": {
      "version": 1,
      "views": {
       "grid_default": {
        "col": 4,
        "height": 4,
        "hidden": false,
        "row": 28,
        "width": 4
       },
       "report_default": {
        "hidden": false
       }
      }
     }
    }
   },
   "source": [
    "<a id='assess'></a>\n",
    "## Assessing Data\n",
    "In this section, I detect and document eight quality issues and four tidiness issues. I utilize both visual and programmatic assessement to assess the data."
   ]
  },
  {
   "cell_type": "markdown",
   "metadata": {},
   "source": [
    "### Visual Assessment"
   ]
  },
  {
   "cell_type": "code",
   "execution_count": null,
   "metadata": {
    "scrolled": true
   },
   "outputs": [],
   "source": [
    "archive_df"
   ]
  },
  {
   "cell_type": "markdown",
   "metadata": {},
   "source": [
    "<a id='q3a'></a>\n",
    "> Some values in the `name` column are not names, or are the string 'None' instead of indicating a missing value."
   ]
  },
  {
   "cell_type": "markdown",
   "metadata": {},
   "source": [
    "<a id='t1a'></a>\n",
    "> Values from the `doggo`, `floofer`, `pupper`, and `puppo` columns should be combined into one column. After combining these columns, they will contain repeated data and should be dropped."
   ]
  },
  {
   "cell_type": "code",
   "execution_count": null,
   "metadata": {
    "scrolled": true
   },
   "outputs": [],
   "source": [
    "predictions_df"
   ]
  },
  {
   "cell_type": "markdown",
   "metadata": {},
   "source": [
    "<a id='t3a'></a>\n",
    "> The columns `jpg_url`, `p1`, `p2`, and `p3` should be added to `archive_df`."
   ]
  },
  {
   "cell_type": "code",
   "execution_count": null,
   "metadata": {
    "scrolled": true
   },
   "outputs": [],
   "source": [
    "extra_df"
   ]
  },
  {
   "cell_type": "markdown",
   "metadata": {},
   "source": [
    "<a id='t4a'></a>\n",
    "> The columns `retweet_count` and `favorite_count` should be added to `archive_df`."
   ]
  },
  {
   "cell_type": "markdown",
   "metadata": {},
   "source": [
    "### Programmatic Assessment"
   ]
  },
  {
   "cell_type": "markdown",
   "metadata": {},
   "source": [
    "1. Assess `archive_df`"
   ]
  },
  {
   "cell_type": "code",
   "execution_count": null,
   "metadata": {},
   "outputs": [],
   "source": [
    "archive_df.info()"
   ]
  },
  {
   "cell_type": "markdown",
   "metadata": {},
   "source": [
    "<a id='q4a'></a>\n",
    "> The `timestamp` and `tweet_id` columns are the wrong data types. The `tweet_id` data type is incorrect across all dataframes."
   ]
  },
  {
   "cell_type": "code",
   "execution_count": null,
   "metadata": {},
   "outputs": [],
   "source": [
    "archive_df['rating_denominator'].value_counts()"
   ]
  },
  {
   "cell_type": "markdown",
   "metadata": {},
   "source": [
    "<a id='q5a'></a>\n",
    "> According to the unique WeRateDogs rating system, the majority of denominators will be 10. In order to know which denominators are correct and which are incorrect, we should assess each of the 23 entries with denominators other than 10. \n",
    "\n",
    "> For the sake of brevity I only include the programmatic assessments of the incorrect denominators that are not retweets or replies."
   ]
  },
  {
   "cell_type": "code",
   "execution_count": null,
   "metadata": {},
   "outputs": [],
   "source": [
    "# Gather all of the entries with a denominator of 11\n",
    "archive_df11 = archive_df.query('rating_denominator == 11')\n",
    "archive_df11"
   ]
  },
  {
   "cell_type": "code",
   "execution_count": null,
   "metadata": {
    "scrolled": false
   },
   "outputs": [],
   "source": [
    "archive_df11['text'].value_counts()"
   ]
  },
  {
   "cell_type": "markdown",
   "metadata": {},
   "source": [
    "> The ratings for the tweets with indexes `1068` and `1662` were pulled from the first instance of the format '#/#'. "
   ]
  },
  {
   "cell_type": "code",
   "execution_count": null,
   "metadata": {
    "scrolled": true
   },
   "outputs": [],
   "source": [
    "# Gather all of the entries with a denominator of 50\n",
    "archive_df50 = archive_df.query('rating_denominator == 50')\n",
    "archive_df50"
   ]
  },
  {
   "cell_type": "code",
   "execution_count": null,
   "metadata": {
    "scrolled": true
   },
   "outputs": [],
   "source": [
    "archive_df50['text'].value_counts()"
   ]
  },
  {
   "cell_type": "markdown",
   "metadata": {},
   "source": [
    "> The rating for the tweet with index `1202` was pulled from the first instance of the format '#/#'. "
   ]
  },
  {
   "cell_type": "code",
   "execution_count": null,
   "metadata": {
    "scrolled": true
   },
   "outputs": [],
   "source": [
    "# Gather all of the entries with a denominator of 20\n",
    "archive_df20 = archive_df.query('rating_denominator == 20')\n",
    "archive_df20"
   ]
  },
  {
   "cell_type": "code",
   "execution_count": null,
   "metadata": {},
   "outputs": [],
   "source": [
    "archive_df20['text'].value_counts()"
   ]
  },
  {
   "cell_type": "markdown",
   "metadata": {},
   "source": [
    "> The rating for the tweet with index `1165` was pulled from the first instance of the format '#/#'. "
   ]
  },
  {
   "cell_type": "code",
   "execution_count": null,
   "metadata": {},
   "outputs": [],
   "source": [
    "# Gather all of the entries with a denominator of 2\n",
    "archive_df2 = archive_df.query('rating_denominator == 2')\n",
    "archive_df2"
   ]
  },
  {
   "cell_type": "code",
   "execution_count": null,
   "metadata": {},
   "outputs": [],
   "source": [
    "archive_df2['text'].value_counts()"
   ]
  },
  {
   "cell_type": "markdown",
   "metadata": {},
   "source": [
    "> The rating for the tweet with index `2335` was pulled from the first instance of the format '#/#'. "
   ]
  },
  {
   "cell_type": "code",
   "execution_count": null,
   "metadata": {},
   "outputs": [],
   "source": [
    "# Gather all of the entries with a denominator of 7\n",
    "archive_df7 = archive_df.query('rating_denominator == 7')\n",
    "archive_df7"
   ]
  },
  {
   "cell_type": "code",
   "execution_count": null,
   "metadata": {},
   "outputs": [],
   "source": [
    "archive_df7['text'].value_counts()"
   ]
  },
  {
   "cell_type": "markdown",
   "metadata": {},
   "source": [
    "> The tweet with index `516` does not include a score."
   ]
  },
  {
   "cell_type": "code",
   "execution_count": null,
   "metadata": {},
   "outputs": [],
   "source": [
    "# Gather all of the entries with a denominator of 15\n",
    "archive_df15 = archive_df.query('rating_denominator == 15')\n",
    "archive_df15"
   ]
  },
  {
   "cell_type": "code",
   "execution_count": null,
   "metadata": {},
   "outputs": [],
   "source": [
    "archive_df15['text'].value_counts()"
   ]
  },
  {
   "cell_type": "markdown",
   "metadata": {},
   "source": [
    "<a id='q6a'></a>\n",
    "> Some entries, like the tweet with index `342`, do not contain data that is relevant to the dataset. "
   ]
  },
  {
   "cell_type": "code",
   "execution_count": null,
   "metadata": {},
   "outputs": [],
   "source": [
    "archive_df_missing = archive_df.dropna(how='all').dropna(how='all', axis=1)\n",
    "print(archive_df_missing.isnull().any())"
   ]
  },
  {
   "cell_type": "markdown",
   "metadata": {},
   "source": [
    "<a id='q1a'></a>\n",
    "> Any entry with a non-null value in `retweeted_status_id`, `retweeted_status_user_id`, and `retweeted_status_timestamp` indicates a retweet."
   ]
  },
  {
   "cell_type": "markdown",
   "metadata": {},
   "source": [
    "<a id='q2a'></a>\n",
    "> Any entry with a non-null value in `in_reply_to_status_id` and `in_reply_to_user_id` indicates a reply."
   ]
  },
  {
   "cell_type": "markdown",
   "metadata": {},
   "source": [
    "<a id='t2a'></a>\n",
    "> After removing the retweets and replies, the `retweeted_status_id`, `retweeted_status_user_id`, `retweeted_status_timestamp`, `in_reply_to_status_id`, and `in_reply_to_user_id` columns will all contain only null-values and should be dropped."
   ]
  },
  {
   "cell_type": "code",
   "execution_count": null,
   "metadata": {
    "scrolled": true
   },
   "outputs": [],
   "source": [
    "archive_df['expanded_urls'].value_counts()"
   ]
  },
  {
   "cell_type": "markdown",
   "metadata": {},
   "source": [
    "<a id='q7a'></a>\n",
    "> Some values in the `expanded_urls` column include multiple URLs, causing the hyperlink to not behave properly."
   ]
  },
  {
   "cell_type": "markdown",
   "metadata": {},
   "source": [
    "2. Assess `predictions_df`"
   ]
  },
  {
   "cell_type": "code",
   "execution_count": null,
   "metadata": {
    "scrolled": false
   },
   "outputs": [],
   "source": [
    "predictions_df.info()"
   ]
  },
  {
   "cell_type": "markdown",
   "metadata": {},
   "source": [
    "> The `tweet_id` data type is incorrect across all dataframes."
   ]
  },
  {
   "cell_type": "markdown",
   "metadata": {},
   "source": [
    "<a id='q8a'></a>\n",
    "> The number of tweets in the `predictions_df` table (2075) does not match the number of tweets in the `archive_df` table (2356). "
   ]
  },
  {
   "cell_type": "markdown",
   "metadata": {},
   "source": [
    "3. Assess `extra_df`"
   ]
  },
  {
   "cell_type": "code",
   "execution_count": null,
   "metadata": {
    "scrolled": false
   },
   "outputs": [],
   "source": [
    "extra_df.info()"
   ]
  },
  {
   "cell_type": "markdown",
   "metadata": {},
   "source": [
    "> The `tweet_id` data type is incorrect across all dataframes."
   ]
  },
  {
   "cell_type": "markdown",
   "metadata": {},
   "source": [
    "### Summary of Quality Issues\n",
    "\n",
    "**`archive_df`**\n",
    "\n",
    "**<a href=\"#q1\">1.</a>** Any entry with a non-null value in `retweeted_status_id`, `retweeted_status_user_id`, and `retweeted_status_timestamp` indicates a retweet.\n",
    "\n",
    "**<a href=\"#q2\">2.</a>** Any entry with a non-null value in `in_reply_to_status_id` and `in_reply_to_user_id` indicates a reply.\n",
    "\n",
    "**<a href=\"#q3\">3.</a>** Some values in the `name` column are not names, or are the string 'None' instead of indicating a missing value.\n",
    "\n",
    "**<a href=\"#q4\">4.</a>** The `timestamp` and `tweet_id` columns are the wrong data types. The `tweet_id` data type is incorrect across all dataframes.\n",
    "\n",
    "**<a href=\"#q5\">5.</a>** The entries with indexes `1068`, `1662`, `1202`, `1165`, `2335`, and `516` need their scores fixed.\n",
    "\n",
    "**<a href=\"#q6\">6.</a>** Some entries, like the tweet with index `342`, do not contain data that is relevant to the dataset.\n",
    "\n",
    "**<a href=\"#q7\">7.</a>** Some values in the `expanded_urls` column include multiple URLs, causing the hyperlink to not behave properly.\n",
    "\n",
    "**`predictions_df`**\n",
    "\n",
    "**<a href=\"#q7\">8.</a>** The number of tweets in the `predictions_df` table (2075) does not match the number of tweets in the `archive_df` table (2356). "
   ]
  },
  {
   "cell_type": "markdown",
   "metadata": {
    "extensions": {
     "jupyter_dashboards": {
      "version": 1,
      "views": {
       "grid_default": {
        "col": 0,
        "height": 7,
        "hidden": false,
        "row": 40,
        "width": 12
       },
       "report_default": {
        "hidden": false
       }
      }
     }
    }
   },
   "source": [
    "### Summary of Tidiness Issues\n",
    "\n",
    "**`archive_df`**\n",
    "\n",
    "**<a href=\"#t1\">1.</a>** Values from the `doggo`, `floofer`, `pupper`, and `puppo` columns should be combined into one column. After combining these columns, they will contain repeated data and should be dropped.\n",
    "\n",
    "\n",
    "**<a href=\"#t2\">2.</a>** After removing the retweets and replies, the `retweeted_status_id`, `retweeted_status_user_id`, `retweeted_status_timestamp`, `in_reply_to_status_id`, and `in_reply_to_user_id` columns will all contain only null-values and should be dropped.\n",
    "\n",
    "**`predictions_df`**\n",
    "\n",
    "**<a href=\"#t3\">3.</a>** The columns `jpg_url`, `p1`, `p2`, and `p3` should be added to `archive_df`.\n",
    "\n",
    "**`extra_df`**\n",
    "\n",
    "**<a href=\"#t4\">4.</a>** The columns `retweet_count` and `favorite_count` should be added to `archive_df`."
   ]
  },
  {
   "cell_type": "markdown",
   "metadata": {
    "extensions": {
     "jupyter_dashboards": {
      "version": 1,
      "views": {
       "grid_default": {
        "col": 4,
        "height": 4,
        "hidden": false,
        "row": 32,
        "width": 4
       },
       "report_default": {
        "hidden": false
       }
      }
     }
    }
   },
   "source": [
    "<a id='clean'></a>\n",
    "## Cleaning Data\n",
    "In this section, all of the issues documented while assessing will be cleaned. "
   ]
  },
  {
   "cell_type": "code",
   "execution_count": 5,
   "metadata": {},
   "outputs": [],
   "source": [
    "# Make copies of original pieces of data\n",
    "wrd_clean_archive = archive_df.copy()\n",
    "wrd_clean_predictions = predictions_df.copy()\n",
    "wrd_clean_extra = extra_df.copy()"
   ]
  },
  {
   "cell_type": "markdown",
   "metadata": {},
   "source": [
    "<a id='q1'></a>\n",
    "### Quality Issue #1: \n",
    "`archive_df`: Any entry with a non-null value in `retweeted_status_id`, `retweeted_status_user_id`, and `retweeted_status_timestamp` indicates a retweet. **<a href=\"#q1a\">Assessment</a>**"
   ]
  },
  {
   "cell_type": "markdown",
   "metadata": {},
   "source": [
    "#### Define:\n",
    "Remove all entries that have a non-null value in `retweeted_status_id`, `retweeted_status_user_id`, and `retweeted_status_timestamp`. This can be done by targeting one of the columns (if an entry has a value in one column, then the other two will contain values as well) and checking to see if there are any entries with a non-null value."
   ]
  },
  {
   "cell_type": "markdown",
   "metadata": {},
   "source": [
    "#### Code"
   ]
  },
  {
   "cell_type": "code",
   "execution_count": 6,
   "metadata": {
    "scrolled": true
   },
   "outputs": [],
   "source": [
    "wrd_clean_archive = wrd_clean_archive[wrd_clean_archive['retweeted_status_id'].isnull()]"
   ]
  },
  {
   "cell_type": "markdown",
   "metadata": {},
   "source": [
    "#### Test"
   ]
  },
  {
   "cell_type": "code",
   "execution_count": 7,
   "metadata": {
    "scrolled": true
   },
   "outputs": [
    {
     "name": "stdout",
     "output_type": "stream",
     "text": [
      "<class 'pandas.core.frame.DataFrame'>\n",
      "Int64Index: 2175 entries, 0 to 2355\n",
      "Data columns (total 17 columns):\n",
      "tweet_id                      2175 non-null int64\n",
      "in_reply_to_status_id         78 non-null float64\n",
      "in_reply_to_user_id           78 non-null float64\n",
      "timestamp                     2175 non-null object\n",
      "source                        2175 non-null object\n",
      "text                          2175 non-null object\n",
      "retweeted_status_id           0 non-null float64\n",
      "retweeted_status_user_id      0 non-null float64\n",
      "retweeted_status_timestamp    0 non-null object\n",
      "expanded_urls                 2117 non-null object\n",
      "rating_numerator              2175 non-null int64\n",
      "rating_denominator            2175 non-null int64\n",
      "name                          2175 non-null object\n",
      "doggo                         2175 non-null object\n",
      "floofer                       2175 non-null object\n",
      "pupper                        2175 non-null object\n",
      "puppo                         2175 non-null object\n",
      "dtypes: float64(4), int64(3), object(10)\n",
      "memory usage: 305.9+ KB\n"
     ]
    }
   ],
   "source": [
    "wrd_clean_archive.info()"
   ]
  },
  {
   "cell_type": "markdown",
   "metadata": {},
   "source": [
    "<a id='q2'></a>\n",
    "### Quality Issue #2:\n",
    "`archive_df`: Any entry with a non-null value in `in_reply_to_status_id` and `in_reply_to_user_id` indicates a reply. **<a href=\"#q2a\">Assessment</a>**"
   ]
  },
  {
   "cell_type": "markdown",
   "metadata": {
    "collapsed": true,
    "extensions": {
     "jupyter_dashboards": {
      "version": 1,
      "views": {
       "grid_default": {
        "hidden": true
       },
       "report_default": {
        "hidden": true
       }
      }
     }
    }
   },
   "source": [
    "#### Define\n",
    "Remove all entries that have a non-null value in `in_reply_to_status_id` and `in_reply_to_user_id`. This can be done by targeting one of the columns (if an entry has a value in one column, then the other two will contain values as well) and checking to see if there are any entries with a non-null value."
   ]
  },
  {
   "cell_type": "markdown",
   "metadata": {},
   "source": [
    "#### Code"
   ]
  },
  {
   "cell_type": "code",
   "execution_count": 8,
   "metadata": {},
   "outputs": [],
   "source": [
    "wrd_clean_archive = wrd_clean_archive[wrd_clean_archive['in_reply_to_status_id'].isnull()]"
   ]
  },
  {
   "cell_type": "markdown",
   "metadata": {},
   "source": [
    "#### Test"
   ]
  },
  {
   "cell_type": "code",
   "execution_count": 9,
   "metadata": {},
   "outputs": [
    {
     "name": "stdout",
     "output_type": "stream",
     "text": [
      "<class 'pandas.core.frame.DataFrame'>\n",
      "Int64Index: 2097 entries, 0 to 2355\n",
      "Data columns (total 17 columns):\n",
      "tweet_id                      2097 non-null int64\n",
      "in_reply_to_status_id         0 non-null float64\n",
      "in_reply_to_user_id           0 non-null float64\n",
      "timestamp                     2097 non-null object\n",
      "source                        2097 non-null object\n",
      "text                          2097 non-null object\n",
      "retweeted_status_id           0 non-null float64\n",
      "retweeted_status_user_id      0 non-null float64\n",
      "retweeted_status_timestamp    0 non-null object\n",
      "expanded_urls                 2094 non-null object\n",
      "rating_numerator              2097 non-null int64\n",
      "rating_denominator            2097 non-null int64\n",
      "name                          2097 non-null object\n",
      "doggo                         2097 non-null object\n",
      "floofer                       2097 non-null object\n",
      "pupper                        2097 non-null object\n",
      "puppo                         2097 non-null object\n",
      "dtypes: float64(4), int64(3), object(10)\n",
      "memory usage: 294.9+ KB\n"
     ]
    }
   ],
   "source": [
    "wrd_clean_archive.info()"
   ]
  },
  {
   "cell_type": "markdown",
   "metadata": {},
   "source": [
    "<a id='q3'></a>\n",
    "### Quality Issue #3:\n",
    "`archive_df`: Some values in the `name` column are not names, or are the string 'None' instead of indicating a missing value. **<a href=\"#q3a\">Assessment</a>**"
   ]
  },
  {
   "cell_type": "markdown",
   "metadata": {},
   "source": [
    "#### Define \n",
    "Convert all entries that begin with a lowercase letter or are 'None' in the `name` column to nulls using masking and regular expression."
   ]
  },
  {
   "cell_type": "markdown",
   "metadata": {},
   "source": [
    "#### Code"
   ]
  },
  {
   "cell_type": "code",
   "execution_count": 10,
   "metadata": {},
   "outputs": [],
   "source": [
    "# Create a mask of values from the name column that begin with a lowercase \n",
    "# letter using regular expression\n",
    "names_mask = wrd_clean_archive['name'].str.contains('^[a-z]')\n",
    "\n",
    "# Update all instances of values in the mask to null\n",
    "wrd_clean_archive.loc[names_mask, 'name'] = np.nan"
   ]
  },
  {
   "cell_type": "code",
   "execution_count": 11,
   "metadata": {},
   "outputs": [],
   "source": [
    "# Update all instances of 'None' to null\n",
    "wrd_clean_archive['name'] = wrd_clean_archive['name'].replace('None', np.nan)"
   ]
  },
  {
   "cell_type": "markdown",
   "metadata": {},
   "source": [
    "#### Test"
   ]
  },
  {
   "cell_type": "code",
   "execution_count": 12,
   "metadata": {},
   "outputs": [
    {
     "name": "stdout",
     "output_type": "stream",
     "text": [
      "Number of lowercase names: 0\n"
     ]
    }
   ],
   "source": [
    "num_of_lowercase = wrd_clean_archive['name'].loc[names_mask]\n",
    "print('Number of lowercase names: {}'.format(num_of_lowercase.sum()))"
   ]
  },
  {
   "cell_type": "code",
   "execution_count": 13,
   "metadata": {},
   "outputs": [
    {
     "name": "stdout",
     "output_type": "stream",
     "text": [
      "Number of \"None\" names: 0\n"
     ]
    }
   ],
   "source": [
    "num_of_none = wrd_clean_archive.query('name == None')\n",
    "print('Number of \"None\" names: {}'.format(num_of_none.shape[0]))"
   ]
  },
  {
   "cell_type": "markdown",
   "metadata": {},
   "source": [
    "<a id='q4'></a>\n",
    "### Quality Issue #4:\n",
    "`archive_df`: The `timestamp` and `tweet_id` columns are the wrong data types. The `tweet_id` data type is incorrect across all dataframes. **<a href=\"#q4a\">Assessment</a>**"
   ]
  },
  {
   "cell_type": "markdown",
   "metadata": {},
   "source": [
    "#### Define\n",
    "Change the `timestamp` column data type to 'datetime' and the `tweet_id` column across all dataframes to 'object'."
   ]
  },
  {
   "cell_type": "markdown",
   "metadata": {},
   "source": [
    "#### Code"
   ]
  },
  {
   "cell_type": "code",
   "execution_count": 14,
   "metadata": {},
   "outputs": [],
   "source": [
    "wrd_clean_archive['timestamp'] = pd.to_datetime(wrd_clean_archive['timestamp'])"
   ]
  },
  {
   "cell_type": "code",
   "execution_count": 15,
   "metadata": {},
   "outputs": [],
   "source": [
    "wrd_clean_archive['tweet_id'] = wrd_clean_archive['tweet_id'].astype(str)\n",
    "wrd_clean_predictions['tweet_id'] = wrd_clean_predictions['tweet_id'].astype(str)\n",
    "wrd_clean_extra['tweet_id'] = wrd_clean_extra['tweet_id'].astype(str)"
   ]
  },
  {
   "cell_type": "markdown",
   "metadata": {},
   "source": [
    "#### Test"
   ]
  },
  {
   "cell_type": "code",
   "execution_count": 16,
   "metadata": {},
   "outputs": [
    {
     "name": "stdout",
     "output_type": "stream",
     "text": [
      "<class 'pandas.core.frame.DataFrame'>\n",
      "Int64Index: 2097 entries, 0 to 2355\n",
      "Data columns (total 17 columns):\n",
      "tweet_id                      2097 non-null object\n",
      "in_reply_to_status_id         0 non-null float64\n",
      "in_reply_to_user_id           0 non-null float64\n",
      "timestamp                     2097 non-null datetime64[ns]\n",
      "source                        2097 non-null object\n",
      "text                          2097 non-null object\n",
      "retweeted_status_id           0 non-null float64\n",
      "retweeted_status_user_id      0 non-null float64\n",
      "retweeted_status_timestamp    0 non-null object\n",
      "expanded_urls                 2094 non-null object\n",
      "rating_numerator              2097 non-null int64\n",
      "rating_denominator            2097 non-null int64\n",
      "name                          1390 non-null object\n",
      "doggo                         2097 non-null object\n",
      "floofer                       2097 non-null object\n",
      "pupper                        2097 non-null object\n",
      "puppo                         2097 non-null object\n",
      "dtypes: datetime64[ns](1), float64(4), int64(2), object(10)\n",
      "memory usage: 294.9+ KB\n"
     ]
    }
   ],
   "source": [
    "wrd_clean_archive.info()"
   ]
  },
  {
   "cell_type": "code",
   "execution_count": 17,
   "metadata": {},
   "outputs": [
    {
     "name": "stdout",
     "output_type": "stream",
     "text": [
      "<class 'pandas.core.frame.DataFrame'>\n",
      "RangeIndex: 2075 entries, 0 to 2074\n",
      "Data columns (total 12 columns):\n",
      "tweet_id    2075 non-null object\n",
      "jpg_url     2075 non-null object\n",
      "img_num     2075 non-null int64\n",
      "p1          2075 non-null object\n",
      "p1_conf     2075 non-null float64\n",
      "p1_dog      2075 non-null bool\n",
      "p2          2075 non-null object\n",
      "p2_conf     2075 non-null float64\n",
      "p2_dog      2075 non-null bool\n",
      "p3          2075 non-null object\n",
      "p3_conf     2075 non-null float64\n",
      "p3_dog      2075 non-null bool\n",
      "dtypes: bool(3), float64(3), int64(1), object(5)\n",
      "memory usage: 152.1+ KB\n"
     ]
    }
   ],
   "source": [
    "wrd_clean_predictions.info()"
   ]
  },
  {
   "cell_type": "code",
   "execution_count": 18,
   "metadata": {},
   "outputs": [
    {
     "name": "stdout",
     "output_type": "stream",
     "text": [
      "<class 'pandas.core.frame.DataFrame'>\n",
      "RangeIndex: 2354 entries, 0 to 2353\n",
      "Data columns (total 3 columns):\n",
      "tweet_id          2354 non-null object\n",
      "retweet_count     2354 non-null int64\n",
      "favorite_count    2354 non-null int64\n",
      "dtypes: int64(2), object(1)\n",
      "memory usage: 55.2+ KB\n"
     ]
    }
   ],
   "source": [
    "wrd_clean_extra.info()"
   ]
  },
  {
   "cell_type": "markdown",
   "metadata": {},
   "source": [
    "<a id='q5'></a>\n",
    "### Quality Issue #5:\n",
    "`archive_df`: The entries with indexes `1068`, `1662`, `1202`, `1165`, `2335`, and `516` need their scores fixed. **<a href=\"#q5a\">Assessment</a>**"
   ]
  },
  {
   "cell_type": "markdown",
   "metadata": {},
   "source": [
    "#### Define\n",
    "Gather the text from the targeted entry and use that to locate the entry in the dataframe when changing the rating numerator and denominator."
   ]
  },
  {
   "cell_type": "markdown",
   "metadata": {},
   "source": [
    "#### Code"
   ]
  },
  {
   "cell_type": "code",
   "execution_count": 19,
   "metadata": {},
   "outputs": [],
   "source": [
    "text = wrd_clean_archive.loc[1068, 'text']\n",
    "wrd_clean_archive.loc[wrd_clean_archive['text'] == text, 'rating_numerator'] = 14\n",
    "wrd_clean_archive.loc[wrd_clean_archive['text'] == text, 'rating_denominator'] = 10"
   ]
  },
  {
   "cell_type": "code",
   "execution_count": 20,
   "metadata": {},
   "outputs": [],
   "source": [
    "text = wrd_clean_archive.loc[1662, 'text']\n",
    "wrd_clean_archive.loc[wrd_clean_archive['text'] == text, 'rating_numerator'] = 10\n",
    "wrd_clean_archive.loc[wrd_clean_archive['text'] == text, 'rating_denominator'] = 10"
   ]
  },
  {
   "cell_type": "code",
   "execution_count": 21,
   "metadata": {},
   "outputs": [],
   "source": [
    "text = wrd_clean_archive.loc[1202, 'text']\n",
    "wrd_clean_archive.loc[wrd_clean_archive['text'] == text, 'rating_numerator'] = 11\n",
    "wrd_clean_archive.loc[wrd_clean_archive['text'] == text, 'rating_denominator'] = 10"
   ]
  },
  {
   "cell_type": "code",
   "execution_count": 22,
   "metadata": {},
   "outputs": [],
   "source": [
    "text = wrd_clean_archive.loc[1165, 'text']\n",
    "wrd_clean_archive.loc[wrd_clean_archive['text'] == text, 'rating_numerator'] = 13\n",
    "wrd_clean_archive.loc[wrd_clean_archive['text'] == text, 'rating_denominator'] = 10"
   ]
  },
  {
   "cell_type": "code",
   "execution_count": 23,
   "metadata": {},
   "outputs": [],
   "source": [
    "text = wrd_clean_archive.loc[2335, 'text']\n",
    "wrd_clean_archive.loc[wrd_clean_archive['text'] == text, 'rating_numerator'] = 9\n",
    "wrd_clean_archive.loc[wrd_clean_archive['text'] == text, 'rating_denominator'] = 10"
   ]
  },
  {
   "cell_type": "code",
   "execution_count": 24,
   "metadata": {},
   "outputs": [],
   "source": [
    "text = wrd_clean_archive.loc[516, 'text']\n",
    "wrd_clean_archive.loc[wrd_clean_archive['text'] == text, 'rating_numerator'] = np.nan\n",
    "wrd_clean_archive.loc[wrd_clean_archive['text'] == text, 'rating_denominator'] = np.nan"
   ]
  },
  {
   "cell_type": "markdown",
   "metadata": {},
   "source": [
    "#### Test"
   ]
  },
  {
   "cell_type": "code",
   "execution_count": 25,
   "metadata": {},
   "outputs": [
    {
     "data": {
      "text/plain": [
       "tweet_id                                                     740373189193256964\n",
       "in_reply_to_status_id                                                       NaN\n",
       "in_reply_to_user_id                                                         NaN\n",
       "timestamp                                                   2016-06-08 02:41:38\n",
       "source                        <a href=\"http://twitter.com/download/iphone\" r...\n",
       "text                          After so many requests, this is Bretagne. She ...\n",
       "retweeted_status_id                                                         NaN\n",
       "retweeted_status_user_id                                                    NaN\n",
       "retweeted_status_timestamp                                                  NaN\n",
       "expanded_urls                 https://twitter.com/dog_rates/status/740373189...\n",
       "rating_numerator                                                             14\n",
       "rating_denominator                                                           10\n",
       "name                                                                        NaN\n",
       "doggo                                                                      None\n",
       "floofer                                                                    None\n",
       "pupper                                                                     None\n",
       "puppo                                                                      None\n",
       "Name: 1068, dtype: object"
      ]
     },
     "execution_count": 25,
     "metadata": {},
     "output_type": "execute_result"
    }
   ],
   "source": [
    "wrd_clean_archive.loc[1068]"
   ]
  },
  {
   "cell_type": "code",
   "execution_count": 26,
   "metadata": {},
   "outputs": [
    {
     "data": {
      "text/plain": [
       "tweet_id                                                     682962037429899265\n",
       "in_reply_to_status_id                                                       NaN\n",
       "in_reply_to_user_id                                                         NaN\n",
       "timestamp                                                   2016-01-01 16:30:13\n",
       "source                        <a href=\"http://twitter.com/download/iphone\" r...\n",
       "text                          This is Darrel. He just robbed a 7/11 and is i...\n",
       "retweeted_status_id                                                         NaN\n",
       "retweeted_status_user_id                                                    NaN\n",
       "retweeted_status_timestamp                                                  NaN\n",
       "expanded_urls                 https://twitter.com/dog_rates/status/682962037...\n",
       "rating_numerator                                                             10\n",
       "rating_denominator                                                           10\n",
       "name                                                                     Darrel\n",
       "doggo                                                                      None\n",
       "floofer                                                                    None\n",
       "pupper                                                                     None\n",
       "puppo                                                                      None\n",
       "Name: 1662, dtype: object"
      ]
     },
     "execution_count": 26,
     "metadata": {},
     "output_type": "execute_result"
    }
   ],
   "source": [
    "wrd_clean_archive.loc[1662]"
   ]
  },
  {
   "cell_type": "code",
   "execution_count": 27,
   "metadata": {},
   "outputs": [
    {
     "data": {
      "text/plain": [
       "tweet_id                                                     716439118184652801\n",
       "in_reply_to_status_id                                                       NaN\n",
       "in_reply_to_user_id                                                         NaN\n",
       "timestamp                                                   2016-04-03 01:36:11\n",
       "source                        <a href=\"http://twitter.com/download/iphone\" r...\n",
       "text                          This is Bluebert. He just saw that both #Final...\n",
       "retweeted_status_id                                                         NaN\n",
       "retweeted_status_user_id                                                    NaN\n",
       "retweeted_status_timestamp                                                  NaN\n",
       "expanded_urls                 https://twitter.com/dog_rates/status/716439118...\n",
       "rating_numerator                                                             11\n",
       "rating_denominator                                                           10\n",
       "name                                                                   Bluebert\n",
       "doggo                                                                      None\n",
       "floofer                                                                    None\n",
       "pupper                                                                     None\n",
       "puppo                                                                      None\n",
       "Name: 1202, dtype: object"
      ]
     },
     "execution_count": 27,
     "metadata": {},
     "output_type": "execute_result"
    }
   ],
   "source": [
    "wrd_clean_archive.loc[1202]"
   ]
  },
  {
   "cell_type": "code",
   "execution_count": 28,
   "metadata": {},
   "outputs": [
    {
     "data": {
      "text/plain": [
       "tweet_id                                                     722974582966214656\n",
       "in_reply_to_status_id                                                       NaN\n",
       "in_reply_to_user_id                                                         NaN\n",
       "timestamp                                                   2016-04-21 02:25:47\n",
       "source                        <a href=\"http://twitter.com/download/iphone\" r...\n",
       "text                          Happy 4/20 from the squad! 13/10 for all https...\n",
       "retweeted_status_id                                                         NaN\n",
       "retweeted_status_user_id                                                    NaN\n",
       "retweeted_status_timestamp                                                  NaN\n",
       "expanded_urls                 https://twitter.com/dog_rates/status/722974582...\n",
       "rating_numerator                                                             13\n",
       "rating_denominator                                                           10\n",
       "name                                                                        NaN\n",
       "doggo                                                                      None\n",
       "floofer                                                                    None\n",
       "pupper                                                                     None\n",
       "puppo                                                                      None\n",
       "Name: 1165, dtype: object"
      ]
     },
     "execution_count": 28,
     "metadata": {},
     "output_type": "execute_result"
    }
   ],
   "source": [
    "wrd_clean_archive.loc[1165]"
   ]
  },
  {
   "cell_type": "code",
   "execution_count": 29,
   "metadata": {},
   "outputs": [
    {
     "data": {
      "text/plain": [
       "tweet_id                                                     666287406224695296\n",
       "in_reply_to_status_id                                                       NaN\n",
       "in_reply_to_user_id                                                         NaN\n",
       "timestamp                                                   2015-11-16 16:11:11\n",
       "source                        <a href=\"http://twitter.com/download/iphone\" r...\n",
       "text                          This is an Albanian 3 1/2 legged  Episcopalian...\n",
       "retweeted_status_id                                                         NaN\n",
       "retweeted_status_user_id                                                    NaN\n",
       "retweeted_status_timestamp                                                  NaN\n",
       "expanded_urls                 https://twitter.com/dog_rates/status/666287406...\n",
       "rating_numerator                                                              9\n",
       "rating_denominator                                                           10\n",
       "name                                                                        NaN\n",
       "doggo                                                                      None\n",
       "floofer                                                                    None\n",
       "pupper                                                                     None\n",
       "puppo                                                                      None\n",
       "Name: 2335, dtype: object"
      ]
     },
     "execution_count": 29,
     "metadata": {},
     "output_type": "execute_result"
    }
   ],
   "source": [
    "wrd_clean_archive.loc[2335]"
   ]
  },
  {
   "cell_type": "code",
   "execution_count": 30,
   "metadata": {},
   "outputs": [
    {
     "data": {
      "text/plain": [
       "tweet_id                                                     810984652412424192\n",
       "in_reply_to_status_id                                                       NaN\n",
       "in_reply_to_user_id                                                         NaN\n",
       "timestamp                                                   2016-12-19 23:06:23\n",
       "source                        <a href=\"http://twitter.com/download/iphone\" r...\n",
       "text                          Meet Sam. She smiles 24/7 &amp; secretly aspir...\n",
       "retweeted_status_id                                                         NaN\n",
       "retweeted_status_user_id                                                    NaN\n",
       "retweeted_status_timestamp                                                  NaN\n",
       "expanded_urls                 https://www.gofundme.com/sams-smile,https://tw...\n",
       "rating_numerator                                                            NaN\n",
       "rating_denominator                                                          NaN\n",
       "name                                                                        Sam\n",
       "doggo                                                                      None\n",
       "floofer                                                                    None\n",
       "pupper                                                                     None\n",
       "puppo                                                                      None\n",
       "Name: 516, dtype: object"
      ]
     },
     "execution_count": 30,
     "metadata": {},
     "output_type": "execute_result"
    }
   ],
   "source": [
    "wrd_clean_archive.loc[516]"
   ]
  },
  {
   "cell_type": "markdown",
   "metadata": {},
   "source": [
    "<a id='q6'></a>\n",
    "### Quality Issue #6:\n",
    "`archive_df`: Some entries, like the tweet with index `342`, do not contain data that is relevant to the dataset. **<a href=\"#q6a\">Assessment</a>**"
   ]
  },
  {
   "cell_type": "markdown",
   "metadata": {},
   "source": [
    "#### Define\n",
    "Remove any entries containing text that follow the same form as the text in the entry with index `342` using masking and regular expression. \n",
    "\n",
    "Form to search for: `@username account started on MM/DD/YY`"
   ]
  },
  {
   "cell_type": "markdown",
   "metadata": {},
   "source": [
    "#### Code"
   ]
  },
  {
   "cell_type": "code",
   "execution_count": 31,
   "metadata": {},
   "outputs": [
    {
     "data": {
      "text/html": [
       "<div>\n",
       "<style scoped>\n",
       "    .dataframe tbody tr th:only-of-type {\n",
       "        vertical-align: middle;\n",
       "    }\n",
       "\n",
       "    .dataframe tbody tr th {\n",
       "        vertical-align: top;\n",
       "    }\n",
       "\n",
       "    .dataframe thead th {\n",
       "        text-align: right;\n",
       "    }\n",
       "</style>\n",
       "<table border=\"1\" class=\"dataframe\">\n",
       "  <thead>\n",
       "    <tr style=\"text-align: right;\">\n",
       "      <th></th>\n",
       "      <th>tweet_id</th>\n",
       "      <th>in_reply_to_status_id</th>\n",
       "      <th>in_reply_to_user_id</th>\n",
       "      <th>timestamp</th>\n",
       "      <th>source</th>\n",
       "      <th>text</th>\n",
       "      <th>retweeted_status_id</th>\n",
       "      <th>retweeted_status_user_id</th>\n",
       "      <th>retweeted_status_timestamp</th>\n",
       "      <th>expanded_urls</th>\n",
       "      <th>rating_numerator</th>\n",
       "      <th>rating_denominator</th>\n",
       "      <th>name</th>\n",
       "      <th>doggo</th>\n",
       "      <th>floofer</th>\n",
       "      <th>pupper</th>\n",
       "      <th>puppo</th>\n",
       "    </tr>\n",
       "  </thead>\n",
       "  <tbody>\n",
       "  </tbody>\n",
       "</table>\n",
       "</div>"
      ],
      "text/plain": [
       "Empty DataFrame\n",
       "Columns: [tweet_id, in_reply_to_status_id, in_reply_to_user_id, timestamp, source, text, retweeted_status_id, retweeted_status_user_id, retweeted_status_timestamp, expanded_urls, rating_numerator, rating_denominator, name, doggo, floofer, pupper, puppo]\n",
       "Index: []"
      ]
     },
     "execution_count": 31,
     "metadata": {},
     "output_type": "execute_result"
    }
   ],
   "source": [
    "clean_archive_df15 = wrd_clean_archive.query('rating_denominator == 15')\n",
    "clean_archive_df15"
   ]
  },
  {
   "cell_type": "markdown",
   "metadata": {},
   "source": [
    "> It seems that through other cleaning operations, we have lost the tweet that we originally had found. The dataframe should still be cleaned for any other potentially similar occurences."
   ]
  },
  {
   "cell_type": "code",
   "execution_count": 32,
   "metadata": {},
   "outputs": [],
   "source": [
    "# Create a mask of values from the text column that match the form mentioned \n",
    "# above using regular expression. The tilde inverts the mask, returning the \n",
    "# rows that do not match\n",
    "form_mask = wrd_clean_archive[~wrd_clean_archive['text'].str.match('@.*account started.*\\d{2}/\\d{2}/\\d{2}')]\n",
    "\n",
    "# Reset the index, avoiding the old index being added as its own column\n",
    "wrd_clean_archive.reset_index(drop=True, inplace=True)"
   ]
  },
  {
   "cell_type": "markdown",
   "metadata": {},
   "source": [
    "#### Test"
   ]
  },
  {
   "cell_type": "code",
   "execution_count": 33,
   "metadata": {},
   "outputs": [
    {
     "data": {
      "text/plain": [
       "Series([], Name: text, dtype: object)"
      ]
     },
     "execution_count": 33,
     "metadata": {},
     "output_type": "execute_result"
    }
   ],
   "source": [
    "form_mask = wrd_clean_archive['text'].str.match('@.*account started.*\\d{2}/\\d{2}/\\d{2}')\n",
    "num_of_errors = wrd_clean_archive['text'].loc[form_mask]\n",
    "num_of_errors"
   ]
  },
  {
   "cell_type": "markdown",
   "metadata": {},
   "source": [
    "<a id='q7'></a>\n",
    "### Quality Issue #7:\n",
    "`archive_df`: Some values in the `expanded_urls` column include multiple URLs, causing the hyperlink to not behave properly. **<a href=\"#q7a\">Assessment</a>**"
   ]
  },
  {
   "cell_type": "markdown",
   "metadata": {},
   "source": [
    "#### Define\n",
    "Split the `expanded_urls` values on each comma to seperate URLs, and only keep the first URL. Since each value is now comprised of only one URL, the column can be renamed to `expanded_url`."
   ]
  },
  {
   "cell_type": "markdown",
   "metadata": {},
   "source": [
    "#### Code"
   ]
  },
  {
   "cell_type": "code",
   "execution_count": 34,
   "metadata": {},
   "outputs": [],
   "source": [
    "wrd_clean_archive['expanded_urls'] = wrd_clean_archive['expanded_urls'].str.split(',', expand=True)[0]\n",
    "wrd_clean_archive = wrd_clean_archive.rename(columns={'expanded_urls':'expanded_url'})"
   ]
  },
  {
   "cell_type": "markdown",
   "metadata": {},
   "source": [
    "#### Test"
   ]
  },
  {
   "cell_type": "code",
   "execution_count": 35,
   "metadata": {
    "scrolled": true
   },
   "outputs": [
    {
     "data": {
      "text/plain": [
       "https://vine.co/v/ea0OwvPTx9l                                      2\n",
       "https://twitter.com/dog_rates/status/672169685991993344/photo/1    1\n",
       "https://twitter.com/dog_rates/status/673680198160809984/photo/1    1\n",
       "https://twitter.com/dog_rates/status/747844099428986880/photo/1    1\n",
       "https://twitter.com/dog_rates/status/676089483918516224/photo/1    1\n",
       "https://twitter.com/dog_rates/status/699079609774645248/photo/1    1\n",
       "https://twitter.com/dog_rates/status/671518598289059840/photo/1    1\n",
       "https://twitter.com/dog_rates/status/771770456517009408/photo/1    1\n",
       "https://twitter.com/dog_rates/status/834167344700198914/photo/1    1\n",
       "https://vine.co/v/5W0bdhEUUVT                                      1\n",
       "https://twitter.com/dog_rates/status/687124485711986689/photo/1    1\n",
       "https://twitter.com/dog_rates/status/728046963732717569/photo/1    1\n",
       "https://twitter.com/dog_rates/status/747933425676525569/photo/1    1\n",
       "https://twitter.com/dog_rates/status/828372645993398273/photo/1    1\n",
       "https://twitter.com/dog_rates/status/668994913074286592/photo/1    1\n",
       "https://twitter.com/dog_rates/status/706644897839910912/video/1    1\n",
       "https://twitter.com/dog_rates/status/889880896479866881/photo/1    1\n",
       "https://www.gofundme.com/lolas-life-saving-surgery-funds           1\n",
       "https://twitter.com/dog_rates/status/670823764196741120/photo/1    1\n",
       "https://twitter.com/dog_rates/status/884441805382717440/photo/1    1\n",
       "https://vine.co/v/5nzYBpl0TY2                                      1\n",
       "https://twitter.com/dog_rates/status/671154572044468225/photo/1    1\n",
       "https://twitter.com/dog_rates/status/711694788429553666/photo/1    1\n",
       "https://twitter.com/dog_rates/status/700029284593901568/photo/1    1\n",
       "https://twitter.com/dog_rates/status/761004547850530816/photo/1    1\n",
       "https://twitter.com/dog_rates/status/673355879178194945/photo/1    1\n",
       "https://twitter.com/dog_rates/status/831939777352105988/photo/1    1\n",
       "https://twitter.com/dog_rates/status/751583847268179968/photo/1    1\n",
       "https://twitter.com/dog_rates/status/667885044254572545/photo/1    1\n",
       "https://twitter.com/dog_rates/status/867421006826221569/photo/1    1\n",
       "                                                                  ..\n",
       "https://vine.co/v/5uTVXWvn3Ip                                      1\n",
       "https://twitter.com/dog_rates/status/681654059175129088/photo/1    1\n",
       "https://twitter.com/dog_rates/status/680161097740095489/photo/1    1\n",
       "https://twitter.com/dog_rates/status/697270446429966336/photo/1    1\n",
       "https://twitter.com/dog_rates/status/845812042753855489/photo/1    1\n",
       "https://twitter.com/dog_rates/status/687818504314159109/photo/1    1\n",
       "https://twitter.com/dog_rates/status/675898130735476737/photo/1    1\n",
       "https://twitter.com/dog_rates/status/828650029636317184/photo/1    1\n",
       "https://twitter.com/dog_rates/status/756303284449767430/photo/1    1\n",
       "https://twitter.com/dog_rates/status/838476387338051585/photo/1    1\n",
       "https://twitter.com/dog_rates/status/809084759137812480/photo/1    1\n",
       "https://vine.co/v/eEZXZI1rqxX                                      1\n",
       "https://twitter.com/dog_rates/status/847251039262605312/photo/1    1\n",
       "https://twitter.com/dog_rates/status/767191397493538821/photo/1    1\n",
       "https://twitter.com/dog_rates/status/692530551048294401/photo/1    1\n",
       "https://twitter.com/dog_rates/status/671536543010570240/photo/1    1\n",
       "https://twitter.com/dog_rates/status/668567822092664832/photo/1    1\n",
       "https://twitter.com/dog_rates/status/671109016219725825/photo/1    1\n",
       "https://twitter.com/dog_rates/status/684800227459624960/photo/1    1\n",
       "https://twitter.com/dog_rates/status/702321140488925184/photo/1    1\n",
       "https://twitter.com/dog_rates/status/681610798867845120/photo/1    1\n",
       "https://twitter.com/dog_rates/status/698953797952008193/photo/1    1\n",
       "https://vine.co/v/iDrOvVqq0A6                                      1\n",
       "https://twitter.com/dog_rates/status/707014260413456384/photo/1    1\n",
       "https://twitter.com/dog_rates/status/773922284943896577/photo/1    1\n",
       "https://twitter.com/dog_rates/status/708834316713893888/photo/1    1\n",
       "https://twitter.com/dog_rates/status/689623661272240129/photo/1    1\n",
       "https://twitter.com/dog_rates/status/877201837425926144/photo/1    1\n",
       "https://twitter.com/dog_rates/status/746369468511756288/photo/1    1\n",
       "https://twitter.com/dog_rates/status/671882082306625538/photo/1    1\n",
       "Name: expanded_url, Length: 2093, dtype: int64"
      ]
     },
     "execution_count": 35,
     "metadata": {},
     "output_type": "execute_result"
    }
   ],
   "source": [
    "wrd_clean_archive['expanded_url'].value_counts()"
   ]
  },
  {
   "cell_type": "markdown",
   "metadata": {},
   "source": [
    "<a id='q8'></a>\n",
    "### Quality Issue #8:\n",
    "`predictions_df`: The number of tweets in the `predictions_df` table (2075) does not match the number of tweets in the `archive_df` table (2356). **<a href=\"#q8a\">Assessment</a>**\n",
    "\n",
    "**NOTE:** Please run **<a href=\"#t3\">Tidiness Issue 3</a>** before continuing."
   ]
  },
  {
   "cell_type": "markdown",
   "metadata": {},
   "source": [
    "#### Define\n",
    "Drop all of the rows that are missing a value in the `jpg_url` column."
   ]
  },
  {
   "cell_type": "markdown",
   "metadata": {},
   "source": [
    "#### Code"
   ]
  },
  {
   "cell_type": "code",
   "execution_count": 39,
   "metadata": {},
   "outputs": [],
   "source": [
    "wrd_clean_archive = wrd_clean_archive.dropna(subset=['jpg_url'])"
   ]
  },
  {
   "cell_type": "markdown",
   "metadata": {},
   "source": [
    "#### Test"
   ]
  },
  {
   "cell_type": "code",
   "execution_count": 40,
   "metadata": {},
   "outputs": [
    {
     "name": "stdout",
     "output_type": "stream",
     "text": [
      "<class 'pandas.core.frame.DataFrame'>\n",
      "Int64Index: 1971 entries, 0 to 2096\n",
      "Data columns (total 21 columns):\n",
      "tweet_id                      1971 non-null object\n",
      "in_reply_to_status_id         0 non-null float64\n",
      "in_reply_to_user_id           0 non-null float64\n",
      "timestamp                     1971 non-null datetime64[ns]\n",
      "source                        1971 non-null object\n",
      "text                          1971 non-null object\n",
      "retweeted_status_id           0 non-null float64\n",
      "retweeted_status_user_id      0 non-null float64\n",
      "retweeted_status_timestamp    0 non-null object\n",
      "expanded_url                  1971 non-null object\n",
      "rating_numerator              1970 non-null float64\n",
      "rating_denominator            1970 non-null float64\n",
      "name                          1349 non-null object\n",
      "doggo                         1971 non-null object\n",
      "floofer                       1971 non-null object\n",
      "pupper                        1971 non-null object\n",
      "puppo                         1971 non-null object\n",
      "jpg_url                       1971 non-null object\n",
      "p1                            1971 non-null object\n",
      "p2                            1971 non-null object\n",
      "p3                            1971 non-null object\n",
      "dtypes: datetime64[ns](1), float64(6), object(14)\n",
      "memory usage: 338.8+ KB\n"
     ]
    }
   ],
   "source": [
    "wrd_clean_archive.info()"
   ]
  },
  {
   "cell_type": "markdown",
   "metadata": {},
   "source": [
    "<a id='t1'></a>\n",
    "### Tidiness Issue #1:\n",
    "`archive_df`: Values from the `doggo`, `floofer`, `pupper`, and `puppo` columns should be combined into one column. After combining these columns, they now contain repeated data and should be dropped. **<a href=\"#t1a\">Assessment</a>**"
   ]
  },
  {
   "cell_type": "markdown",
   "metadata": {},
   "source": [
    "#### Define\n",
    "First we need to indicate missing values by converting the 'None' strings to nulls."
   ]
  },
  {
   "cell_type": "markdown",
   "metadata": {},
   "source": [
    "#### Code"
   ]
  },
  {
   "cell_type": "code",
   "execution_count": 41,
   "metadata": {},
   "outputs": [],
   "source": [
    "# Update all current instances of 'None' to null\n",
    "wrd_clean_archive['doggo'] = wrd_clean_archive['doggo'].replace('None', np.nan)\n",
    "wrd_clean_archive['floofer'] = wrd_clean_archive['floofer'].replace('None', np.nan)\n",
    "wrd_clean_archive['pupper'] = wrd_clean_archive['pupper'].replace('None', np.nan)\n",
    "wrd_clean_archive['puppo'] = wrd_clean_archive['puppo'].replace('None', np.nan)\n",
    "\n",
    "# Create the new column using the contents of the other four columns\n",
    "wrd_clean_archive['dogtionary_stage'] = wrd_clean_archive[\n",
    "    wrd_clean_archive.columns[13:17]].apply(\n",
    "    lambda x: ','.join(x.dropna()), axis=1)\n",
    "\n",
    "# Make sure that missing values are nulls\n",
    "wrd_clean_archive = wrd_clean_archive.replace(r'^\\s*$', np.nan, regex=True)"
   ]
  },
  {
   "cell_type": "code",
   "execution_count": 42,
   "metadata": {},
   "outputs": [],
   "source": [
    "# Drop the columns that now contain repeated data\n",
    "wrd_clean_archive = wrd_clean_archive.drop(columns=['doggo',\n",
    "                                                   'floofer',\n",
    "                                                   'pupper',\n",
    "                                                   'puppo'])"
   ]
  },
  {
   "cell_type": "markdown",
   "metadata": {},
   "source": [
    "#### Test"
   ]
  },
  {
   "cell_type": "code",
   "execution_count": 43,
   "metadata": {},
   "outputs": [
    {
     "data": {
      "text/plain": [
       "pupper           201\n",
       "doggo             63\n",
       "puppo             22\n",
       "doggo,pupper       8\n",
       "floofer            7\n",
       "doggo,puppo        1\n",
       "doggo,floofer      1\n",
       "Name: dogtionary_stage, dtype: int64"
      ]
     },
     "execution_count": 43,
     "metadata": {},
     "output_type": "execute_result"
    }
   ],
   "source": [
    "wrd_clean_archive['dogtionary_stage'].value_counts()"
   ]
  },
  {
   "cell_type": "markdown",
   "metadata": {},
   "source": [
    "<a id='t2'></a>\n",
    "### Tidiness Issue #2:\n",
    "`archive_df`: After removing the retweets and replies, the `retweeted_status_id`, `retweeted_status_user_id`, `retweeted_status_timestamp`, `in_reply_to_status_id`, and `in_reply_to_user_id` columns will all contain only null-values and should be dropped. **<a href=\"#t2a\">Assessment</a>**"
   ]
  },
  {
   "cell_type": "markdown",
   "metadata": {},
   "source": [
    "#### Define\n",
    "Drop the `retweeted_status_id`, `retweeted_status_user_id`, `retweeted_status_timestamp`, `in_reply_to_status_id`, and `in_reply_to_user_id` columns from `archive_df`."
   ]
  },
  {
   "cell_type": "markdown",
   "metadata": {},
   "source": [
    "#### Code"
   ]
  },
  {
   "cell_type": "code",
   "execution_count": 44,
   "metadata": {},
   "outputs": [],
   "source": [
    "wrd_clean_archive = wrd_clean_archive.drop(columns=['retweeted_status_id',\n",
    "                                                   'retweeted_status_user_id',\n",
    "                                                   'retweeted_status_timestamp',\n",
    "                                                   'in_reply_to_status_id',\n",
    "                                                   'in_reply_to_user_id'])"
   ]
  },
  {
   "cell_type": "markdown",
   "metadata": {},
   "source": [
    "#### Test"
   ]
  },
  {
   "cell_type": "code",
   "execution_count": 45,
   "metadata": {},
   "outputs": [
    {
     "name": "stdout",
     "output_type": "stream",
     "text": [
      "<class 'pandas.core.frame.DataFrame'>\n",
      "Int64Index: 1971 entries, 0 to 2096\n",
      "Data columns (total 13 columns):\n",
      "tweet_id              1971 non-null object\n",
      "timestamp             1971 non-null datetime64[ns]\n",
      "source                1971 non-null object\n",
      "text                  1971 non-null object\n",
      "expanded_url          1971 non-null object\n",
      "rating_numerator      1970 non-null float64\n",
      "rating_denominator    1970 non-null float64\n",
      "name                  1349 non-null object\n",
      "jpg_url               1971 non-null object\n",
      "p1                    1971 non-null object\n",
      "p2                    1971 non-null object\n",
      "p3                    1971 non-null object\n",
      "dogtionary_stage      303 non-null object\n",
      "dtypes: datetime64[ns](1), float64(2), object(10)\n",
      "memory usage: 215.6+ KB\n"
     ]
    }
   ],
   "source": [
    "wrd_clean_archive.info()"
   ]
  },
  {
   "cell_type": "markdown",
   "metadata": {},
   "source": [
    "<a id='t3'></a>\n",
    "### Tidiness Issue #3:\n",
    "`predictions_df`: The columns `jpg_url`, `p1`, `p2`, and `p3` should be added to `archive_df`. **<a href=\"#t3a\">Assessment</a>**"
   ]
  },
  {
   "cell_type": "markdown",
   "metadata": {},
   "source": [
    "#### Define\n",
    "Drop the extraneous columns from the `predictions_df` table and perform a left merge between the resulting table and the `archive_df` table on the `tweet_id` column."
   ]
  },
  {
   "cell_type": "markdown",
   "metadata": {},
   "source": [
    "#### Code"
   ]
  },
  {
   "cell_type": "code",
   "execution_count": 36,
   "metadata": {},
   "outputs": [],
   "source": [
    "wrd_clean_predictions = wrd_clean_predictions.drop(columns=['img_num', \n",
    "                                                            'p1_conf',\n",
    "                                                            'p1_dog',\n",
    "                                                            'p2_conf',\n",
    "                                                            'p2_dog',\n",
    "                                                            'p3_conf',\n",
    "                                                            'p3_dog'])"
   ]
  },
  {
   "cell_type": "code",
   "execution_count": 37,
   "metadata": {
    "scrolled": true
   },
   "outputs": [],
   "source": [
    "wrd_clean_archive = pd.merge(wrd_clean_archive, wrd_clean_predictions, how='left', \n",
    "                             on='tweet_id')"
   ]
  },
  {
   "cell_type": "markdown",
   "metadata": {},
   "source": [
    "#### Test"
   ]
  },
  {
   "cell_type": "code",
   "execution_count": 38,
   "metadata": {},
   "outputs": [
    {
     "name": "stdout",
     "output_type": "stream",
     "text": [
      "<class 'pandas.core.frame.DataFrame'>\n",
      "Int64Index: 2097 entries, 0 to 2096\n",
      "Data columns (total 21 columns):\n",
      "tweet_id                      2097 non-null object\n",
      "in_reply_to_status_id         0 non-null float64\n",
      "in_reply_to_user_id           0 non-null float64\n",
      "timestamp                     2097 non-null datetime64[ns]\n",
      "source                        2097 non-null object\n",
      "text                          2097 non-null object\n",
      "retweeted_status_id           0 non-null float64\n",
      "retweeted_status_user_id      0 non-null float64\n",
      "retweeted_status_timestamp    0 non-null object\n",
      "expanded_url                  2094 non-null object\n",
      "rating_numerator              2096 non-null float64\n",
      "rating_denominator            2096 non-null float64\n",
      "name                          1390 non-null object\n",
      "doggo                         2097 non-null object\n",
      "floofer                       2097 non-null object\n",
      "pupper                        2097 non-null object\n",
      "puppo                         2097 non-null object\n",
      "jpg_url                       1971 non-null object\n",
      "p1                            1971 non-null object\n",
      "p2                            1971 non-null object\n",
      "p3                            1971 non-null object\n",
      "dtypes: datetime64[ns](1), float64(6), object(14)\n",
      "memory usage: 360.4+ KB\n"
     ]
    }
   ],
   "source": [
    "wrd_clean_archive.info()"
   ]
  },
  {
   "cell_type": "markdown",
   "metadata": {},
   "source": [
    "**<a href=\"#q8\">Return To Quality Issue 8</a>**"
   ]
  },
  {
   "cell_type": "markdown",
   "metadata": {},
   "source": [
    "<a id='t4'></a>\n",
    "### Tidiness Issue #4:\n",
    "`extra_df`: The columns `retweet_count` and `favorite_count` should be added to `archive_df`. **<a href=\"#t4a\">Assessment</a>**"
   ]
  },
  {
   "cell_type": "markdown",
   "metadata": {},
   "source": [
    "#### Define\n",
    "Perform a left merge with the tables `archive_df` and `extra_df` on the `tweet_id` column."
   ]
  },
  {
   "cell_type": "markdown",
   "metadata": {},
   "source": [
    "#### Code"
   ]
  },
  {
   "cell_type": "code",
   "execution_count": 46,
   "metadata": {},
   "outputs": [],
   "source": [
    "wrd_clean_archive = pd.merge(wrd_clean_archive, wrd_clean_extra, how='left', \n",
    "                             on='tweet_id')"
   ]
  },
  {
   "cell_type": "markdown",
   "metadata": {},
   "source": [
    "#### Test"
   ]
  },
  {
   "cell_type": "code",
   "execution_count": 47,
   "metadata": {},
   "outputs": [
    {
     "name": "stdout",
     "output_type": "stream",
     "text": [
      "<class 'pandas.core.frame.DataFrame'>\n",
      "Int64Index: 1971 entries, 0 to 1970\n",
      "Data columns (total 15 columns):\n",
      "tweet_id              1971 non-null object\n",
      "timestamp             1971 non-null datetime64[ns]\n",
      "source                1971 non-null object\n",
      "text                  1971 non-null object\n",
      "expanded_url          1971 non-null object\n",
      "rating_numerator      1970 non-null float64\n",
      "rating_denominator    1970 non-null float64\n",
      "name                  1349 non-null object\n",
      "jpg_url               1971 non-null object\n",
      "p1                    1971 non-null object\n",
      "p2                    1971 non-null object\n",
      "p3                    1971 non-null object\n",
      "dogtionary_stage      303 non-null object\n",
      "retweet_count         1971 non-null int64\n",
      "favorite_count        1971 non-null int64\n",
      "dtypes: datetime64[ns](1), float64(2), int64(2), object(10)\n",
      "memory usage: 246.4+ KB\n"
     ]
    }
   ],
   "source": [
    "wrd_clean_archive.info()"
   ]
  },
  {
   "cell_type": "markdown",
   "metadata": {},
   "source": [
    "<a id='store'></a>\n",
    "## Storing Data\n",
    "Save gathered, assessed, and cleaned master dataset to a CSV file named \"twitter_archive_master.csv\"."
   ]
  },
  {
   "cell_type": "code",
   "execution_count": 48,
   "metadata": {},
   "outputs": [],
   "source": [
    "# Copy the final dataframe\n",
    "twitter_archive_master = wrd_clean_archive.copy()\n",
    "\n",
    "# Export the dataframe to a CSV file in the current directory\n",
    "twitter_archive_master.to_csv('twitter_archive_master.csv', index=False)"
   ]
  },
  {
   "cell_type": "markdown",
   "metadata": {},
   "source": [
    "<a id='a/v'></a>\n",
    "## Analyzing and Visualizing Data\n",
    "In this section, I analyze and visualize the wrangled data, as well as produce at least three insights and one visualization."
   ]
  },
  {
   "cell_type": "markdown",
   "metadata": {},
   "source": [
    "### Question 1\n",
    "Which stage of the dogs in this dataset gets the most favorites?\n",
    "**<a href=\"#insights\">Insight</a>**"
   ]
  },
  {
   "cell_type": "code",
   "execution_count": 49,
   "metadata": {
    "scrolled": false
   },
   "outputs": [
    {
     "data": {
      "image/png": "[encoded data removed]",
      "text/plain": [
       "<matplotlib.figure.Figure at 0x7f49915e07f0>"
      ]
     },
     "metadata": {
      "needs_background": "light"
     },
     "output_type": "display_data"
    }
   ],
   "source": [
    "# Gather the rows that have values in the dogtionary_stage column\n",
    "df_with_stages = twitter_archive_master[twitter_archive_master['dogtionary_stage'].isnull()==False]\n",
    "\n",
    "# Gather the rows that only have the value \"doggo\", \"floofer\", \"pupper\", or \n",
    "# \"puppo\"\n",
    "df_stages = df_with_stages.query('dogtionary_stage==\"doggo\" or \\\n",
    "                                  dogtionary_stage==\"floofer\" or \\\n",
    "                                  dogtionary_stage==\"pupper\" or \\\n",
    "                                  dogtionary_stage==\"puppo\"')\n",
    "\n",
    "# Find the favorite count grouped by each of the four stages\n",
    "fav_counts = pd.DataFrame(df_stages.groupby('dogtionary_stage').favorite_count.mean().sort_values())\n",
    "fav_counts['dogtionary_stage'] = fav_counts.index\n",
    "\n",
    "fav_counts.plot(x='dogtionary_stage', y='favorite_count', kind='bar', \n",
    "                color='blue', alpha=0.7);\n",
    "plt.title('Number of Favorites by Dogtionary Stage');\n",
    "plt.xlabel('Dogtionary Stage', fontsize=12);\n",
    "plt.ylabel('Number of Favorites', fontsize=12);"
   ]
  },
  {
   "cell_type": "markdown",
   "metadata": {},
   "source": [
    "> This analysis and visualization utilized the following cleaned data:\n",
    "- The combination of the `doggo`, `floofer`, `pupper`, and `puppo` stages allows for querying a single column for certain values. \n",
    "- The merging of the column `favorite_count` with the main archive table allows for finding the combined favorite count for each of the four stages. "
   ]
  },
  {
   "cell_type": "markdown",
   "metadata": {},
   "source": [
    "### Question 2\n",
    "Which stage of the dogs in this dataset gets the most retweets?\n",
    "**<a href=\"#insights\">Insight</a>**"
   ]
  },
  {
   "cell_type": "code",
   "execution_count": 50,
   "metadata": {
    "scrolled": true
   },
   "outputs": [
    {
     "data": {
      "image/png": "[encoded data removed]",
      "text/plain": [
       "<matplotlib.figure.Figure at 0x7f498f571908>"
      ]
     },
     "metadata": {
      "needs_background": "light"
     },
     "output_type": "display_data"
    }
   ],
   "source": [
    "# Find the favorite count grouped by each of the four stages\n",
    "rt_counts = pd.DataFrame(df_stages.groupby('dogtionary_stage').retweet_count.mean().sort_values())\n",
    "\n",
    "rt_counts['dogtionary_stage'] = rt_counts.index\n",
    "\n",
    "rt_counts.plot(x='dogtionary_stage', y='retweet_count', kind='bar', \n",
    "               color='blue', alpha=0.7);\n",
    "plt.title('Number of Retweets by Dogtionary Stage');\n",
    "plt.xlabel('Dogtionary Stage', fontsize=12);\n",
    "plt.ylabel('Number of Retweets', fontsize=12);"
   ]
  },
  {
   "cell_type": "markdown",
   "metadata": {},
   "source": [
    "> This analysis and visualization utilized the following cleaned data:\n",
    "- The combination of the `doggo`, `floofer`, `pupper`, and `puppo` stages allows for querying a single column for certain values. \n",
    "- The merging of the column `retweet_count` with the main archive table allows for finding the combined favorite count for each of the four stages. "
   ]
  },
  {
   "cell_type": "markdown",
   "metadata": {},
   "source": [
    "### Question 3\n",
    "Is there a correlation between favorites and retweets?\n",
    "**<a href=\"#insights\">Insight</a>**"
   ]
  },
  {
   "cell_type": "code",
   "execution_count": 52,
   "metadata": {},
   "outputs": [
    {
     "data": {
      "image/png": "[encoded data removed]",
      "text/plain": [
       "<matplotlib.figure.Figure at 0x7f498f4149b0>"
      ]
     },
     "metadata": {
      "needs_background": "light"
     },
     "output_type": "display_data"
    }
   ],
   "source": [
    "sns.regplot(twitter_archive_master['favorite_count'], twitter_archive_master['retweet_count'])\n",
    "plt.title('Correlation Between Favorites and Retweets');\n",
    "plt.xlabel('Number of Favorites', fontsize=12);\n",
    "plt.ylabel('Number of Retweets', fontsize=12);"
   ]
  },
  {
   "cell_type": "markdown",
   "metadata": {},
   "source": [
    "> This analysis and visualization utilized the following cleaned data:\n",
    "- The merging of the columns `favorite_count` and `retweet_count` with the main archive table allows for creating a visualization depicting whether or not there is a correlation between the two sets of values. "
   ]
  },
  {
   "cell_type": "markdown",
   "metadata": {},
   "source": [
    "<a id='insights'></a>\n",
    "### Insights:\n",
    "1. The stage `puppo` gets the most favorites. \n",
    "\n",
    "2. The stage `doggo` gets the most retweets.\n",
    "\n",
    "3. There is a strong and positive relationship between `retweet_count` and `favorite_count`."
   ]
  }
 ],
 "metadata": {
  "extensions": {
   "jupyter_dashboards": {
    "activeView": "report_default",
    "version": 1,
    "views": {
     "grid_default": {
      "cellMargin": 10,
      "defaultCellHeight": 20,
      "maxColumns": 12,
      "name": "grid",
      "type": "grid"
     },
     "report_default": {
      "name": "report",
      "type": "report"
     }
    }
   }
  },
  "kernelspec": {
   "display_name": "Python 3 (ipykernel)",
   "language": "python",
   "name": "python3"
  },
  "language_info": {
   "codemirror_mode": {
    "name": "ipython",
    "version": 3
   },
   "file_extension": ".py",
   "mimetype": "text/x-python",
   "name": "python",
   "nbconvert_exporter": "python",
   "pygments_lexer": "ipython3",
   "version": "3.9.12"
  }
 },
 "nbformat": 4,
 "nbformat_minor": 2
}
